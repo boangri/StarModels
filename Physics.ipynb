{
 "cells": [
  {
   "cell_type": "code",
   "execution_count": null,
   "metadata": {},
   "outputs": [],
   "source": [
    "import math"
   ]
  },
  {
   "cell_type": "code",
   "execution_count": null,
   "metadata": {},
   "outputs": [],
   "source": [
    "pi = math.pi\n",
    "h = 1.054E-27  # reduced Planck constant\n",
    "c = 3e10  # speed of light\n",
    "G = 6.67E-8  # gravitational constant\n",
    "kB = 1.381E-16  # Boltzmann constant\n",
    "m_prot = 1.67E-24  # proton mass\n",
    "m_elec = 9.11E-28  # electron mass\n",
    "alpha = 137  # e2/h/c - fine structure constant\n",
    "e2 = h * c / alpha\n",
    "r_elec = e2 / m_elec / c / c  # classic electron radius\n",
    "sigmaT = 8 * pi / 3 * r_elec * r_elec  # Thomson electron scattering cross section\n",
    "kappaT = sigmaT / m_prot\n",
    "sigma = pow(pi, 2) * pow(kB, 4) / 60 * pow(h, -3) * pow(c, -2)  # sigma*T^4\n",
    "gamma = 5 / 3\n",
    "year = 365.25 * 24 * 3600  # seconds in a year\n",
    "eVolt = 1.6e-12  # ergs\n",
    "dEpp = (26.23 - 0.5) * 1e6 * eVolt  # energy output in (4p -> He) reaction minus neutrinos energy"
   ]
  },
  {
   "cell_type": "code",
   "execution_count": null,
   "metadata": {},
   "outputs": [],
   "source": [
    "# Equation of state\n",
    "def Pressure(den, T, X, Y, Z):\n",
    "    mu = 1 / (2 * X + 3 / 4 * Y + 1 / 2 * Z)\n",
    "    return den / m_prot / mu * kB * T"
   ]
  },
  {
   "cell_type": "code",
   "execution_count": null,
   "metadata": {},
   "outputs": [],
   "source": [
    "# Zeldovich, p.70, 71:\n",
    "# Energy generation rate in p-p cycle [erg/g/sm]\n",
    "def Epp(den, T, X):\n",
    "    T0 = (1e6, 5e6, 10e6, 15e6, 20e6, 30e6)\n",
    "    e0 = (4e-9, 1.8e-3, 6.8e-2, 0.377, 1.09, 4.01)\n",
    "    n = (10.6, 5.95, 4.60, 3.95, 3.64, 3.03)\n",
    "    found = False\n",
    "    for i in range(len(T0) - 1):\n",
    "        if T < pow(T0[i] * T0[i + 1], 0.5):\n",
    "            found = True\n",
    "            break\n",
    "        if not found:\n",
    "            i = len(T0) - 1\n",
    "    return den * X * X * e0[i] * pow(T / T0[i], n[i])\n",
    "\n",
    "\n",
    "# Energy generation rate in CNO cycle [erg/g/sm]\n",
    "def Ecno(den, T, X, XCNO):\n",
    "    T0 = (6e6, 10e6, 15e6, 20e6, 30e6, 50e6, 100e6)\n",
    "    e0 = (9e-10, 3.4e-4, 1.94, 4.5e2, 4.1e5, 6.2e8, 1.9e12)\n",
    "    n = (27.3, 22.9, 19.9, 18.0, 15.6, 13.6, 10.2)\n",
    "    found = False\n",
    "    for i in range(len(T0) - 1):\n",
    "        if T < pow(T0[i] * T0[i + 1], 0.5):\n",
    "            found = True\n",
    "            break\n",
    "    if not found:\n",
    "        i = len(T0) - 1\n",
    "    return den * X * XCNO * e0[i] * pow(T / T0[i], n[i])\n",
    "\n",
    "\n",
    "# Total energy generation\n",
    "def Etot(den, T, X, Y, Z):\n",
    "    return Epp(den, T, X) + Ecno(den, T, X, Z)\n",
    "\n",
    "\n",
    "def MU(X, Y, Z):\n",
    "    return 1 / (2 * X + 3 / 4 * Y + 1 / 2 * Z)"
   ]
  },
  {
   "cell_type": "code",
   "execution_count": null,
   "metadata": {},
   "outputs": [],
   "source": [
    "# Table data for opacity (taken from SSM18 model)\n",
    "Tst = [2120000., 2720000., 3400000., 4640000., 6030000.,\n",
    "       7270000., 8000000., 8770000., 9600000., 10200000., 10800000.,\n",
    "       11400000., 12400000., 13800000., 14800000., 15500000.]\n",
    "Kst = [9.94082840e+01, 3.60946746e+01,\n",
    "       1.03492885e+01, 1.64912281e+00, 4.35865504e-01, 1.73913043e-01,\n",
    "       1.08597285e-01, 7.14285714e-02, 4.93506494e-02, 3.93873085e-02,\n",
    "       3.17164179e-02, 2.53164557e-02, 1.77439797e-02, 1.20259019e-02,\n",
    "       8.96191187e-03, 7.03774792e-03]\n",
    "\n",
    "\n",
    "def OpacitySSM18(den, T, X, Y, Z):\n",
    "    if T <= Tst[0]:\n",
    "        return den * Kst[0]\n",
    "    for i in range(len(Tst) - 1):\n",
    "        if T <= Tst[i + 1]:\n",
    "            return den * (Kst[i] + (T - Tst[i]) / (Tst[i + 1] - Tst[i]) * (Kst[i + 1] - Kst[i]))\n",
    "    return den * Kst[-1]"
   ]
  },
  {
   "cell_type": "code",
   "execution_count": null,
   "metadata": {},
   "outputs": [],
   "source": [
    "def Opacity(den, T, X, Y, Z):\n",
    "    \"\"\"\n",
    "    Zeldovich p.52\n",
    "    :param den: density [g/sm3]\n",
    "    :param T: temperature [K]\n",
    "    :param X: hydrogen\n",
    "    :param Y: helium\n",
    "    :param Z: other\n",
    "    :return: opacity [sm3/g]\n",
    "    \"\"\"\n",
    "    T0 = 2e6\n",
    "    return 0.4 + 2.3*(1 - math.exp(-pow(T/T0, 9/2)))*7e22*den*pow(T, -7/2)*(X + Y)*(X + 0.5*Y)"
   ]
  },
  {
   "cell_type": "code",
   "execution_count": 2,
   "metadata": {},
   "outputs": [
    {
     "name": "stdout",
     "output_type": "stream",
     "text": [
      "Physics version 1.12 11.07.2020\n"
     ]
    }
   ],
   "source": [
    "print('Physics version 1.12 11.07.2020')"
   ]
  },
  {
   "cell_type": "code",
   "execution_count": null,
   "metadata": {},
   "outputs": [],
   "source": []
  }
 ],
 "metadata": {
  "kernelspec": {
   "display_name": "Python 3",
   "language": "python",
   "name": "python3"
  },
  "language_info": {
   "codemirror_mode": {
    "name": "ipython",
    "version": 3
   },
   "file_extension": ".py",
   "mimetype": "text/x-python",
   "name": "python",
   "nbconvert_exporter": "python",
   "pygments_lexer": "ipython3",
   "version": "3.7.4"
  }
 },
 "nbformat": 4,
 "nbformat_minor": 2
}
