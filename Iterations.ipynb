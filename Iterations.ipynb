{
 "cells": [
  {
   "cell_type": "markdown",
   "metadata": {},
   "source": [
    "# Iterations\n",
    "\n",
    "решение уравнений методом последовательных итераций.\n",
    "\n",
    "Постановка задачи:\n",
    "Известно решение (M-model) для некоторой эпохи, сделан расчет содержания водорода на новую эпоху,\n",
    "надо найти решение для новой эпохи, в предположении что решение изменилось не сильно."
   ]
  },
  {
   "cell_type": "code",
   "execution_count": 1,
   "metadata": {},
   "outputs": [],
   "source": [
    "import math\n",
    "import numpy as np\n",
    "import pandas as pd\n",
    "\n",
    "%matplotlib inline\n",
    "\n",
    "import matplotlib as mpl\n",
    "import matplotlib.pyplot as plt"
   ]
  },
  {
   "cell_type": "code",
   "execution_count": 2,
   "metadata": {},
   "outputs": [
    {
     "name": "stdout",
     "output_type": "stream",
     "text": [
      "importing Jupyter notebook from Physics.ipynb\n",
      "Physics version 1.14 13.07.2020\n",
      "importing Jupyter notebook from SSM18.ipynb\n",
      "SSM18 version 1.9 13.07.2020\n"
     ]
    }
   ],
   "source": [
    "import NotebookLoader\n",
    "import Physics as ph\n",
    "import SSM18 as s"
   ]
  },
  {
   "cell_type": "code",
   "execution_count": 3,
   "metadata": {},
   "outputs": [],
   "source": [
    "pi = math.pi\n",
    "Z = s.Z"
   ]
  },
  {
   "cell_type": "code",
   "execution_count": 4,
   "metadata": {},
   "outputs": [],
   "source": [
    "def load_model(epoch):\n",
    "    filename = 'Mass/3epoch%.02d.csv' % epoch\n",
    "    return pd.read_csv(filename)"
   ]
  },
  {
   "cell_type": "code",
   "execution_count": 47,
   "metadata": {},
   "outputs": [
    {
     "data": {
      "text/html": [
       "<div>\n",
       "<style scoped>\n",
       "    .dataframe tbody tr th:only-of-type {\n",
       "        vertical-align: middle;\n",
       "    }\n",
       "\n",
       "    .dataframe tbody tr th {\n",
       "        vertical-align: top;\n",
       "    }\n",
       "\n",
       "    .dataframe thead th {\n",
       "        text-align: right;\n",
       "    }\n",
       "</style>\n",
       "<table border=\"1\" class=\"dataframe\">\n",
       "  <thead>\n",
       "    <tr style=\"text-align: right;\">\n",
       "      <th></th>\n",
       "      <th>Unnamed: 0</th>\n",
       "      <th>Mass</th>\n",
       "      <th>Radius</th>\n",
       "      <th>Temperature</th>\n",
       "      <th>Density</th>\n",
       "      <th>Luminosity</th>\n",
       "      <th>Hydrogen</th>\n",
       "      <th>Opacity</th>\n",
       "      <th>Convection</th>\n",
       "      <th>Pressure</th>\n",
       "      <th>Velocity</th>\n",
       "    </tr>\n",
       "  </thead>\n",
       "  <tbody>\n",
       "    <tr>\n",
       "      <td>0</td>\n",
       "      <td>0</td>\n",
       "      <td>0.000000e+00</td>\n",
       "      <td>0.000000e+00</td>\n",
       "      <td>1.451000e+07</td>\n",
       "      <td>90.073858</td>\n",
       "      <td>0.000000e+00</td>\n",
       "      <td>0.732</td>\n",
       "      <td>1.445415</td>\n",
       "      <td>1.0</td>\n",
       "      <td>1.794120e+17</td>\n",
       "      <td>1.208753e-10</td>\n",
       "    </tr>\n",
       "    <tr>\n",
       "      <td>1</td>\n",
       "      <td>1</td>\n",
       "      <td>1.990588e+30</td>\n",
       "      <td>1.744864e+09</td>\n",
       "      <td>1.439966e+07</td>\n",
       "      <td>89.041127</td>\n",
       "      <td>3.337100e+31</td>\n",
       "      <td>0.732</td>\n",
       "      <td>1.461410</td>\n",
       "      <td>0.0</td>\n",
       "      <td>1.760063e+17</td>\n",
       "      <td>1.149243e-10</td>\n",
       "    </tr>\n",
       "    <tr>\n",
       "      <td>2</td>\n",
       "      <td>2</td>\n",
       "      <td>3.981176e+30</td>\n",
       "      <td>2.201408e+09</td>\n",
       "      <td>1.433513e+07</td>\n",
       "      <td>88.430509</td>\n",
       "      <td>6.557975e+31</td>\n",
       "      <td>0.732</td>\n",
       "      <td>1.470834</td>\n",
       "      <td>0.0</td>\n",
       "      <td>1.740159e+17</td>\n",
       "      <td>1.115997e-10</td>\n",
       "    </tr>\n",
       "    <tr>\n",
       "      <td>3</td>\n",
       "      <td>3</td>\n",
       "      <td>5.971765e+30</td>\n",
       "      <td>2.522902e+09</td>\n",
       "      <td>1.428116e+07</td>\n",
       "      <td>87.917179</td>\n",
       "      <td>9.694220e+31</td>\n",
       "      <td>0.732</td>\n",
       "      <td>1.478767</td>\n",
       "      <td>0.0</td>\n",
       "      <td>1.723544e+17</td>\n",
       "      <td>1.089033e-10</td>\n",
       "    </tr>\n",
       "    <tr>\n",
       "      <td>4</td>\n",
       "      <td>4</td>\n",
       "      <td>7.962353e+30</td>\n",
       "      <td>2.779701e+09</td>\n",
       "      <td>1.423310e+07</td>\n",
       "      <td>87.458197</td>\n",
       "      <td>1.275919e+32</td>\n",
       "      <td>0.732</td>\n",
       "      <td>1.485871</td>\n",
       "      <td>0.0</td>\n",
       "      <td>1.708776e+17</td>\n",
       "      <td>1.065640e-10</td>\n",
       "    </tr>\n",
       "    <tr>\n",
       "      <td>...</td>\n",
       "      <td>...</td>\n",
       "      <td>...</td>\n",
       "      <td>...</td>\n",
       "      <td>...</td>\n",
       "      <td>...</td>\n",
       "      <td>...</td>\n",
       "      <td>...</td>\n",
       "      <td>...</td>\n",
       "      <td>...</td>\n",
       "      <td>...</td>\n",
       "      <td>...</td>\n",
       "    </tr>\n",
       "    <tr>\n",
       "      <td>996</td>\n",
       "      <td>996</td>\n",
       "      <td>1.982626e+33</td>\n",
       "      <td>4.139110e+10</td>\n",
       "      <td>9.072824e+05</td>\n",
       "      <td>0.203440</td>\n",
       "      <td>3.562824e+33</td>\n",
       "      <td>0.732</td>\n",
       "      <td>1.486150</td>\n",
       "      <td>0.0</td>\n",
       "      <td>2.533749e+13</td>\n",
       "      <td>1.087433e-21</td>\n",
       "    </tr>\n",
       "    <tr>\n",
       "      <td>997</td>\n",
       "      <td>997</td>\n",
       "      <td>1.984616e+33</td>\n",
       "      <td>4.188541e+10</td>\n",
       "      <td>8.016714e+05</td>\n",
       "      <td>0.166783</td>\n",
       "      <td>3.562824e+33</td>\n",
       "      <td>0.732</td>\n",
       "      <td>1.191579</td>\n",
       "      <td>0.0</td>\n",
       "      <td>1.835411e+13</td>\n",
       "      <td>2.401102e-22</td>\n",
       "    </tr>\n",
       "    <tr>\n",
       "      <td>998</td>\n",
       "      <td>998</td>\n",
       "      <td>1.986607e+33</td>\n",
       "      <td>4.249698e+10</td>\n",
       "      <td>6.818832e+05</td>\n",
       "      <td>0.125189</td>\n",
       "      <td>3.562824e+33</td>\n",
       "      <td>0.732</td>\n",
       "      <td>0.907523</td>\n",
       "      <td>0.0</td>\n",
       "      <td>1.171825e+13</td>\n",
       "      <td>3.241820e-23</td>\n",
       "    </tr>\n",
       "    <tr>\n",
       "      <td>999</td>\n",
       "      <td>999</td>\n",
       "      <td>1.988598e+33</td>\n",
       "      <td>4.336443e+10</td>\n",
       "      <td>5.328578e+05</td>\n",
       "      <td>0.075302</td>\n",
       "      <td>3.562824e+33</td>\n",
       "      <td>0.732</td>\n",
       "      <td>0.639191</td>\n",
       "      <td>0.0</td>\n",
       "      <td>5.508131e+12</td>\n",
       "      <td>1.428180e-24</td>\n",
       "    </tr>\n",
       "    <tr>\n",
       "      <td>1000</td>\n",
       "      <td>1000</td>\n",
       "      <td>1.990588e+33</td>\n",
       "      <td>4.711133e+10</td>\n",
       "      <td>6.888845e+03</td>\n",
       "      <td>0.000021</td>\n",
       "      <td>3.562824e+33</td>\n",
       "      <td>0.732</td>\n",
       "      <td>0.400001</td>\n",
       "      <td>1.0</td>\n",
       "      <td>1.983956e+07</td>\n",
       "      <td>3.819832e-48</td>\n",
       "    </tr>\n",
       "  </tbody>\n",
       "</table>\n",
       "<p>1001 rows × 11 columns</p>\n",
       "</div>"
      ],
      "text/plain": [
       "      Unnamed: 0          Mass        Radius   Temperature    Density  \\\n",
       "0              0  0.000000e+00  0.000000e+00  1.451000e+07  90.073858   \n",
       "1              1  1.990588e+30  1.744864e+09  1.439966e+07  89.041127   \n",
       "2              2  3.981176e+30  2.201408e+09  1.433513e+07  88.430509   \n",
       "3              3  5.971765e+30  2.522902e+09  1.428116e+07  87.917179   \n",
       "4              4  7.962353e+30  2.779701e+09  1.423310e+07  87.458197   \n",
       "...          ...           ...           ...           ...        ...   \n",
       "996          996  1.982626e+33  4.139110e+10  9.072824e+05   0.203440   \n",
       "997          997  1.984616e+33  4.188541e+10  8.016714e+05   0.166783   \n",
       "998          998  1.986607e+33  4.249698e+10  6.818832e+05   0.125189   \n",
       "999          999  1.988598e+33  4.336443e+10  5.328578e+05   0.075302   \n",
       "1000        1000  1.990588e+33  4.711133e+10  6.888845e+03   0.000021   \n",
       "\n",
       "        Luminosity  Hydrogen   Opacity  Convection      Pressure      Velocity  \n",
       "0     0.000000e+00     0.732  1.445415         1.0  1.794120e+17  1.208753e-10  \n",
       "1     3.337100e+31     0.732  1.461410         0.0  1.760063e+17  1.149243e-10  \n",
       "2     6.557975e+31     0.732  1.470834         0.0  1.740159e+17  1.115997e-10  \n",
       "3     9.694220e+31     0.732  1.478767         0.0  1.723544e+17  1.089033e-10  \n",
       "4     1.275919e+32     0.732  1.485871         0.0  1.708776e+17  1.065640e-10  \n",
       "...            ...       ...       ...         ...           ...           ...  \n",
       "996   3.562824e+33     0.732  1.486150         0.0  2.533749e+13  1.087433e-21  \n",
       "997   3.562824e+33     0.732  1.191579         0.0  1.835411e+13  2.401102e-22  \n",
       "998   3.562824e+33     0.732  0.907523         0.0  1.171825e+13  3.241820e-23  \n",
       "999   3.562824e+33     0.732  0.639191         0.0  5.508131e+12  1.428180e-24  \n",
       "1000  3.562824e+33     0.732  0.400001         1.0  1.983956e+07  3.819832e-48  \n",
       "\n",
       "[1001 rows x 11 columns]"
      ]
     },
     "execution_count": 47,
     "metadata": {},
     "output_type": "execute_result"
    }
   ],
   "source": [
    "# Загружаем известное решение (M-model)\n",
    "epoch = 0\n",
    "df = load_model(epoch)\n",
    "dimM = len(df.index)\n",
    "df"
   ]
  },
  {
   "cell_type": "code",
   "execution_count": 48,
   "metadata": {},
   "outputs": [],
   "source": [
    "m = df.Mass.values\n",
    "r = df.Radius.values\n",
    "t = df.Temperature.values\n",
    "d = df.Density.values\n",
    "l = df.Luminosity.values\n",
    "x = df.Hydrogen.values\n",
    "k = df.Opacity.values\n",
    "c = df.Convection.values\n",
    "p = df.Pressure.values\n",
    "v = df.Velocity.values"
   ]
  },
  {
   "cell_type": "code",
   "execution_count": 49,
   "metadata": {},
   "outputs": [],
   "source": [
    "# d1 = d.copy()\n",
    "# t1 = t.copy()\n",
    "# x1 = x.copy()\n",
    "# # Вычисляем величины r,l,p,k,c,v из x,m,d,t\n",
    "# r[0] = 0.\n",
    "# l[0] = 0.\n",
    "# for i in range(1, dimM):\n",
    "#     r[i] = pow(pow(r[i-1], 3) + 3*(m[i] - m[i-1])/4/pi/d1[i-1], 1/3) \n",
    "#     l[i] = l[i-1] + (m[i] - m[i-1])*ph.Etot(0.5*(d1[i]+d1[i-1]), 0.5*(t1[i]+t1[i-1]), x1[i], 1 - Z - x1[i], Z)\n",
    "# for i in range(dimM):\n",
    "#     X = x1[i]\n",
    "#     Y = 1 - Z -X\n",
    "#     p[i] = ph.Pressure(d1[i], t1[i], X, Y, Z)\n",
    "#     k[i] = ph.Opacity(d1[i], t1[i], X, Y, Z)\n",
    "#     v[i] = 4*ph.m_prot*ph.Etot(d1[i], t1[i], X, Y, Z)/X/ph.dEpp*ph.year"
   ]
  },
  {
   "cell_type": "code",
   "execution_count": 50,
   "metadata": {},
   "outputs": [],
   "source": [
    "# a = np.zeros(dimM) # градиент давления\n",
    "\n",
    "# b = np.zeros(dimM) # градиент температуры\n",
    "# br = np.zeros(dimM) # градиент температуры при радиации\n",
    "# bc = np.zeros(dimM) # градиент температуры при конвекции\n",
    "ea = np.zeros(dimM) # несоответствие градиента давления\n",
    "eb = np.zeros(dimM) # несоответствие градиента температуры "
   ]
  },
  {
   "cell_type": "code",
   "execution_count": 51,
   "metadata": {},
   "outputs": [],
   "source": [
    "def Error(df):\n",
    "    \"\"\"\n",
    "    Вычисляем интегральную ошибку решения.\n",
    "    \n",
    "    Ошибка складывается из ошибок выполнения условий гидростатики и энергобаланса в каждой точке сетки кроме первой \n",
    "    и последней.\n",
    "    \n",
    "    :param df pandas.dataFrame - M-model\n",
    "    :return error\n",
    "    \"\"\"\n",
    "    m = df.Mass.values\n",
    "    r = df.Radius.values\n",
    "    t = df.Temperature.values\n",
    "    d = df.Density.values\n",
    "    l = df.Luminosity.values\n",
    "    x = df.Hydrogen.values\n",
    "    k = df.Opacity.values\n",
    "    c = df.Convection.values\n",
    "    p = df.Pressure.values\n",
    "    v = df.Velocity.values\n",
    "    dimM = len(df)\n",
    "    sa = 0\n",
    "    sb = 0\n",
    "    for i in range(1, dimM - 1):\n",
    "        X = x[i]\n",
    "        Y = 1 - Z - X\n",
    "        mu = ph.MU(X, Y, Z)\n",
    "        g = ph.G*m[i]/pow(r[i], 2)\n",
    "        a = -g*d[i]\n",
    "        da = (p[i+1] - p[i])/2/(r[i+1] - r[i]) + (p[i] - p[i-1])/2/(r[i] - r[i-1])\n",
    "        br = -3/16*k[i]*d[i]*l[i]/ph.sigma/pow(t[i], 3)/4/pi/pow(r[i], 2)\n",
    "        bc = -0.4*mu/ph.kB*ph.m_prot*g\n",
    "        if abs(br) < abs(bc):\n",
    "            b = br\n",
    "        else:\n",
    "            b = bc\n",
    "        db = (t[i+1] - t[i])/2/(r[i+1] - r[i]) + (t[i] - t[i-1])/2/(r[i] - r[i-1])\n",
    "        ea[i] = (da - a)/6760886\n",
    "        eb[i] = (db - b)/0.000324\n",
    "        sa += pow(ea[i], 2)\n",
    "        sb += pow(eb[i], 2)\n",
    "#     print(sa, sb)\n",
    "    return (sa*3 + sb)/0.09726621893099568"
   ]
  },
  {
   "cell_type": "code",
   "execution_count": 39,
   "metadata": {},
   "outputs": [],
   "source": [
    "df = df0.copy()"
   ]
  },
  {
   "cell_type": "code",
   "execution_count": 52,
   "metadata": {},
   "outputs": [
    {
     "data": {
      "text/plain": [
       "0.42324170657367943"
      ]
     },
     "execution_count": 52,
     "metadata": {},
     "output_type": "execute_result"
    }
   ],
   "source": [
    "Error(df)"
   ]
  },
  {
   "cell_type": "code",
   "execution_count": 58,
   "metadata": {
    "scrolled": false
   },
   "outputs": [
    {
     "data": {
      "image/png": "[encoded data removed]",
      "text/plain": [
       "<Figure size 1152x720 with 1 Axes>"
      ]
     },
     "metadata": {
      "needs_background": "light"
     },
     "output_type": "display_data"
    }
   ],
   "source": [
    "plt.figure(figsize=(16, 10))\n",
    "ax = plt.axes()\n",
    "# plt.plot(r1, c, color='black', label='Convection')\n",
    "plt.plot(m[2:-2]/s.M, ea[2:-2], color='red', label='hydro')\n",
    "plt.plot(m[2:-20]/s.M, eb[2:-20], color='blue', label='temp')\n",
    "# plt.xlim(-0.1,0.1)\n",
    "# plt.ylim(-0.1, 0.1)\n",
    "plt.xlabel('M/M_sol')\n",
    "plt.ylabel('')\n",
    "# plt.title('Error %.2f' % etot)\n",
    "ax.grid(b=True, which='both')\n",
    "ax.legend(fancybox=True, framealpha=1, shadow=True, borderpad=1);"
   ]
  },
  {
   "cell_type": "code",
   "execution_count": 59,
   "metadata": {},
   "outputs": [
    {
     "data": {
      "text/plain": [
       "(array([ 0.        , -0.23437523, -0.21668993, ...,  0.0924628 ,\n",
       "        -0.2017459 ,  0.        ]),\n",
       " array([ 0.00000000e+00,  7.94362024e+00,  1.24615318e+01, ...,\n",
       "        -2.62192173e-04, -3.90619174e-04,  0.00000000e+00]))"
      ]
     },
     "execution_count": 59,
     "metadata": {},
     "output_type": "execute_result"
    }
   ],
   "source": [
    "eb, ea\n"
   ]
  },
  {
   "cell_type": "code",
   "execution_count": 54,
   "metadata": {},
   "outputs": [],
   "source": [
    "NG = 60 \n",
    "err = np.zeros(NG + 1)\n",
    "df0 = df.copy() # сохраняем исходное решение для начальной эпохи.\n",
    "x0 = df0.Hydrogen.values.copy()\n",
    "x = x0*np.exp(-1e9*v)\n",
    "l[0] = 0.\n",
    "for i in range(dimM):\n",
    "    l[i] = l[i-1] + (m[i] - m[i-1])*ph.Etot(0.5*(d[i] + d[i-1]), 0.5*(t[i] + t[i-1]), x[i], 1 - Z - x[i], Z)\n",
    "# Теперь в df - начальное приближение для новой эпохи."
   ]
  },
  {
   "cell_type": "code",
   "execution_count": 55,
   "metadata": {},
   "outputs": [
    {
     "data": {
      "text/plain": [
       "2403.1788799521946"
      ]
     },
     "execution_count": 55,
     "metadata": {},
     "output_type": "execute_result"
    }
   ],
   "source": [
    "count = 0\n",
    "err[count] = Error(df)\n",
    "err[count]"
   ]
  },
  {
   "cell_type": "code",
   "execution_count": 57,
   "metadata": {
    "scrolled": false
   },
   "outputs": [
    {
     "name": "stdout",
     "output_type": "stream",
     "text": [
      "count=1 Error=7209.24 Ratio=-66.665\n",
      "Wall time: 75 ms\n"
     ]
    }
   ],
   "source": [
    "%%time\n",
    "\"\"\"\n",
    "Цикл итераций. NG - число итераций, count - переменная цикла.\n",
    "\"\"\"\n",
    "\n",
    "count = 0\n",
    "k0 = 0.0001\n",
    "\n",
    "while count < 1: #NG:\n",
    "    # Варьируем решения на величины, пропорциональные градиент, получая следующую итераци.\n",
    "    for i in range(1, dimM - 1):\n",
    "        r[i] = r[i]*(1 - k0*ea[i])\n",
    "        t[i] = t[i]*(1 - k0*eb[i])\n",
    "    d[0] = 3*m[1]/4/ph.pi/pow(r[1], 3)\n",
    "#     t[0] = ????\n",
    "    l[0] = 0.\n",
    "    for i in range(1, dimM - 1):\n",
    "        d[i] = 1/4/ph.pi/pow(r[i], 2)*(m[i+1] - m[i-1])/(r[i+1]-r[i-1])\n",
    "        l[i] = l[i-1] + (m[i] - m[i-1])*ph.Etot(0.5*(d[i] + d[i-1]), 0.5*(t[i] + t[i-1]), x[i], 1 - Z - x[i], Z)\n",
    "    for i in range(dimM - 1):\n",
    "        k[i] = ph.Opacity(d[i], t[i], x[i], 1 - Z - x[i], Z)\n",
    "        p[i] = ph.Pressure(d[i], t[i], x[i], 1 - Z - x[i], Z)\n",
    "#         print('i=%d r=%.2f r1=%.2f t=%.1f t1=%.1f' % (i, r[i], r1[i], t[i], t1[i]))\n",
    "    err0 = err[count]\n",
    "    count += 1\n",
    "    err1 = Error(df)\n",
    "    \n",
    "    err[count] = err1\n",
    "    print('count=%d Error=%.2f Ratio=%.3f' % (count, err[count], 100*err0/err1 - 100.))\n",
    "#     if err0 <= err1:\n",
    "#         break"
   ]
  },
  {
   "cell_type": "code",
   "execution_count": 145,
   "metadata": {},
   "outputs": [
    {
     "data": {
      "text/html": [
       "<div>\n",
       "<style scoped>\n",
       "    .dataframe tbody tr th:only-of-type {\n",
       "        vertical-align: middle;\n",
       "    }\n",
       "\n",
       "    .dataframe tbody tr th {\n",
       "        vertical-align: top;\n",
       "    }\n",
       "\n",
       "    .dataframe thead th {\n",
       "        text-align: right;\n",
       "    }\n",
       "</style>\n",
       "<table border=\"1\" class=\"dataframe\">\n",
       "  <thead>\n",
       "    <tr style=\"text-align: right;\">\n",
       "      <th></th>\n",
       "      <th>Mass</th>\n",
       "      <th>Radius</th>\n",
       "      <th>Temperature</th>\n",
       "      <th>Density</th>\n",
       "      <th>Luminosity</th>\n",
       "      <th>Hydrogen</th>\n",
       "      <th>Opacity</th>\n",
       "      <th>Pressure</th>\n",
       "      <th>Velocity</th>\n",
       "    </tr>\n",
       "  </thead>\n",
       "  <tbody>\n",
       "    <tr>\n",
       "      <td>0</td>\n",
       "      <td>0.000000e+00</td>\n",
       "      <td>0.000000e+00</td>\n",
       "      <td>1.476102e+07</td>\n",
       "      <td>95.295625</td>\n",
       "      <td>0.000000e+00</td>\n",
       "      <td>0.648658</td>\n",
       "      <td>1.390872</td>\n",
       "      <td>1.809783e+17</td>\n",
       "      <td>1.257492e-10</td>\n",
       "    </tr>\n",
       "    <tr>\n",
       "      <td>1</td>\n",
       "      <td>1.990588e+30</td>\n",
       "      <td>1.708467e+09</td>\n",
       "      <td>1.463609e+07</td>\n",
       "      <td>94.237343</td>\n",
       "      <td>3.113680e+31</td>\n",
       "      <td>0.652529</td>\n",
       "      <td>1.411856</td>\n",
       "      <td>1.780057e+17</td>\n",
       "      <td>1.192188e-10</td>\n",
       "    </tr>\n",
       "    <tr>\n",
       "      <td>2</td>\n",
       "      <td>3.981176e+30</td>\n",
       "      <td>2.156555e+09</td>\n",
       "      <td>1.455812e+07</td>\n",
       "      <td>93.620852</td>\n",
       "      <td>6.103297e+31</td>\n",
       "      <td>0.654702</td>\n",
       "      <td>1.425568</td>\n",
       "      <td>1.762054e+17</td>\n",
       "      <td>1.154029e-10</td>\n",
       "    </tr>\n",
       "    <tr>\n",
       "      <td>3</td>\n",
       "      <td>5.971765e+30</td>\n",
       "      <td>2.471982e+09</td>\n",
       "      <td>1.449126e+07</td>\n",
       "      <td>93.102711</td>\n",
       "      <td>9.011494e+31</td>\n",
       "      <td>0.656470</td>\n",
       "      <td>1.437577</td>\n",
       "      <td>1.746720e+17</td>\n",
       "      <td>1.122645e-10</td>\n",
       "    </tr>\n",
       "    <tr>\n",
       "      <td>4</td>\n",
       "      <td>7.962353e+30</td>\n",
       "      <td>2.723875e+09</td>\n",
       "      <td>1.443079e+07</td>\n",
       "      <td>92.637631</td>\n",
       "      <td>1.185084e+32</td>\n",
       "      <td>0.658008</td>\n",
       "      <td>1.448599</td>\n",
       "      <td>1.732866e+17</td>\n",
       "      <td>1.095219e-10</td>\n",
       "    </tr>\n",
       "    <tr>\n",
       "      <td>...</td>\n",
       "      <td>...</td>\n",
       "      <td>...</td>\n",
       "      <td>...</td>\n",
       "      <td>...</td>\n",
       "      <td>...</td>\n",
       "      <td>...</td>\n",
       "      <td>...</td>\n",
       "      <td>...</td>\n",
       "      <td>...</td>\n",
       "    </tr>\n",
       "    <tr>\n",
       "      <td>996</td>\n",
       "      <td>1.982626e+33</td>\n",
       "      <td>4.110901e+10</td>\n",
       "      <td>9.075170e+05</td>\n",
       "      <td>0.204089</td>\n",
       "      <td>3.337344e+33</td>\n",
       "      <td>0.732000</td>\n",
       "      <td>2.761272</td>\n",
       "      <td>2.542492e+13</td>\n",
       "      <td>1.093885e-21</td>\n",
       "    </tr>\n",
       "    <tr>\n",
       "      <td>997</td>\n",
       "      <td>1.984616e+33</td>\n",
       "      <td>4.156326e+10</td>\n",
       "      <td>8.019864e+05</td>\n",
       "      <td>0.167307</td>\n",
       "      <td>3.337344e+33</td>\n",
       "      <td>0.732000</td>\n",
       "      <td>2.357034</td>\n",
       "      <td>1.841899e+13</td>\n",
       "      <td>2.418664e-22</td>\n",
       "    </tr>\n",
       "    <tr>\n",
       "      <td>998</td>\n",
       "      <td>1.986607e+33</td>\n",
       "      <td>4.210426e+10</td>\n",
       "      <td>6.822346e+05</td>\n",
       "      <td>0.125576</td>\n",
       "      <td>3.337344e+33</td>\n",
       "      <td>0.732000</td>\n",
       "      <td>1.881852</td>\n",
       "      <td>1.176054e+13</td>\n",
       "      <td>3.269625e-23</td>\n",
       "    </tr>\n",
       "    <tr>\n",
       "      <td>999</td>\n",
       "      <td>1.988598e+33</td>\n",
       "      <td>4.280412e+10</td>\n",
       "      <td>5.331910e+05</td>\n",
       "      <td>0.075531</td>\n",
       "      <td>3.337344e+33</td>\n",
       "      <td>0.732000</td>\n",
       "      <td>1.297275</td>\n",
       "      <td>5.528353e+12</td>\n",
       "      <td>1.442041e-24</td>\n",
       "    </tr>\n",
       "    <tr>\n",
       "      <td>1000</td>\n",
       "      <td>1.990588e+33</td>\n",
       "      <td>4.391946e+10</td>\n",
       "      <td>6.893826e+03</td>\n",
       "      <td>0.000021</td>\n",
       "      <td>3.337344e+33</td>\n",
       "      <td>0.732000</td>\n",
       "      <td>0.400251</td>\n",
       "      <td>1.991341e+07</td>\n",
       "      <td>3.860743e-48</td>\n",
       "    </tr>\n",
       "  </tbody>\n",
       "</table>\n",
       "<p>1001 rows × 9 columns</p>\n",
       "</div>"
      ],
      "text/plain": [
       "              Mass        Radius   Temperature    Density    Luminosity  \\\n",
       "0     0.000000e+00  0.000000e+00  1.476102e+07  95.295625  0.000000e+00   \n",
       "1     1.990588e+30  1.708467e+09  1.463609e+07  94.237343  3.113680e+31   \n",
       "2     3.981176e+30  2.156555e+09  1.455812e+07  93.620852  6.103297e+31   \n",
       "3     5.971765e+30  2.471982e+09  1.449126e+07  93.102711  9.011494e+31   \n",
       "4     7.962353e+30  2.723875e+09  1.443079e+07  92.637631  1.185084e+32   \n",
       "...            ...           ...           ...        ...           ...   \n",
       "996   1.982626e+33  4.110901e+10  9.075170e+05   0.204089  3.337344e+33   \n",
       "997   1.984616e+33  4.156326e+10  8.019864e+05   0.167307  3.337344e+33   \n",
       "998   1.986607e+33  4.210426e+10  6.822346e+05   0.125576  3.337344e+33   \n",
       "999   1.988598e+33  4.280412e+10  5.331910e+05   0.075531  3.337344e+33   \n",
       "1000  1.990588e+33  4.391946e+10  6.893826e+03   0.000021  3.337344e+33   \n",
       "\n",
       "      Hydrogen   Opacity      Pressure      Velocity  \n",
       "0     0.648658  1.390872  1.809783e+17  1.257492e-10  \n",
       "1     0.652529  1.411856  1.780057e+17  1.192188e-10  \n",
       "2     0.654702  1.425568  1.762054e+17  1.154029e-10  \n",
       "3     0.656470  1.437577  1.746720e+17  1.122645e-10  \n",
       "4     0.658008  1.448599  1.732866e+17  1.095219e-10  \n",
       "...        ...       ...           ...           ...  \n",
       "996   0.732000  2.761272  2.542492e+13  1.093885e-21  \n",
       "997   0.732000  2.357034  1.841899e+13  2.418664e-22  \n",
       "998   0.732000  1.881852  1.176054e+13  3.269625e-23  \n",
       "999   0.732000  1.297275  5.528353e+12  1.442041e-24  \n",
       "1000  0.732000  0.400251  1.991341e+07  3.860743e-48  \n",
       "\n",
       "[1001 rows x 9 columns]"
      ]
     },
     "execution_count": 145,
     "metadata": {},
     "output_type": "execute_result"
    }
   ],
   "source": [
    "df1 = pd.DataFrame({'Mass': m, 'Radius': r, 'Temperature': t1, 'Density': d1, \n",
    "          'Luminosity': l, 'Hydrogen': x1, 'Opacity': k, 'Pressure': p, 'Velocity': v})\n",
    "df1"
   ]
  },
  {
   "cell_type": "code",
   "execution_count": 146,
   "metadata": {},
   "outputs": [
    {
     "name": "stdout",
     "output_type": "stream",
     "text": [
      "Mass/3epoch01.csv\n"
     ]
    }
   ],
   "source": [
    "epoch = 1\n",
    "_ = df1.to_csv(line_terminator='\\n')\n",
    "filename = \"Mass/3epoch%.02d.csv\" % epoch\n",
    "print(filename)\n",
    "csv_file = open(filename, \"wt\")\n",
    "n = csv_file.write(_)\n",
    "csv_file.close()"
   ]
  },
  {
   "cell_type": "code",
   "execution_count": 147,
   "metadata": {},
   "outputs": [
    {
     "data": {
      "text/plain": [
       "array([9.00738577e+01, 8.90411272e+01, 8.84305086e+01, ...,\n",
       "       1.25189351e-01, 7.53021785e-02, 2.09797553e-05])"
      ]
     },
     "execution_count": 147,
     "metadata": {},
     "output_type": "execute_result"
    }
   ],
   "source": [
    "epoch = 0\n",
    "df = load_model(epoch)\n",
    "d = df['Density'].values\n",
    "t = df['Temperature'].values\n",
    "d"
   ]
  },
  {
   "cell_type": "code",
   "execution_count": 148,
   "metadata": {},
   "outputs": [
    {
     "data": {
      "image/png": "[encoded data removed]",
      "text/plain": [
       "<Figure size 1152x720 with 1 Axes>"
      ]
     },
     "metadata": {
      "needs_background": "light"
     },
     "output_type": "display_data"
    }
   ],
   "source": [
    "m1 = m/s.M\n",
    "plt.figure(figsize=(16, 10))\n",
    "ax = plt.axes()\n",
    "# plt.plot(r1, c, color='black', label='Convection')\n",
    "plt.plot(m1, d1/d, color='red', label='d1/d')\n",
    "plt.plot(m1, t1/t, color='blue', label='t1/t0')\n",
    "# plt.xlim(-0.1,0.1)\n",
    "# plt.ylim(-0.1, 0.1)\n",
    "plt.xlabel('M/M_sol')\n",
    "plt.ylabel('')\n",
    "plt.title('Solar model - epoch %d' % epoch)\n",
    "ax.grid(b=True, which='both')\n",
    "ax.legend(fancybox=True, framealpha=1, shadow=True, borderpad=1);"
   ]
  },
  {
   "cell_type": "code",
   "execution_count": 149,
   "metadata": {},
   "outputs": [],
   "source": [
    "ea = np.zeros(dimM)\n",
    "eb = np.zeros(dimM)\n",
    "for i in range(1, dimM-1):\n",
    "    ea[i] = 3*pow((da[i] - a[i])/6760886, 2)\n",
    "    eb[i] = pow((db[i] - b[i])/0.000324, 2)\n",
    "sa = ea.sum()\n",
    "sb = eb.sum()\n",
    "etot = (sa + sb)/0.09726621893099568"
   ]
  },
  {
   "cell_type": "code",
   "execution_count": 37,
   "metadata": {},
   "outputs": [
    {
     "data": {
      "image/png": "[encoded data removed]",
      "text/plain": [
       "<Figure size 1152x720 with 1 Axes>"
      ]
     },
     "metadata": {
      "needs_background": "light"
     },
     "output_type": "display_data"
    }
   ],
   "source": [
    "plt.figure(figsize=(16, 10))\n",
    "ax = plt.axes()\n",
    "# plt.plot(r1, c, color='black', label='Convection')\n",
    "plt.plot(m[2:-2], ea[2:-2], color='red', label='hydro')\n",
    "plt.plot(m[2:-20], eb[2:-20], color='blue', label='temp')\n",
    "# plt.xlim(-0.1,0.1)\n",
    "# plt.ylim(-0.1, 0.1)\n",
    "plt.xlabel('M/M_sol')\n",
    "plt.ylabel('')\n",
    "# plt.title('Error %.2f' % etot)\n",
    "ax.grid(b=True, which='both')\n",
    "ax.legend(fancybox=True, framealpha=1, shadow=True, borderpad=1);"
   ]
  },
  {
   "cell_type": "code",
   "execution_count": null,
   "metadata": {},
   "outputs": [],
   "source": []
  }
 ],
 "metadata": {
  "kernelspec": {
   "display_name": "Python 3",
   "language": "python",
   "name": "python3"
  },
  "language_info": {
   "codemirror_mode": {
    "name": "ipython",
    "version": 3
   },
   "file_extension": ".py",
   "mimetype": "text/x-python",
   "name": "python",
   "nbconvert_exporter": "python",
   "pygments_lexer": "ipython3",
   "version": "3.7.4"
  }
 },
 "nbformat": 4,
 "nbformat_minor": 2
}
