{
 "cells": [
  {
   "cell_type": "markdown",
   "metadata": {},
   "source": [
    "# Iterations\n",
    "\n",
    "решение уравнений методом последовательных итераций.\n",
    "\n",
    "Постановка задачи:\n",
    "Известно решение (M-model) для некоторой эпохи, сделан расчет содержания водорода на новую эпоху,\n",
    "надо найти решение для новой эпохи, в предположении что решение изменилось не сильно."
   ]
  },
  {
   "cell_type": "code",
   "execution_count": 193,
   "metadata": {},
   "outputs": [],
   "source": [
    "import math\n",
    "import numpy as np\n",
    "import pandas as pd\n",
    "\n",
    "%matplotlib inline\n",
    "\n",
    "import matplotlib as mpl\n",
    "import matplotlib.pyplot as plt"
   ]
  },
  {
   "cell_type": "code",
   "execution_count": 194,
   "metadata": {},
   "outputs": [],
   "source": [
    "import NotebookLoader\n",
    "import Physics as ph\n",
    "import SSM18 as s"
   ]
  },
  {
   "cell_type": "code",
   "execution_count": 195,
   "metadata": {},
   "outputs": [],
   "source": [
    "pi = math.pi\n",
    "Z = s.Z"
   ]
  },
  {
   "cell_type": "code",
   "execution_count": 196,
   "metadata": {},
   "outputs": [],
   "source": [
    "def load_model(epoch):\n",
    "#     filename = 'Mass/4epoch%.02d.csv' % epoch\n",
    "    filename = 'FromCenter/4epoch%.02d.csv' % epoch\n",
    "    return pd.read_csv(filename)"
   ]
  },
  {
   "cell_type": "code",
   "execution_count": 304,
   "metadata": {
    "scrolled": true
   },
   "outputs": [
    {
     "data": {
      "text/html": [
       "<div>\n",
       "<style scoped>\n",
       "    .dataframe tbody tr th:only-of-type {\n",
       "        vertical-align: middle;\n",
       "    }\n",
       "\n",
       "    .dataframe tbody tr th {\n",
       "        vertical-align: top;\n",
       "    }\n",
       "\n",
       "    .dataframe thead th {\n",
       "        text-align: right;\n",
       "    }\n",
       "</style>\n",
       "<table border=\"1\" class=\"dataframe\">\n",
       "  <thead>\n",
       "    <tr style=\"text-align: right;\">\n",
       "      <th></th>\n",
       "      <th>Unnamed: 0</th>\n",
       "      <th>Mass</th>\n",
       "      <th>Radius</th>\n",
       "      <th>Temperature</th>\n",
       "      <th>Density</th>\n",
       "      <th>Luminosity</th>\n",
       "      <th>Hydrogen</th>\n",
       "      <th>Opacity</th>\n",
       "      <th>Convection</th>\n",
       "      <th>Pressure</th>\n",
       "      <th>Velocity</th>\n",
       "    </tr>\n",
       "  </thead>\n",
       "  <tbody>\n",
       "    <tr>\n",
       "      <td>0</td>\n",
       "      <td>0</td>\n",
       "      <td>0.000000e+00</td>\n",
       "      <td>0.000000e+00</td>\n",
       "      <td>1.451000e+07</td>\n",
       "      <td>90.088552</td>\n",
       "      <td>0.000000e+00</td>\n",
       "      <td>0.732</td>\n",
       "      <td>1.445585</td>\n",
       "      <td>0.0</td>\n",
       "      <td>1.794413e+17</td>\n",
       "      <td>1.208950e-10</td>\n",
       "    </tr>\n",
       "    <tr>\n",
       "      <td>1</td>\n",
       "      <td>1</td>\n",
       "      <td>7.513729e+23</td>\n",
       "      <td>1.258054e+07</td>\n",
       "      <td>1.451000e+07</td>\n",
       "      <td>90.088462</td>\n",
       "      <td>1.298535e+25</td>\n",
       "      <td>0.732</td>\n",
       "      <td>1.445584</td>\n",
       "      <td>0.0</td>\n",
       "      <td>1.794411e+17</td>\n",
       "      <td>1.208948e-10</td>\n",
       "    </tr>\n",
       "    <tr>\n",
       "      <td>2</td>\n",
       "      <td>2</td>\n",
       "      <td>6.010983e+24</td>\n",
       "      <td>2.516108e+07</td>\n",
       "      <td>1.450999e+07</td>\n",
       "      <td>90.088353</td>\n",
       "      <td>1.038826e+26</td>\n",
       "      <td>0.732</td>\n",
       "      <td>1.445586</td>\n",
       "      <td>0.0</td>\n",
       "      <td>1.794407e+17</td>\n",
       "      <td>1.208942e-10</td>\n",
       "    </tr>\n",
       "    <tr>\n",
       "      <td>3</td>\n",
       "      <td>3</td>\n",
       "      <td>2.028704e+25</td>\n",
       "      <td>3.774162e+07</td>\n",
       "      <td>1.450997e+07</td>\n",
       "      <td>90.088137</td>\n",
       "      <td>3.506012e+26</td>\n",
       "      <td>0.732</td>\n",
       "      <td>1.445589</td>\n",
       "      <td>0.0</td>\n",
       "      <td>1.794400e+17</td>\n",
       "      <td>1.208929e-10</td>\n",
       "    </tr>\n",
       "    <tr>\n",
       "      <td>4</td>\n",
       "      <td>4</td>\n",
       "      <td>4.808770e+25</td>\n",
       "      <td>5.032217e+07</td>\n",
       "      <td>1.450993e+07</td>\n",
       "      <td>90.087811</td>\n",
       "      <td>8.310454e+26</td>\n",
       "      <td>0.732</td>\n",
       "      <td>1.445594</td>\n",
       "      <td>0.0</td>\n",
       "      <td>1.794389e+17</td>\n",
       "      <td>1.208910e-10</td>\n",
       "    </tr>\n",
       "    <tr>\n",
       "      <td>...</td>\n",
       "      <td>...</td>\n",
       "      <td>...</td>\n",
       "      <td>...</td>\n",
       "      <td>...</td>\n",
       "      <td>...</td>\n",
       "      <td>...</td>\n",
       "      <td>...</td>\n",
       "      <td>...</td>\n",
       "      <td>...</td>\n",
       "      <td>...</td>\n",
       "      <td>...</td>\n",
       "    </tr>\n",
       "    <tr>\n",
       "      <td>9912</td>\n",
       "      <td>9912</td>\n",
       "      <td>1.991121e+33</td>\n",
       "      <td>4.739400e+10</td>\n",
       "      <td>6.892412e+03</td>\n",
       "      <td>0.000088</td>\n",
       "      <td>3.565993e+33</td>\n",
       "      <td>0.732</td>\n",
       "      <td>0.401054</td>\n",
       "      <td>1.0</td>\n",
       "      <td>8.357322e+07</td>\n",
       "      <td>1.617101e-47</td>\n",
       "    </tr>\n",
       "    <tr>\n",
       "      <td>9913</td>\n",
       "      <td>9913</td>\n",
       "      <td>1.991121e+33</td>\n",
       "      <td>4.739403e+10</td>\n",
       "      <td>6.887369e+03</td>\n",
       "      <td>0.000088</td>\n",
       "      <td>3.565993e+33</td>\n",
       "      <td>0.732</td>\n",
       "      <td>0.401053</td>\n",
       "      <td>1.0</td>\n",
       "      <td>8.342037e+07</td>\n",
       "      <td>1.602843e-47</td>\n",
       "    </tr>\n",
       "    <tr>\n",
       "      <td>9914</td>\n",
       "      <td>9914</td>\n",
       "      <td>1.991121e+33</td>\n",
       "      <td>4.739406e+10</td>\n",
       "      <td>6.882327e+03</td>\n",
       "      <td>0.000088</td>\n",
       "      <td>3.565993e+33</td>\n",
       "      <td>0.732</td>\n",
       "      <td>0.401052</td>\n",
       "      <td>1.0</td>\n",
       "      <td>8.326769e+07</td>\n",
       "      <td>1.588700e-47</td>\n",
       "    </tr>\n",
       "    <tr>\n",
       "      <td>9915</td>\n",
       "      <td>9915</td>\n",
       "      <td>1.991121e+33</td>\n",
       "      <td>4.739409e+10</td>\n",
       "      <td>6.877285e+03</td>\n",
       "      <td>0.000088</td>\n",
       "      <td>3.565993e+33</td>\n",
       "      <td>0.732</td>\n",
       "      <td>0.401051</td>\n",
       "      <td>1.0</td>\n",
       "      <td>8.311518e+07</td>\n",
       "      <td>1.574673e-47</td>\n",
       "    </tr>\n",
       "    <tr>\n",
       "      <td>9916</td>\n",
       "      <td>9916</td>\n",
       "      <td>1.991121e+33</td>\n",
       "      <td>4.739412e+10</td>\n",
       "      <td>6.872243e+03</td>\n",
       "      <td>0.000088</td>\n",
       "      <td>3.565993e+33</td>\n",
       "      <td>0.732</td>\n",
       "      <td>0.401050</td>\n",
       "      <td>1.0</td>\n",
       "      <td>8.296284e+07</td>\n",
       "      <td>1.560758e-47</td>\n",
       "    </tr>\n",
       "  </tbody>\n",
       "</table>\n",
       "<p>9917 rows × 11 columns</p>\n",
       "</div>"
      ],
      "text/plain": [
       "      Unnamed: 0          Mass        Radius   Temperature    Density  \\\n",
       "0              0  0.000000e+00  0.000000e+00  1.451000e+07  90.088552   \n",
       "1              1  7.513729e+23  1.258054e+07  1.451000e+07  90.088462   \n",
       "2              2  6.010983e+24  2.516108e+07  1.450999e+07  90.088353   \n",
       "3              3  2.028704e+25  3.774162e+07  1.450997e+07  90.088137   \n",
       "4              4  4.808770e+25  5.032217e+07  1.450993e+07  90.087811   \n",
       "...          ...           ...           ...           ...        ...   \n",
       "9912        9912  1.991121e+33  4.739400e+10  6.892412e+03   0.000088   \n",
       "9913        9913  1.991121e+33  4.739403e+10  6.887369e+03   0.000088   \n",
       "9914        9914  1.991121e+33  4.739406e+10  6.882327e+03   0.000088   \n",
       "9915        9915  1.991121e+33  4.739409e+10  6.877285e+03   0.000088   \n",
       "9916        9916  1.991121e+33  4.739412e+10  6.872243e+03   0.000088   \n",
       "\n",
       "        Luminosity  Hydrogen   Opacity  Convection      Pressure      Velocity  \n",
       "0     0.000000e+00     0.732  1.445585         0.0  1.794413e+17  1.208950e-10  \n",
       "1     1.298535e+25     0.732  1.445584         0.0  1.794411e+17  1.208948e-10  \n",
       "2     1.038826e+26     0.732  1.445586         0.0  1.794407e+17  1.208942e-10  \n",
       "3     3.506012e+26     0.732  1.445589         0.0  1.794400e+17  1.208929e-10  \n",
       "4     8.310454e+26     0.732  1.445594         0.0  1.794389e+17  1.208910e-10  \n",
       "...            ...       ...       ...         ...           ...           ...  \n",
       "9912  3.565993e+33     0.732  0.401054         1.0  8.357322e+07  1.617101e-47  \n",
       "9913  3.565993e+33     0.732  0.401053         1.0  8.342037e+07  1.602843e-47  \n",
       "9914  3.565993e+33     0.732  0.401052         1.0  8.326769e+07  1.588700e-47  \n",
       "9915  3.565993e+33     0.732  0.401051         1.0  8.311518e+07  1.574673e-47  \n",
       "9916  3.565993e+33     0.732  0.401050         1.0  8.296284e+07  1.560758e-47  \n",
       "\n",
       "[9917 rows x 11 columns]"
      ]
     },
     "execution_count": 304,
     "metadata": {},
     "output_type": "execute_result"
    }
   ],
   "source": [
    "# Загружаем известное решение (M-model)\n",
    "epoch = 0\n",
    "df = load_model(epoch)\n",
    "dimM = len(df.index)\n",
    "df"
   ]
  },
  {
   "cell_type": "code",
   "execution_count": 305,
   "metadata": {},
   "outputs": [],
   "source": [
    "m = df.Mass.values\n",
    "r = df.Radius.values\n",
    "t = df.Temperature.values\n",
    "d = df.Density.values\n",
    "l = df.Luminosity.values\n",
    "x = df.Hydrogen.values\n",
    "k = df.Opacity.values\n",
    "c = df.Convection.values\n",
    "p = df.Pressure.values\n",
    "v = df.Velocity.values"
   ]
  },
  {
   "cell_type": "code",
   "execution_count": 306,
   "metadata": {},
   "outputs": [],
   "source": [
    "ea = np.zeros(dimM) # несоответствие градиента давления\n",
    "eb = np.zeros(dimM) # несоответствие градиента температуры "
   ]
  },
  {
   "cell_type": "code",
   "execution_count": 307,
   "metadata": {},
   "outputs": [],
   "source": [
    "def Error(df):\n",
    "    \"\"\"\n",
    "    Вычисляем интегральную ошибку решения.\n",
    "    \n",
    "    Ошибка складывается из ошибок выполнения условий гидростатики и энергобаланса в каждой точке сетки кроме первой \n",
    "    и последней.\n",
    "    \n",
    "    :param df pandas.dataFrame - M-model\n",
    "    :return error\n",
    "    \"\"\"\n",
    "    m = df.Mass.values\n",
    "    r = df.Radius.values\n",
    "    t = df.Temperature.values\n",
    "    d = df.Density.values\n",
    "    l = df.Luminosity.values\n",
    "    x = df.Hydrogen.values\n",
    "    k = df.Opacity.values\n",
    "    c = df.Convection.values\n",
    "    p = df.Pressure.values\n",
    "    v = df.Velocity.values\n",
    "    dimM = len(df)\n",
    "    sa = 0\n",
    "    sb = 0\n",
    "    #for i = 0:\n",
    "    X = x[0]\n",
    "    Y = 1 - Z - X\n",
    "    mu = ph.MU(X, Y, Z)\n",
    "    a = 0.\n",
    "    da = (p[1] - p[0])/r[1]\n",
    "    b = 0.\n",
    "    db = (t[1] - t[0])/r[1]\n",
    "    ea[0] = (da - a)/6760886\n",
    "    eb[0] = (db - b)/0.000324\n",
    "    sa += pow(ea[0], 2)\n",
    "    sb += pow(eb[0], 2)\n",
    "    for i in range(1, dimM - 1):\n",
    "        X = x[i]\n",
    "        Y = 1 - Z - X\n",
    "        mu = ph.MU(X, Y, Z)\n",
    "        g = ph.G*m[i]/pow(r[i], 2)\n",
    "        a = -g*d[i]\n",
    "        da = (p[i+1] - p[i])/2/(r[i+1] - r[i]) + (p[i] - p[i-1])/2/(r[i] - r[i-1])\n",
    "        br = 3/16*k[i]*d[i]*l[i]/ph.sigma/pow(t[i], 3)/4/pi/pow(r[i], 2)\n",
    "        bc = 0.4*mu/ph.kB*ph.m_prot*g\n",
    "        if br < bc:\n",
    "            b = -br\n",
    "        else:\n",
    "            b = -bc\n",
    "        db = (t[i+1] - t[i])/2/(r[i+1] - r[i]) + (t[i] - t[i-1])/2/(r[i] - r[i-1])\n",
    "        ea[i] = (da - a)/6760886\n",
    "        eb[i] = (db - b)/0.000324\n",
    "        sa += pow(ea[i], 2)\n",
    "        sb += pow(eb[i], 2)\n",
    "    #for i = dimM-1:\n",
    "    X = x[-1]\n",
    "    Y = 1 - Z - X\n",
    "    mu = ph.MU(X, Y, Z)\n",
    "    g = ph.G*m[i]/pow(r[-1], 2)\n",
    "    a = -g*d[-1]\n",
    "    da = (p[-1] - p[-2])/(r[-1] - r[-2])\n",
    "    br = 3/16*k[-1]*d[-1]*l[-1]/ph.sigma/pow(t[-1], 3)/4/pi/pow(r[-1], 2)\n",
    "    bc = 0.4*mu/ph.kB*ph.m_prot*g\n",
    "    if br < bc:\n",
    "        b = -br\n",
    "    else:\n",
    "        b = -bc\n",
    "    db = (t[-1] - t[-2])/(r[-1] - r[-2])\n",
    "    ea[-1] = (da - a)/6760886\n",
    "    eb[-1] = (db - b)/0.000324\n",
    "    sa += pow(ea[-1], 2)\n",
    "    sb += pow(eb[-1], 2)\n",
    "#     print(sa, sb)\n",
    "    return (sa*3 + sb)/0.09726621893099568"
   ]
  },
  {
   "cell_type": "code",
   "execution_count": 308,
   "metadata": {},
   "outputs": [],
   "source": [
    "df0 = df.copy() # сохраняем исходное решение для начальной эпохи."
   ]
  },
  {
   "cell_type": "code",
   "execution_count": 309,
   "metadata": {},
   "outputs": [
    {
     "data": {
      "text/plain": [
       "0.07425818551096801"
      ]
     },
     "execution_count": 309,
     "metadata": {},
     "output_type": "execute_result"
    }
   ],
   "source": [
    "etot = Error(df0)\n",
    "etot"
   ]
  },
  {
   "cell_type": "code",
   "execution_count": 310,
   "metadata": {
    "scrolled": true
   },
   "outputs": [
    {
     "data": {
      "image/png": "[encoded data removed]",
      "text/plain": [
       "<Figure size 1152x360 with 1 Axes>"
      ]
     },
     "metadata": {
      "needs_background": "light"
     },
     "output_type": "display_data"
    }
   ],
   "source": [
    "plt.figure(figsize=(16, 5))\n",
    "ax = plt.axes()\n",
    "m1 = m/s.M\n",
    "plt.plot(r1, ea, marker='.', color='red', label='hydro')\n",
    "plt.plot(r1, eb, marker='.', color='blue', label='temp')\n",
    "# plt.plot(m1[1:-1], c[1:-1]*.001, ':k', marker='.', label='conv')\n",
    "plt.xlim(0.,0.01)\n",
    "# plt.xlim(0.95,1.0)\n",
    "# # plt.ylim(-0.01, 0.01)\n",
    "plt.xlabel('M/M_sol')\n",
    "plt.ylabel('')\n",
    "plt.title('Ошибки, Etotal=%.2f' % etot)\n",
    "ax.grid(b=True, which='both')\n",
    "ax.legend(fancybox=True, framealpha=1, shadow=True, borderpad=1);"
   ]
  },
  {
   "cell_type": "code",
   "execution_count": 334,
   "metadata": {},
   "outputs": [],
   "source": [
    "df = df0.copy()"
   ]
  },
  {
   "cell_type": "code",
   "execution_count": 335,
   "metadata": {},
   "outputs": [],
   "source": [
    "m = df.Mass.values\n",
    "r = df.Radius.values\n",
    "t = df.Temperature.values\n",
    "d = df.Density.values\n",
    "l = df.Luminosity.values\n",
    "x = df.Hydrogen.values\n",
    "k = df.Opacity.values\n",
    "c = df.Convection.values\n",
    "p = df.Pressure.values\n",
    "v = df.Velocity.values"
   ]
  },
  {
   "cell_type": "code",
   "execution_count": 336,
   "metadata": {},
   "outputs": [],
   "source": [
    "NG = 60 \n",
    "err = np.zeros(NG + 1)\n",
    "x0 = df0.Hydrogen.values.copy()\n",
    "x = x0*np.exp(-1e8*v)\n",
    "l[0] = 0.\n",
    "for i in range(1, dimM):\n",
    "    l[i] = l[i-1] + (m[i] - m[i-1])*ph.Etot(d[i], t[i], x[i], 1 - Z - x[i], Z)\n",
    "#     print(\"i=%d ll-l/l=%.8e\" % (i, (ll -l[i])/l[i]))\n",
    "for i in range(dimM):\n",
    "    k[i] = ph.Opacity(d[i], t[i], x[i], 1 - Z - x[i], Z)\n",
    "    p[i] = ph.Pressure(d[i], t[i], x[i], 1 - Z - x[i], Z)\n",
    "#     print(\"i=%d pp-p/p=%.8e kk-k/k=%.8e\" % (i, (pp -p[i])/p[i], (kk -k[i])/k[i]))\n",
    "# Теперь в df - начальное приближение для новой эпохи."
   ]
  },
  {
   "cell_type": "code",
   "execution_count": 337,
   "metadata": {},
   "outputs": [
    {
     "data": {
      "text/plain": [
       "15.270366507235655"
      ]
     },
     "execution_count": 337,
     "metadata": {},
     "output_type": "execute_result"
    }
   ],
   "source": [
    "count = 0\n",
    "etot = Error(df)\n",
    "err[count] = etot\n",
    "etot"
   ]
  },
  {
   "cell_type": "code",
   "execution_count": 338,
   "metadata": {},
   "outputs": [
    {
     "data": {
      "image/png": "[encoded data removed]",
      "text/plain": [
       "<Figure size 1152x360 with 1 Axes>"
      ]
     },
     "metadata": {
      "needs_background": "light"
     },
     "output_type": "display_data"
    }
   ],
   "source": [
    "plt.figure(figsize=(16, 5))\n",
    "ax = plt.axes()\n",
    "m1 = m/s.M\n",
    "r1 = r/s.R\n",
    "plt.plot(r1[1:-1], ea[1:-1], color='red', label='hydro')\n",
    "plt.plot(r1[1:-1], eb[1:-1], marker='.', color='blue', label='temp')\n",
    "plt.plot(r1[1:-1], c[1:-1]*.01, ':k', label='conv')\n",
    "# plt.xlim(0.,0.000001)\n",
    "# plt.xlim(0.95,1.0)\n",
    "# # plt.ylim(-0.01, 0.01)\n",
    "plt.xlabel('R/R_sol')\n",
    "plt.ylabel('')\n",
    "plt.title('Ошибки, Etotal=%.2f' % etot)\n",
    "ax.grid(b=True, which='both')\n",
    "ax.legend(fancybox=True, framealpha=1, shadow=True, borderpad=1);"
   ]
  },
  {
   "cell_type": "code",
   "execution_count": 339,
   "metadata": {
    "scrolled": false
   },
   "outputs": [
    {
     "name": "stdout",
     "output_type": "stream",
     "text": [
      "count=1 Error=15.31 Ratio=-0.273\n",
      "Wall time: 323 ms\n"
     ]
    }
   ],
   "source": [
    "%%time\n",
    "\"\"\"\n",
    "Цикл итераций. NG - число итераций, count - переменная цикла.\n",
    "\"\"\"\n",
    "\n",
    "count = 0\n",
    "k0 = 0.001\n",
    "\n",
    "while count < 1: #NG:\n",
    "    # Варьируем r & t в направлении уменьшения ошибки, получая следующую итерацию.\n",
    "    for i in range(1, dimM - 1):\n",
    "        r[i] = r[i]*(1 + k0*ea[i])\n",
    "#         t[i] = t[i]*(1 - k0*eb[i])\n",
    "#     d[0] = 3*m[1]/4/ph.pi/pow(r[1], 3)\n",
    "# #     t[0] = ????\n",
    "#     l[0] = 0.\n",
    "#     for i in range(1, dimM - 1):\n",
    "#         d[i] = 1/4/ph.pi/pow(r[i], 2)*(m[i+1] - m[i-1])/(r[i+1]-r[i-1])\n",
    "#         l[i] = l[i-1] + (m[i] - m[i-1])*ph.Etot(0.5*(d[i] + d[i-1]), 0.5*(t[i] + t[i-1]), x[i], 1 - Z - x[i], Z)\n",
    "#     for i in range(dimM - 1):\n",
    "#         k[i] = ph.Opacity(d[i], t[i], x[i], 1 - Z - x[i], Z)\n",
    "#         p[i] = ph.Pressure(d[i], t[i], x[i], 1 - Z - x[i], Z)\n",
    "#         v[i] = 4*ph.m_prot*ph.Etot(d1[i], t1[i], X, Y, Z)/X/ph.dEpp*ph.year\n",
    "#         print('i=%d r=%.2f r1=%.2f t=%.1f t1=%.1f' % (i, r[i], r1[i], t[i], t1[i]))\n",
    "    err0 = err[count]\n",
    "    count += 1\n",
    "    err1 = Error(df)\n",
    "    \n",
    "    err[count] = err1\n",
    "    print('count=%d Error=%.2f Ratio=%.3f' % (count, err[count], 100*err0/err1 - 100.))\n",
    "#     if err0 <= err1:\n",
    "#         break"
   ]
  },
  {
   "cell_type": "code",
   "execution_count": 155,
   "metadata": {},
   "outputs": [
    {
     "data": {
      "text/html": [
       "<div>\n",
       "<style scoped>\n",
       "    .dataframe tbody tr th:only-of-type {\n",
       "        vertical-align: middle;\n",
       "    }\n",
       "\n",
       "    .dataframe tbody tr th {\n",
       "        vertical-align: top;\n",
       "    }\n",
       "\n",
       "    .dataframe thead th {\n",
       "        text-align: right;\n",
       "    }\n",
       "</style>\n",
       "<table border=\"1\" class=\"dataframe\">\n",
       "  <thead>\n",
       "    <tr style=\"text-align: right;\">\n",
       "      <th></th>\n",
       "      <th>Mass</th>\n",
       "      <th>Radius</th>\n",
       "      <th>Temperature</th>\n",
       "      <th>Density</th>\n",
       "      <th>Luminosity</th>\n",
       "      <th>Hydrogen</th>\n",
       "      <th>Opacity</th>\n",
       "      <th>Convection</th>\n",
       "      <th>Pressure</th>\n",
       "      <th>Velocity</th>\n",
       "    </tr>\n",
       "  </thead>\n",
       "  <tbody>\n",
       "    <tr>\n",
       "      <td>0</td>\n",
       "      <td>0.000000e+00</td>\n",
       "      <td>0.000000e+00</td>\n",
       "      <td>1.451000e+07</td>\n",
       "      <td>90.073860</td>\n",
       "      <td>0.000000e+00</td>\n",
       "      <td>0.723205</td>\n",
       "      <td>1.445415</td>\n",
       "      <td>0.0</td>\n",
       "      <td>1.794120e+17</td>\n",
       "      <td>1.208753e-10</td>\n",
       "    </tr>\n",
       "    <tr>\n",
       "      <td>1</td>\n",
       "      <td>1.992041e+29</td>\n",
       "      <td>8.086197e+08</td>\n",
       "      <td>1.448616e+07</td>\n",
       "      <td>89.853305</td>\n",
       "      <td>3.327251e+30</td>\n",
       "      <td>0.723300</td>\n",
       "      <td>1.448873</td>\n",
       "      <td>0.0</td>\n",
       "      <td>1.786787e+17</td>\n",
       "      <td>1.195617e-10</td>\n",
       "    </tr>\n",
       "    <tr>\n",
       "      <td>2</td>\n",
       "      <td>3.984082e+29</td>\n",
       "      <td>1.019092e+09</td>\n",
       "      <td>1.447218e+07</td>\n",
       "      <td>89.722614</td>\n",
       "      <td>6.633677e+30</td>\n",
       "      <td>0.723355</td>\n",
       "      <td>1.450894</td>\n",
       "      <td>0.0</td>\n",
       "      <td>1.782465e+17</td>\n",
       "      <td>1.187975e-10</td>\n",
       "    </tr>\n",
       "    <tr>\n",
       "      <td>3</td>\n",
       "      <td>5.976123e+29</td>\n",
       "      <td>1.166858e+09</td>\n",
       "      <td>1.446045e+07</td>\n",
       "      <td>89.612835</td>\n",
       "      <td>9.922761e+30</td>\n",
       "      <td>0.723402</td>\n",
       "      <td>1.452590</td>\n",
       "      <td>0.0</td>\n",
       "      <td>1.778842e+17</td>\n",
       "      <td>1.181611e-10</td>\n",
       "    </tr>\n",
       "    <tr>\n",
       "      <td>4</td>\n",
       "      <td>7.968163e+29</td>\n",
       "      <td>1.284576e+09</td>\n",
       "      <td>1.444999e+07</td>\n",
       "      <td>89.514752</td>\n",
       "      <td>1.319646e+31</td>\n",
       "      <td>0.723442</td>\n",
       "      <td>1.454104</td>\n",
       "      <td>0.0</td>\n",
       "      <td>1.775610e+17</td>\n",
       "      <td>1.175968e-10</td>\n",
       "    </tr>\n",
       "    <tr>\n",
       "      <td>...</td>\n",
       "      <td>...</td>\n",
       "      <td>...</td>\n",
       "      <td>...</td>\n",
       "      <td>...</td>\n",
       "      <td>...</td>\n",
       "      <td>...</td>\n",
       "      <td>...</td>\n",
       "      <td>...</td>\n",
       "      <td>...</td>\n",
       "      <td>...</td>\n",
       "    </tr>\n",
       "    <tr>\n",
       "      <td>9996</td>\n",
       "      <td>1.991244e+33</td>\n",
       "      <td>4.536990e+10</td>\n",
       "      <td>3.854278e+05</td>\n",
       "      <td>0.035663</td>\n",
       "      <td>3.526911e+33</td>\n",
       "      <td>0.732000</td>\n",
       "      <td>0.825068</td>\n",
       "      <td>1.0</td>\n",
       "      <td>1.886897e+12</td>\n",
       "      <td>2.183289e-26</td>\n",
       "    </tr>\n",
       "    <tr>\n",
       "      <td>9997</td>\n",
       "      <td>1.991443e+33</td>\n",
       "      <td>4.560445e+10</td>\n",
       "      <td>3.415529e+05</td>\n",
       "      <td>0.029744</td>\n",
       "      <td>3.526911e+33</td>\n",
       "      <td>0.732000</td>\n",
       "      <td>0.754712</td>\n",
       "      <td>1.0</td>\n",
       "      <td>1.394588e+12</td>\n",
       "      <td>5.057721e-27</td>\n",
       "    </tr>\n",
       "    <tr>\n",
       "      <td>9998</td>\n",
       "      <td>1.991642e+33</td>\n",
       "      <td>4.589195e+10</td>\n",
       "      <td>2.883817e+05</td>\n",
       "      <td>0.023070</td>\n",
       "      <td>3.526911e+33</td>\n",
       "      <td>0.732000</td>\n",
       "      <td>0.675243</td>\n",
       "      <td>1.0</td>\n",
       "      <td>9.132617e+11</td>\n",
       "      <td>6.525222e-28</td>\n",
       "    </tr>\n",
       "    <tr>\n",
       "      <td>9999</td>\n",
       "      <td>1.991842e+33</td>\n",
       "      <td>4.628649e+10</td>\n",
       "      <td>2.164797e+05</td>\n",
       "      <td>0.014997</td>\n",
       "      <td>3.526911e+33</td>\n",
       "      <td>0.732000</td>\n",
       "      <td>0.578994</td>\n",
       "      <td>1.0</td>\n",
       "      <td>4.456675e+11</td>\n",
       "      <td>2.029214e-29</td>\n",
       "    </tr>\n",
       "    <tr>\n",
       "      <td>10000</td>\n",
       "      <td>1.992041e+33</td>\n",
       "      <td>4.747629e+10</td>\n",
       "      <td>6.863096e+03</td>\n",
       "      <td>0.000000</td>\n",
       "      <td>3.526911e+33</td>\n",
       "      <td>0.732000</td>\n",
       "      <td>0.401005</td>\n",
       "      <td>1.0</td>\n",
       "      <td>0.000000e+00</td>\n",
       "      <td>1.473270e-47</td>\n",
       "    </tr>\n",
       "  </tbody>\n",
       "</table>\n",
       "<p>10001 rows × 10 columns</p>\n",
       "</div>"
      ],
      "text/plain": [
       "               Mass        Radius   Temperature    Density    Luminosity  \\\n",
       "0      0.000000e+00  0.000000e+00  1.451000e+07  90.073860  0.000000e+00   \n",
       "1      1.992041e+29  8.086197e+08  1.448616e+07  89.853305  3.327251e+30   \n",
       "2      3.984082e+29  1.019092e+09  1.447218e+07  89.722614  6.633677e+30   \n",
       "3      5.976123e+29  1.166858e+09  1.446045e+07  89.612835  9.922761e+30   \n",
       "4      7.968163e+29  1.284576e+09  1.444999e+07  89.514752  1.319646e+31   \n",
       "...             ...           ...           ...        ...           ...   \n",
       "9996   1.991244e+33  4.536990e+10  3.854278e+05   0.035663  3.526911e+33   \n",
       "9997   1.991443e+33  4.560445e+10  3.415529e+05   0.029744  3.526911e+33   \n",
       "9998   1.991642e+33  4.589195e+10  2.883817e+05   0.023070  3.526911e+33   \n",
       "9999   1.991842e+33  4.628649e+10  2.164797e+05   0.014997  3.526911e+33   \n",
       "10000  1.992041e+33  4.747629e+10  6.863096e+03   0.000000  3.526911e+33   \n",
       "\n",
       "       Hydrogen   Opacity  Convection      Pressure      Velocity  \n",
       "0      0.723205  1.445415         0.0  1.794120e+17  1.208753e-10  \n",
       "1      0.723300  1.448873         0.0  1.786787e+17  1.195617e-10  \n",
       "2      0.723355  1.450894         0.0  1.782465e+17  1.187975e-10  \n",
       "3      0.723402  1.452590         0.0  1.778842e+17  1.181611e-10  \n",
       "4      0.723442  1.454104         0.0  1.775610e+17  1.175968e-10  \n",
       "...         ...       ...         ...           ...           ...  \n",
       "9996   0.732000  0.825068         1.0  1.886897e+12  2.183289e-26  \n",
       "9997   0.732000  0.754712         1.0  1.394588e+12  5.057721e-27  \n",
       "9998   0.732000  0.675243         1.0  9.132617e+11  6.525222e-28  \n",
       "9999   0.732000  0.578994         1.0  4.456675e+11  2.029214e-29  \n",
       "10000  0.732000  0.401005         1.0  0.000000e+00  1.473270e-47  \n",
       "\n",
       "[10001 rows x 10 columns]"
      ]
     },
     "execution_count": 155,
     "metadata": {},
     "output_type": "execute_result"
    }
   ],
   "source": [
    "df1 = pd.DataFrame({'Mass': m, 'Radius': r, 'Temperature': t, 'Density': d, \n",
    "          'Luminosity': l, 'Hydrogen': x, 'Opacity': k, 'Convection': c, 'Pressure': p, 'Velocity': v})\n",
    "df1"
   ]
  },
  {
   "cell_type": "code",
   "execution_count": 156,
   "metadata": {},
   "outputs": [
    {
     "name": "stdout",
     "output_type": "stream",
     "text": [
      "Mass/4epoch01.csv\n"
     ]
    }
   ],
   "source": [
    "epoch = 1\n",
    "_ = df1.to_csv(line_terminator='\\n')\n",
    "filename = \"Mass/4epoch%.02d.csv\" % epoch\n",
    "print(filename)\n",
    "csv_file = open(filename, \"wt\")\n",
    "n = csv_file.write(_)\n",
    "csv_file.close()"
   ]
  },
  {
   "cell_type": "code",
   "execution_count": 147,
   "metadata": {},
   "outputs": [
    {
     "data": {
      "text/plain": [
       "array([9.00738577e+01, 8.90411272e+01, 8.84305086e+01, ...,\n",
       "       1.25189351e-01, 7.53021785e-02, 2.09797553e-05])"
      ]
     },
     "execution_count": 147,
     "metadata": {},
     "output_type": "execute_result"
    }
   ],
   "source": [
    "epoch = 0\n",
    "df = load_model(epoch)\n",
    "d = df['Density'].values\n",
    "t = df['Temperature'].values\n",
    "d"
   ]
  },
  {
   "cell_type": "code",
   "execution_count": 148,
   "metadata": {},
   "outputs": [
    {
     "data": {
      "image/png": "[encoded data removed]",
      "text/plain": [
       "<Figure size 1152x720 with 1 Axes>"
      ]
     },
     "metadata": {
      "needs_background": "light"
     },
     "output_type": "display_data"
    }
   ],
   "source": [
    "m1 = m/s.M\n",
    "plt.figure(figsize=(16, 10))\n",
    "ax = plt.axes()\n",
    "# plt.plot(r1, c, color='black', label='Convection')\n",
    "plt.plot(m1, d1/d, color='red', label='d1/d')\n",
    "plt.plot(m1, t1/t, color='blue', label='t1/t0')\n",
    "# plt.xlim(-0.1,0.1)\n",
    "# plt.ylim(-0.1, 0.1)\n",
    "plt.xlabel('M/M_sol')\n",
    "plt.ylabel('')\n",
    "plt.title('Solar model - epoch %d' % epoch)\n",
    "ax.grid(b=True, which='both')\n",
    "ax.legend(fancybox=True, framealpha=1, shadow=True, borderpad=1);"
   ]
  },
  {
   "cell_type": "code",
   "execution_count": 149,
   "metadata": {},
   "outputs": [],
   "source": [
    "ea = np.zeros(dimM)\n",
    "eb = np.zeros(dimM)\n",
    "for i in range(1, dimM-1):\n",
    "    ea[i] = 3*pow((da[i] - a[i])/6760886, 2)\n",
    "    eb[i] = pow((db[i] - b[i])/0.000324, 2)\n",
    "sa = ea.sum()\n",
    "sb = eb.sum()\n",
    "etot = (sa + sb)/0.09726621893099568"
   ]
  },
  {
   "cell_type": "code",
   "execution_count": 37,
   "metadata": {},
   "outputs": [
    {
     "data": {
      "image/png": "[encoded data removed]",
      "text/plain": [
       "<Figure size 1152x720 with 1 Axes>"
      ]
     },
     "metadata": {
      "needs_background": "light"
     },
     "output_type": "display_data"
    }
   ],
   "source": [
    "plt.figure(figsize=(16, 10))\n",
    "ax = plt.axes()\n",
    "# plt.plot(r1, c, color='black', label='Convection')\n",
    "plt.plot(m[2:-2], ea[2:-2], color='red', label='hydro')\n",
    "plt.plot(m[2:-20], eb[2:-20], color='blue', label='temp')\n",
    "# plt.xlim(-0.1,0.1)\n",
    "# plt.ylim(-0.1, 0.1)\n",
    "plt.xlabel('M/M_sol')\n",
    "plt.ylabel('')\n",
    "# plt.title('Error %.2f' % etot)\n",
    "ax.grid(b=True, which='both')\n",
    "ax.legend(fancybox=True, framealpha=1, shadow=True, borderpad=1);"
   ]
  },
  {
   "cell_type": "markdown",
   "metadata": {},
   "source": [
    "$ a = \\mu ^ 2$"
   ]
  },
  {
   "cell_type": "code",
   "execution_count": null,
   "metadata": {},
   "outputs": [],
   "source": []
  }
 ],
 "metadata": {
  "kernelspec": {
   "display_name": "Python 3",
   "language": "python",
   "name": "python3"
  },
  "language_info": {
   "codemirror_mode": {
    "name": "ipython",
    "version": 3
   },
   "file_extension": ".py",
   "mimetype": "text/x-python",
   "name": "python",
   "nbconvert_exporter": "python",
   "pygments_lexer": "ipython3",
   "version": "3.7.4"
  }
 },
 "nbformat": 4,
 "nbformat_minor": 2
}
