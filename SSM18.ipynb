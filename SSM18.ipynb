{
 "cells": [
  {
   "cell_type": "code",
   "execution_count": null,
   "metadata": {},
   "outputs": [],
   "source": [
    "import numpy as np\n",
    "import pandas as pd"
   ]
  },
  {
   "cell_type": "code",
   "execution_count": null,
   "metadata": {},
   "outputs": [],
   "source": [
    "import NotebookLoader\n",
    "import Physics as ph"
   ]
  },
  {
   "cell_type": "code",
   "execution_count": null,
   "metadata": {},
   "outputs": [],
   "source": [
    "M = 1.99e33  # solar mass\n",
    "R = 6.96e10  # solar radius\n",
    "L = 3.85e33  # solar luminosity\n",
    "T = pow(L / 4 / ph.pi / ph.sigma / R / R, 1 / 4)  # 5780 solar surface temperature\n",
    "Z = 0.02\n",
    "\n",
    "M18 = [0, .0099, .0385, .1038, .1620, .2100, .2580, .3100, .3900, .4700, .5500, .6900, .8300,\n",
    "       .9264, .9602, .9784, .9954, 1.]\n",
    "\n",
    "R18 = [0., .046, .076, .113, .138, .156, .173, .190, .217, .245, .275, .336, .430,\n",
    "       .554, .641, .718, .849, 1.]\n",
    "\n",
    "T18 = [15.5, 14.8, 13.8, 12.4, 11.4, 10.8, 10.2, 9.6, 8.77, 8., 7.27, 6.03,\n",
    "       4.64, 3.4, 2.72, 2.12, .95, .0058]\n",
    "\n",
    "D18 = [156.3, 133.9, 108.1, 78.9, 63.2, 53.6, 45.7, 38.5, 29.4, 22.1, 16.1,\n",
    "       8.03, 2.85, 0.773, .338, .169, .050, 2.8e-7]\n",
    "\n",
    "L18 = [0., .079, .264, .555, .718, .809, .874, .921, .964, .986, .996, 1., 1., 1., 1., 1., 1., 1.]\n",
    "\n",
    "X18 = [.355, .417, .497, .592, .641, .668, .688, .702, .716, .724, .728, .731, .732, .732, .732, .732, .732, .732]\n",
    "\n",
    "K18 = [1.1, 1.2, 1.3, 1.4, 1.6, 1.7, 1.8, 1.9, 2.1, 2.4, 2.8, 3.5, 4.7, 8.0, 12.2, 16.8, 10, 0.3]\n",
    "\n",
    "# NumPy arrays\n",
    "m1 = np.array(M18)\n",
    "r1 = np.array(R18)\n",
    "t1 = 1e6 * np.array(T18)\n",
    "d1 = np.array(D18)\n",
    "l1 = np.array(L18)\n",
    "x1 = np.array(X18)\n",
    "o1 = np.array(K18)\n",
    "c1 = np.zeros(18)\n",
    "c1[16] = 1."
   ]
  },
  {
   "cell_type": "code",
   "execution_count": null,
   "metadata": {},
   "outputs": [],
   "source": [
    "# Pressure from density and temperature\n",
    "p1 = d1 * t1 * (2 * x1 + .75 * (1 - Z - x1) + .5 * Z) * ph.kB / ph.m_prot"
   ]
  },
  {
   "cell_type": "code",
   "execution_count": null,
   "metadata": {},
   "outputs": [],
   "source": [
    "def load_data():\n",
    "    return pd.DataFrame({'Mass': m1, 'Radius': r1, 'Temperature': t1, 'Density': d1, 'Luminosity': l1,\n",
    "                         'Hydrogen': x1, 'Opacity': o1, 'Convection': c1, 'Pressure': p1})"
   ]
  },
  {
   "cell_type": "code",
   "execution_count": null,
   "metadata": {},
   "outputs": [],
   "source": [
    "# Table data for opacity (taken from SSM18 model)\n",
    "Tst = [2120000., 2720000., 3400000., 4640000., 6030000.,\n",
    "       7270000., 8000000., 8770000., 9600000., 10200000., 10800000.,\n",
    "       11400000., 12400000., 13800000., 14800000., 15500000.]\n",
    "Kst = [9.94082840e+01, 3.60946746e+01,\n",
    "       1.03492885e+01, 1.64912281e+00, 4.35865504e-01, 1.73913043e-01,\n",
    "       1.08597285e-01, 7.14285714e-02, 4.93506494e-02, 3.93873085e-02,\n",
    "       3.17164179e-02, 2.53164557e-02, 1.77439797e-02, 1.20259019e-02,\n",
    "       8.96191187e-03, 7.03774792e-03]\n",
    "\n",
    "\n",
    "def Opacity(den, T, X, Y, Z):\n",
    "    if T <= Tst[0]:\n",
    "        return den * Kst[0]\n",
    "    for i in range(len(Tst) - 1):\n",
    "        if T <= Tst[i + 1]:\n",
    "            return den * (Kst[i] + (T - Tst[i]) / (Tst[i + 1] - Tst[i]) * (Kst[i + 1] - Kst[i]))\n",
    "    return den * Kst[-1]"
   ]
  },
  {
   "cell_type": "code",
   "execution_count": null,
   "metadata": {},
   "outputs": [],
   "source": [
    "def interpolate(x, x0, x1, x2, y0, y1, y2):\n",
    "    \"\"\"\n",
    "    Interpolation with 2nd degree polynomial.\n",
    "    x must be between x0 and x2\n",
    "    \"\"\"\n",
    "    u1 = x1 - x0\n",
    "    u2 = x2 - x0\n",
    "    w1 = y1 - y0\n",
    "    w2 = y2 - y0\n",
    "    a = (w1 * u2 - w2 * u1) / (u1 * u1 * u2 - u2 * u2 * u1)\n",
    "    b = (w1 * u2 * u2 - w2 * u1 * u1) / (u1 * u2 * u2 - u2 * u1 * u1)\n",
    "    u = x - x0\n",
    "    y = y0 + (a * u + b) * u\n",
    "    return y"
   ]
  },
  {
   "cell_type": "code",
   "execution_count": null,
   "metadata": {},
   "outputs": [],
   "source": [
    "def load_interpolated_data(K=12):\n",
    "    \"\"\"\n",
    "    :param K: Number of intermediate (interpolated) layers\n",
    "    :return: DataFrame 17*K+1 rows, 8 columns\n",
    "    \"\"\"\n",
    "    N = 17  # number of original layers\n",
    "\n",
    "    r = np.zeros(N * K + 1)\n",
    "    m = np.zeros(N * K + 1)\n",
    "    t = np.zeros(N * K + 1)\n",
    "    d = np.zeros(N * K + 1)\n",
    "    l = np.zeros(N * K + 1)\n",
    "    x = np.zeros(N * K + 1)\n",
    "    o = np.zeros(N * K + 1)\n",
    "    p = np.zeros(N * K + 1)\n",
    "    r[N * K] = r1[N]\n",
    "    m[N * K] = m1[N]\n",
    "    t[N * K] = t1[N]\n",
    "    d[N * K] = d1[N]\n",
    "    l[N * K] = l1[N]\n",
    "    x[N * K] = x1[N]\n",
    "    o[N * K] = o1[N]\n",
    "\n",
    "    for i in range(N - 1):\n",
    "        for j in range(K):\n",
    "            R = r1[i] + j * (r1[i + 1] - r1[i]) / K\n",
    "            r[j + K * i] = R\n",
    "            m[j + K * i] = interpolate(R, r1[i], r1[i + 1], r1[i + 2], m1[i], m1[i + 1], m1[i + 2])\n",
    "            t[j + K * i] = interpolate(R, r1[i], r1[i + 1], r1[i + 2], t1[i], t1[i + 1], t1[i + 2])\n",
    "            d[j + K * i] = interpolate(R, r1[i], r1[i + 1], r1[i + 2], d1[i], d1[i + 1], d1[i + 2])\n",
    "            l[j + K * i] = interpolate(R, r1[i], r1[i + 1], r1[i + 2], l1[i], l1[i + 1], l1[i + 2])\n",
    "            x[j + K * i] = interpolate(R, r1[i], r1[i + 1], r1[i + 2], x1[i], x1[i + 1], x1[i + 2])\n",
    "            o[j + K * i] = interpolate(R, r1[i], r1[i + 1], r1[i + 2], o1[i], o1[i + 1], o1[i + 2])\n",
    "    # special processing for the 1st layer\n",
    "    for j in range(1, K):\n",
    "        d[j] = d1[0] + (d1[1] - d1[0])*j*j/K/K\n",
    "        # m[j] = m1[1]*pow(r[j]/r1[1], 3)\n",
    "        l[j] = l1[1]*pow(r[j]/r1[1], 3)\n",
    "        m[j] = m[j-1] + (d[j] + d[j-1])*2/3*ph.pi*(pow(r[j], 3) - pow(r[j-1], 3))\n",
    "    # special processing for the last layer\n",
    "    for j in range(K):\n",
    "        R = r1[N - 1] + (r1[N] - r1[N - 1]) * j / K\n",
    "        r[j + K * (N - 1)] = R\n",
    "        m[j + K * (N - 1)] = interpolate(R, r1[N - 2], r1[N - 1], r1[N], m1[N - 2], m1[N - 1], m1[N])\n",
    "        t[j + K * (N - 1)] = interpolate(R, r1[N - 2], r1[N - 1], r1[N], t1[N - 2], t1[N - 1], t1[N])\n",
    "        d[j + K * (N - 1)] = interpolate(R, r1[N - 2], r1[N - 1], r1[N], d1[N - 2], d1[N - 1], d1[N])\n",
    "        l[j + K * (N - 1)] = interpolate(R, r1[N - 2], r1[N - 1], r1[N], l1[N - 2], l1[N - 1], l1[N])\n",
    "        x[j + K * (N - 1)] = interpolate(R, r1[N - 2], r1[N - 1], r1[N], x1[N - 2], x1[N - 1], x1[N])\n",
    "        o[j + K * (N - 1)] = interpolate(R, r1[N - 2], r1[N - 1], r1[N], o1[N - 2], o1[N - 1], o1[N])\n",
    "\n",
    "    for j in range(N * K + 1):\n",
    "        if m[j] > 1.:\n",
    "            m[j] = 1.\n",
    "        p[j] = ph.Pressure(d[j], t[j], x[j], 1 - Z - x[j], Z)\n",
    "\n",
    "    return pd.DataFrame({'Mass': m, 'Radius': r, 'Temperature': t, 'Density': d, 'Luminosity': l,\n",
    "                         'Hydrogen': x, 'Opacity': o, 'Pressure': p})"
   ]
  },
  {
   "cell_type": "code",
   "execution_count": 1,
   "metadata": {},
   "outputs": [
    {
     "name": "stdout",
     "output_type": "stream",
     "text": [
      "SSM18 version 1.9 13.07.2020\n"
     ]
    }
   ],
   "source": [
    "print('SSM18 version 1.9 13.07.2020')"
   ]
  }
 ],
 "metadata": {
  "kernelspec": {
   "display_name": "Python 3",
   "language": "python",
   "name": "python3"
  },
  "language_info": {
   "codemirror_mode": {
    "name": "ipython",
    "version": 3
   },
   "file_extension": ".py",
   "mimetype": "text/x-python",
   "name": "python",
   "nbconvert_exporter": "python",
   "pygments_lexer": "ipython3",
   "version": "3.7.4"
  }
 },
 "nbformat": 4,
 "nbformat_minor": 2
}
