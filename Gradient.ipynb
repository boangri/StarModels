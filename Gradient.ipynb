{
 "cells": [
  {
   "cell_type": "markdown",
   "metadata": {},
   "source": []
  },
  {
   "cell_type": "code",
   "execution_count": 69,
   "metadata": {},
   "outputs": [],
   "source": [
    "import math\n",
    "import numpy as np\n",
    "import pandas as pd\n",
    "\n",
    "%matplotlib inline\n",
    "\n",
    "import matplotlib as mpl\n",
    "import matplotlib.pyplot as plt"
   ]
  },
  {
   "cell_type": "code",
   "execution_count": 70,
   "metadata": {},
   "outputs": [],
   "source": [
    "import physics as ph\n",
    "from Sun import SSM18 as s"
   ]
  },
  {
   "cell_type": "code",
   "execution_count": 71,
   "metadata": {},
   "outputs": [],
   "source": [
    "pi = math.pi\n",
    "Z = s.Z"
   ]
  },
  {
   "cell_type": "code",
   "execution_count": 72,
   "metadata": {},
   "outputs": [
    {
     "data": {
      "text/html": [
       "<div>\n",
       "<style scoped>\n",
       "    .dataframe tbody tr th:only-of-type {\n",
       "        vertical-align: middle;\n",
       "    }\n",
       "\n",
       "    .dataframe tbody tr th {\n",
       "        vertical-align: top;\n",
       "    }\n",
       "\n",
       "    .dataframe thead th {\n",
       "        text-align: right;\n",
       "    }\n",
       "</style>\n",
       "<table border=\"1\" class=\"dataframe\">\n",
       "  <thead>\n",
       "    <tr style=\"text-align: right;\">\n",
       "      <th></th>\n",
       "      <th>Unnamed: 0</th>\n",
       "      <th>Mass</th>\n",
       "      <th>Radius</th>\n",
       "      <th>Temperature</th>\n",
       "      <th>Density</th>\n",
       "      <th>Luminosity</th>\n",
       "      <th>Hydrogen</th>\n",
       "      <th>Opacity</th>\n",
       "      <th>Convection</th>\n",
       "      <th>Pressure</th>\n",
       "      <th>Velocity</th>\n",
       "    </tr>\n",
       "  </thead>\n",
       "  <tbody>\n",
       "    <tr>\n",
       "      <td>0</td>\n",
       "      <td>0</td>\n",
       "      <td>0.000000e+00</td>\n",
       "      <td>0.000000e+00</td>\n",
       "      <td>1.333000e+07</td>\n",
       "      <td>94.554471</td>\n",
       "      <td>0.000000e+00</td>\n",
       "      <td>0.732</td>\n",
       "      <td>1.318613</td>\n",
       "      <td>0.0</td>\n",
       "      <td>1.730205e+17</td>\n",
       "      <td>8.561869e-11</td>\n",
       "    </tr>\n",
       "    <tr>\n",
       "      <td>1</td>\n",
       "      <td>1</td>\n",
       "      <td>1.989737e+30</td>\n",
       "      <td>1.720827e+09</td>\n",
       "      <td>1.323295e+07</td>\n",
       "      <td>93.267398</td>\n",
       "      <td>2.371017e+31</td>\n",
       "      <td>0.732</td>\n",
       "      <td>1.337635</td>\n",
       "      <td>0.0</td>\n",
       "      <td>1.694228e+17</td>\n",
       "      <td>8.186134e-11</td>\n",
       "    </tr>\n",
       "    <tr>\n",
       "      <td>2</td>\n",
       "      <td>2</td>\n",
       "      <td>3.979475e+30</td>\n",
       "      <td>2.170742e+09</td>\n",
       "      <td>1.317560e+07</td>\n",
       "      <td>92.506463</td>\n",
       "      <td>4.667612e+31</td>\n",
       "      <td>0.732</td>\n",
       "      <td>1.348390</td>\n",
       "      <td>0.0</td>\n",
       "      <td>1.673123e+17</td>\n",
       "      <td>7.971258e-11</td>\n",
       "    </tr>\n",
       "    <tr>\n",
       "      <td>3</td>\n",
       "      <td>3</td>\n",
       "      <td>5.969212e+30</td>\n",
       "      <td>2.487796e+09</td>\n",
       "      <td>1.312752e+07</td>\n",
       "      <td>91.867973</td>\n",
       "      <td>6.909218e+31</td>\n",
       "      <td>0.732</td>\n",
       "      <td>1.357124</td>\n",
       "      <td>0.0</td>\n",
       "      <td>1.655511e+17</td>\n",
       "      <td>7.795029e-11</td>\n",
       "    </tr>\n",
       "    <tr>\n",
       "      <td>4</td>\n",
       "      <td>4</td>\n",
       "      <td>7.958950e+30</td>\n",
       "      <td>2.741213e+09</td>\n",
       "      <td>1.308464e+07</td>\n",
       "      <td>91.297969</td>\n",
       "      <td>9.104061e+31</td>\n",
       "      <td>0.732</td>\n",
       "      <td>1.364692</td>\n",
       "      <td>0.0</td>\n",
       "      <td>1.639865e+17</td>\n",
       "      <td>7.640787e-11</td>\n",
       "    </tr>\n",
       "    <tr>\n",
       "      <td>...</td>\n",
       "      <td>...</td>\n",
       "      <td>...</td>\n",
       "      <td>...</td>\n",
       "      <td>...</td>\n",
       "      <td>...</td>\n",
       "      <td>...</td>\n",
       "      <td>...</td>\n",
       "      <td>...</td>\n",
       "      <td>...</td>\n",
       "      <td>...</td>\n",
       "      <td>...</td>\n",
       "    </tr>\n",
       "    <tr>\n",
       "      <td>996</td>\n",
       "      <td>996</td>\n",
       "      <td>1.981778e+33</td>\n",
       "      <td>5.478443e+10</td>\n",
       "      <td>8.884676e+05</td>\n",
       "      <td>0.065450</td>\n",
       "      <td>2.461129e+33</td>\n",
       "      <td>0.732</td>\n",
       "      <td>6.506261</td>\n",
       "      <td>1.0</td>\n",
       "      <td>7.982444e+12</td>\n",
       "      <td>2.801593e-22</td>\n",
       "    </tr>\n",
       "    <tr>\n",
       "      <td>997</td>\n",
       "      <td>997</td>\n",
       "      <td>1.983768e+33</td>\n",
       "      <td>5.565851e+10</td>\n",
       "      <td>7.779882e+05</td>\n",
       "      <td>0.053620</td>\n",
       "      <td>2.461129e+33</td>\n",
       "      <td>0.732</td>\n",
       "      <td>5.330260</td>\n",
       "      <td>1.0</td>\n",
       "      <td>5.726433e+12</td>\n",
       "      <td>5.617357e-23</td>\n",
       "    </tr>\n",
       "    <tr>\n",
       "      <td>998</td>\n",
       "      <td>998</td>\n",
       "      <td>1.985758e+33</td>\n",
       "      <td>5.672587e+10</td>\n",
       "      <td>6.475668e+05</td>\n",
       "      <td>0.040707</td>\n",
       "      <td>2.461129e+33</td>\n",
       "      <td>0.732</td>\n",
       "      <td>4.046600</td>\n",
       "      <td>1.0</td>\n",
       "      <td>3.618575e+12</td>\n",
       "      <td>6.097868e-24</td>\n",
       "    </tr>\n",
       "    <tr>\n",
       "      <td>999</td>\n",
       "      <td>999</td>\n",
       "      <td>1.987748e+33</td>\n",
       "      <td>5.818398e+10</td>\n",
       "      <td>4.769614e+05</td>\n",
       "      <td>0.025719</td>\n",
       "      <td>2.461129e+33</td>\n",
       "      <td>0.732</td>\n",
       "      <td>2.556699</td>\n",
       "      <td>1.0</td>\n",
       "      <td>1.683936e+12</td>\n",
       "      <td>1.506867e-25</td>\n",
       "    </tr>\n",
       "    <tr>\n",
       "      <td>1000</td>\n",
       "      <td>1000</td>\n",
       "      <td>1.989737e+33</td>\n",
       "      <td>6.262814e+10</td>\n",
       "      <td>5.446504e+03</td>\n",
       "      <td>0.000031</td>\n",
       "      <td>2.461129e+33</td>\n",
       "      <td>0.732</td>\n",
       "      <td>0.003097</td>\n",
       "      <td>0.0</td>\n",
       "      <td>2.329291e+07</td>\n",
       "      <td>4.701770e-49</td>\n",
       "    </tr>\n",
       "  </tbody>\n",
       "</table>\n",
       "<p>1001 rows × 11 columns</p>\n",
       "</div>"
      ],
      "text/plain": [
       "      Unnamed: 0          Mass        Radius   Temperature    Density  \\\n",
       "0              0  0.000000e+00  0.000000e+00  1.333000e+07  94.554471   \n",
       "1              1  1.989737e+30  1.720827e+09  1.323295e+07  93.267398   \n",
       "2              2  3.979475e+30  2.170742e+09  1.317560e+07  92.506463   \n",
       "3              3  5.969212e+30  2.487796e+09  1.312752e+07  91.867973   \n",
       "4              4  7.958950e+30  2.741213e+09  1.308464e+07  91.297969   \n",
       "...          ...           ...           ...           ...        ...   \n",
       "996          996  1.981778e+33  5.478443e+10  8.884676e+05   0.065450   \n",
       "997          997  1.983768e+33  5.565851e+10  7.779882e+05   0.053620   \n",
       "998          998  1.985758e+33  5.672587e+10  6.475668e+05   0.040707   \n",
       "999          999  1.987748e+33  5.818398e+10  4.769614e+05   0.025719   \n",
       "1000        1000  1.989737e+33  6.262814e+10  5.446504e+03   0.000031   \n",
       "\n",
       "        Luminosity  Hydrogen   Opacity  Convection      Pressure      Velocity  \n",
       "0     0.000000e+00     0.732  1.318613         0.0  1.730205e+17  8.561869e-11  \n",
       "1     2.371017e+31     0.732  1.337635         0.0  1.694228e+17  8.186134e-11  \n",
       "2     4.667612e+31     0.732  1.348390         0.0  1.673123e+17  7.971258e-11  \n",
       "3     6.909218e+31     0.732  1.357124         0.0  1.655511e+17  7.795029e-11  \n",
       "4     9.104061e+31     0.732  1.364692         0.0  1.639865e+17  7.640787e-11  \n",
       "...            ...       ...       ...         ...           ...           ...  \n",
       "996   2.461129e+33     0.732  6.506261         1.0  7.982444e+12  2.801593e-22  \n",
       "997   2.461129e+33     0.732  5.330260         1.0  5.726433e+12  5.617357e-23  \n",
       "998   2.461129e+33     0.732  4.046600         1.0  3.618575e+12  6.097868e-24  \n",
       "999   2.461129e+33     0.732  2.556699         1.0  1.683936e+12  1.506867e-25  \n",
       "1000  2.461129e+33     0.732  0.003097         0.0  2.329291e+07  4.701770e-49  \n",
       "\n",
       "[1001 rows x 11 columns]"
      ]
     },
     "execution_count": 72,
     "metadata": {},
     "output_type": "execute_result"
    }
   ],
   "source": [
    "def load_model(epoch):\n",
    "    filename = 'Mass/1epoch%.02d.csv' % epoch\n",
    "    return pd.read_csv(filename)\n",
    "epoch = 0\n",
    "df1 = load_model(epoch)\n",
    "dimM = len(df1.index)\n",
    "df1"
   ]
  },
  {
   "cell_type": "code",
   "execution_count": 73,
   "metadata": {},
   "outputs": [],
   "source": [
    "x = df1['Hydrogen'].values\n",
    "m = df1['Mass'].values\n",
    "d = df1['Density'].values\n",
    "t = df1['Temperature'].values"
   ]
  },
  {
   "cell_type": "code",
   "execution_count": 74,
   "metadata": {},
   "outputs": [],
   "source": [
    "r = np.zeros(dimM)\n",
    "l = np.zeros(dimM)\n",
    "p = np.zeros(dimM)\n",
    "k = np.zeros(dimM)\n",
    "v = np.zeros(dimM)"
   ]
  },
  {
   "cell_type": "code",
   "execution_count": 75,
   "metadata": {},
   "outputs": [],
   "source": [
    "# Вычисляем величины r,l,p,k,c,v из x,m,d,t\n",
    "r[0] = 0.\n",
    "l[0] = 0.\n",
    "for i in range(1, dimM):\n",
    "    r[i] = pow(pow(r[i-1], 3) + 3*(m[i] - m[i-1])/4/pi/d[i-1], 1/3) \n",
    "    l[i] = l[i-1] + (m[i] - m[i-1])*ph.Etot(0.5*(d[i]+d[i-1]), 0.5*(t[i]+t[i-1]), x[i], 1 - Z - x[i], Z)\n",
    "for i in range(dimM):\n",
    "    X = x[i]\n",
    "    Y = 1 - Z -X\n",
    "    p[i] = ph.Pressure(d[i], t[i], X, Y, Z)\n",
    "    k[i] = ph.opacity(d[i], t[i], X, Y, Z)\n",
    "    v[i] = 4*ph.m_prot*ph.Etot(d[i], t[i], X, Y, Z)/X/ph.dEpp*ph.year"
   ]
  },
  {
   "cell_type": "code",
   "execution_count": 76,
   "metadata": {},
   "outputs": [
    {
     "data": {
      "text/plain": [
       "array([0.67193514, 0.67446459, 0.67591541, ..., 0.732     , 0.732     ,\n",
       "       0.732     ])"
      ]
     },
     "execution_count": 76,
     "metadata": {},
     "output_type": "execute_result"
    }
   ],
   "source": [
    "# Вычисляем новые содержание водорода через 1 млрд лет.\n",
    "x1 = x*np.exp(-1e9*v)\n",
    "x1"
   ]
  },
  {
   "cell_type": "code",
   "execution_count": 77,
   "metadata": {},
   "outputs": [],
   "source": [
    "a = np.zeros(dimM) # градиент давления\n",
    "da = np.zeros(dimM) # несоответствие градиента давления\n",
    "b = np.zeros(dimM) # градиент температуры\n",
    "br = np.zeros(dimM) # градиент температуры при радиации\n",
    "bc = np.zeros(dimM) # градиент температуры при конвекции\n",
    "db = np.zeros(dimM) # несоответствие градиента температуры "
   ]
  },
  {
   "cell_type": "code",
   "execution_count": 33,
   "metadata": {},
   "outputs": [],
   "source": [
    "x1 = x*np.exp(-1e9*v)\n",
    "d1 = d*1.0\n",
    "t1 = t*1.01"
   ]
  },
  {
   "cell_type": "code",
   "execution_count": 34,
   "metadata": {},
   "outputs": [],
   "source": [
    "# Вычисляем величины r,l,p,k,c,v из x,m,d,t\n",
    "r[0] = 0.\n",
    "l[0] = 0.\n",
    "for i in range(1, dimM):\n",
    "    r[i] = pow(pow(r[i-1], 3) + 3*(m[i] - m[i-1])/4/pi/d1[i-1], 1/3) \n",
    "    l[i] = l[i-1] + (m[i] - m[i-1])*ph.Etot(0.5*(d1[i]+d1[i-1]), 0.5*(t1[i]+t1[i-1]), x1[i], 1 - Z - x1[i], Z)\n",
    "for i in range(dimM):\n",
    "    X = x1[i]\n",
    "    Y = 1 - Z -X\n",
    "    p[i] = ph.Pressure(d1[i], t1[i], X, Y, Z)\n",
    "    k[i] = ph.opacity(d1[i], t1[i], X, Y, Z)\n",
    "    v[i] = 4*ph.m_prot*ph.Etot(d1[i], t1[i], X, Y, Z)/X/ph.dEpp*ph.year"
   ]
  },
  {
   "cell_type": "code",
   "execution_count": 35,
   "metadata": {},
   "outputs": [
    {
     "data": {
      "text/plain": [
       "(0.7898674207351927, 8.187838516384028)"
      ]
     },
     "execution_count": 35,
     "metadata": {},
     "output_type": "execute_result"
    }
   ],
   "source": [
    "sa = 0\n",
    "sb = 0\n",
    "for i in range(1, dimM-1):\n",
    "    X = x1[i]\n",
    "    Y = 1 - Z - X\n",
    "    mu = ph.MU(X, Y, Z)\n",
    "    a[i] = -ph.G*m[i]*d[i]/pow(r[i], 2)\n",
    "    da[i] = (p[i+1] - p[i])/2/(r[i+1] - r[i]) + (p[i] - p[i-1])/2/(r[i] - r[i-1])\n",
    "    br[i] = -3/16*k[i]*d[i]*l[i]/ph.sigma/pow(t[i], 3)/4/pi/pow(r[i], 2)\n",
    "    bc[i] = -0.4*mu/ph.kB*ph.m_prot*ph.G*m[i]/pow(r[i], 2)\n",
    "    if abs(br[i]) < abs(bc[i]):\n",
    "        b[i] = br[i]\n",
    "    else:\n",
    "        b[i] = bc[i]\n",
    "    db[i] = (t[i+1] - t[i])/2/(r[i+1] - r[i]) + (t[i] - t[i-1])/2/(r[i] - r[i-1])\n",
    "    sa += pow((da[i] - a[i])/a[i], 2)\n",
    "    sb += pow((db[i] - b[i])/b[i], 2)\n",
    "sa, sb    "
   ]
  },
  {
   "cell_type": "code",
   "execution_count": 32,
   "metadata": {},
   "outputs": [],
   "source": [
    "# (0.12016591197387155, 0.5811328853706212) - original\n",
    "# (0.17469202734280562, 1.1090422800038706) - orig, d*1.01\n",
    "# (0.23554882232676688, 1.0401302190684383) - orig, t*1.01\n",
    "# (1.1001481188877398, 8.422140850300503) ep1 \n",
    "# (0.7893004443891367, 3.6746544040930758) ep1 d*1.01\n",
    "# (0.7898674207351927, 8.187838516384028) ep1 t*1.01\n"
   ]
  },
  {
   "cell_type": "code",
   "execution_count": 108,
   "metadata": {},
   "outputs": [],
   "source": [
    "N = 10 #\n",
    "M = 100"
   ]
  },
  {
   "cell_type": "code",
   "execution_count": 109,
   "metadata": {},
   "outputs": [],
   "source": [
    "e = np.zeros(N)\n",
    "ed = np.zeros(N)\n",
    "et = np.zeros(N)\n",
    "kd = np.zeros(N)\n",
    "kt = np.zeros(N)"
   ]
  },
  {
   "cell_type": "code",
   "execution_count": 110,
   "metadata": {},
   "outputs": [],
   "source": [
    "x1 = x*np.exp(-1e9*v)\n",
    "\n",
    "\n",
    "# Вычисляем величины r,l,p,k,c,v из x,m,d,t\n",
    "r[0] = 0.\n",
    "l[0] = 0.\n",
    "for i in range(1, dimM):\n",
    "    r[i] = pow(pow(r[i-1], 3) + 3*(m[i] - m[i-1])/4/pi/d1[i-1], 1/3) \n",
    "    l[i] = l[i-1] + (m[i] - m[i-1])*ph.Etot(0.5*(d1[i]+d1[i-1]), 0.5*(t1[i]+t1[i-1]), x1[i], 1 - Z - x1[i], Z)\n",
    "for i in range(dimM):\n",
    "    X = x1[i]\n",
    "    Y = 1 - Z -X\n",
    "    p[i] = ph.Pressure(d1[i], t1[i], X, Y, Z)\n",
    "    k[i] = ph.opacity(d1[i], t1[i], X, Y, Z)\n",
    "    v[i] = 4*ph.m_prot*ph.Etot(d1[i], t1[i], X, Y, Z)/X/ph.dEpp*ph.year\n",
    "    \n",
    "for n in range(N):\n",
    "    sa = 0\n",
    "    sb = 0\n",
    "    for i in range(1 + M*n, M*n + M -1):\n",
    "        X = x1[i]\n",
    "        Y = 1 - Z - X\n",
    "        mu = ph.MU(X, Y, Z)\n",
    "        a[i] = -ph.G*m[i]*d1[i]/pow(r[i], 2)\n",
    "        da[i] = (p[i+1] - p[i])/2/(r[i+1] - r[i]) + (p[i] - p[i-1])/2/(r[i] - r[i-1])\n",
    "        br[i] = -3/16*k[i]*d1[i]*l[i]/ph.sigma/pow(t1[i], 3)/4/pi/pow(r[i], 2)\n",
    "        bc[i] = -0.4*mu/ph.kB*ph.m_prot*ph.G*m[i]/pow(r[i], 2)\n",
    "        if abs(br[i]) < abs(bc[i]):\n",
    "            b[i] = br[i]\n",
    "        else:\n",
    "            b[i] = bc[i]\n",
    "        db[i] = (t1[i+1] - t1[i])/2/(r[i+1] - r[i]) + (t1[i] - t1[i-1])/2/(r[i] - r[i-1])\n",
    "        sa += pow((da[i] - a[i])/a[i], 2)\n",
    "        sb += pow((db[i] - b[i])/b[i], 2)\n",
    "#     print(sa, sb)\n",
    "    e[n] = 5*sa + sb    "
   ]
  },
  {
   "cell_type": "code",
   "execution_count": 111,
   "metadata": {},
   "outputs": [
    {
     "data": {
      "text/plain": [
       "array([5.68906675, 2.1697478 , 1.51036359, 1.42626539, 1.49257524,\n",
       "       1.7655704 , 1.59584113, 1.6342169 , 2.3415129 , 1.6344724 ])"
      ]
     },
     "execution_count": 111,
     "metadata": {},
     "output_type": "execute_result"
    }
   ],
   "source": [
    "e"
   ]
  },
  {
   "cell_type": "code",
   "execution_count": 112,
   "metadata": {},
   "outputs": [],
   "source": [
    "x1 = x*np.exp(-1e9*v)\n",
    "d1 = d*1.01\n",
    "t1 = t*1.0\n",
    "\n",
    "# Вычисляем величины r,l,p,k,c,v из x,m,d,t\n",
    "r[0] = 0.\n",
    "l[0] = 0.\n",
    "for i in range(1, dimM):\n",
    "    r[i] = pow(pow(r[i-1], 3) + 3*(m[i] - m[i-1])/4/pi/d1[i-1], 1/3) \n",
    "    l[i] = l[i-1] + (m[i] - m[i-1])*ph.Etot(0.5*(d1[i]+d1[i-1]), 0.5*(t1[i]+t1[i-1]), x1[i], 1 - Z - x1[i], Z)\n",
    "for i in range(dimM):\n",
    "    X = x1[i]\n",
    "    Y = 1 - Z -X\n",
    "    p[i] = ph.Pressure(d1[i], t1[i], X, Y, Z)\n",
    "    k[i] = ph.opacity(d1[i], t1[i], X, Y, Z)\n",
    "    v[i] = 4*ph.m_prot*ph.Etot(d1[i], t1[i], X, Y, Z)/X/ph.dEpp*ph.year\n",
    "    \n",
    "for n in range(N):\n",
    "    sa = 0\n",
    "    sb = 0\n",
    "    for i in range(1 + M*n, M*n + M -1):\n",
    "        X = x1[i]\n",
    "        Y = 1 - Z - X\n",
    "        mu = ph.MU(X, Y, Z)\n",
    "        a[i] = -ph.G*m[i]*d1[i]/pow(r[i], 2)\n",
    "        da[i] = (p[i+1] - p[i])/2/(r[i+1] - r[i]) + (p[i] - p[i-1])/2/(r[i] - r[i-1])\n",
    "        br[i] = -3/16*k[i]*d1[i]*l[i]/ph.sigma/pow(t1[i], 3)/4/pi/pow(r[i], 2)\n",
    "        bc[i] = -0.4*mu/ph.kB*ph.m_prot*ph.G*m[i]/pow(r[i], 2)\n",
    "        if abs(br[i]) < abs(bc[i]):\n",
    "            b[i] = br[i]\n",
    "        else:\n",
    "            b[i] = bc[i]\n",
    "        db[i] = (t1[i+1] - t1[i])/2/(r[i+1] - r[i]) + (t1[i] - t1[i-1])/2/(r[i] - r[i-1])\n",
    "        sa += pow((da[i] - a[i])/a[i], 2)\n",
    "        sb += pow((db[i] - b[i])/b[i], 2)\n",
    "#     print(sa, sb)\n",
    "    ed[n] = 5*sa + sb    "
   ]
  },
  {
   "cell_type": "code",
   "execution_count": 113,
   "metadata": {},
   "outputs": [],
   "source": [
    "x1 = x*np.exp(-1e9*v)\n",
    "d1 = d*1.0\n",
    "t1 = t*1.01\n",
    "\n",
    "# Вычисляем величины r,l,p,k,c,v из x,m,d,t\n",
    "r[0] = 0.\n",
    "l[0] = 0.\n",
    "for i in range(1, dimM):\n",
    "    r[i] = pow(pow(r[i-1], 3) + 3*(m[i] - m[i-1])/4/pi/d1[i-1], 1/3) \n",
    "    l[i] = l[i-1] + (m[i] - m[i-1])*ph.Etot(0.5*(d1[i]+d1[i-1]), 0.5*(t1[i]+t1[i-1]), x1[i], 1 - Z - x1[i], Z)\n",
    "for i in range(dimM):\n",
    "    X = x1[i]\n",
    "    Y = 1 - Z -X\n",
    "    p[i] = ph.Pressure(d1[i], t1[i], X, Y, Z)\n",
    "    k[i] = ph.opacity(d1[i], t1[i], X, Y, Z)\n",
    "    v[i] = 4*ph.m_prot*ph.Etot(d1[i], t1[i], X, Y, Z)/X/ph.dEpp*ph.year\n",
    "    \n",
    "for n in range(N):\n",
    "    sa = 0\n",
    "    sb = 0\n",
    "    for i in range(1 + M*n, M*n + M -1):\n",
    "        X = x1[i]\n",
    "        Y = 1 - Z - X\n",
    "        mu = ph.MU(X, Y, Z)\n",
    "        a[i] = -ph.G*m[i]*d1[i]/pow(r[i], 2)\n",
    "        da[i] = (p[i+1] - p[i])/2/(r[i+1] - r[i]) + (p[i] - p[i-1])/2/(r[i] - r[i-1])\n",
    "        br[i] = -3/16*k[i]*d1[i]*l[i]/ph.sigma/pow(t1[i], 3)/4/pi/pow(r[i], 2)\n",
    "        bc[i] = -0.4*mu/ph.kB*ph.m_prot*ph.G*m[i]/pow(r[i], 2)\n",
    "        if abs(br[i]) < abs(bc[i]):\n",
    "            b[i] = br[i]\n",
    "        else:\n",
    "            b[i] = bc[i]\n",
    "        db[i] = (t1[i+1] - t1[i])/2/(r[i+1] - r[i]) + (t1[i] - t1[i-1])/2/(r[i] - r[i-1])\n",
    "        sa += pow((da[i] - a[i])/a[i], 2)\n",
    "        sb += pow((db[i] - b[i])/b[i], 2)\n",
    "#     print(sa, sb)\n",
    "    et[n] = 5*sa + sb    "
   ]
  },
  {
   "cell_type": "code",
   "execution_count": 114,
   "metadata": {
    "scrolled": true
   },
   "outputs": [
    {
     "data": {
      "text/plain": [
       "(array([5.68906675, 2.1697478 , 1.51036359, 1.42626539, 1.49257524,\n",
       "        1.7655704 , 1.59584113, 1.6342169 , 2.3415129 , 1.6344724 ]),\n",
       " array([4.59687814, 1.12662226, 0.42185784, 0.23026332, 0.17023725,\n",
       "        0.14891025, 0.1441002 , 0.14247826, 0.14622392, 0.31583616]),\n",
       " array([5.35871383, 2.04452212, 1.4350154 , 1.36224479, 1.43000864,\n",
       "        1.69805105, 1.53380826, 1.57053348, 2.26607856, 1.57859111]))"
      ]
     },
     "execution_count": 114,
     "metadata": {},
     "output_type": "execute_result"
    }
   ],
   "source": [
    "e, ed, et"
   ]
  },
  {
   "cell_type": "code",
   "execution_count": 115,
   "metadata": {},
   "outputs": [
    {
     "data": {
      "text/plain": [
       "array([-1.09218861, -1.04312555, -1.08850575, -1.19600207, -1.32233798,\n",
       "       -1.61666015, -1.45174093, -1.49173864, -2.19528898, -1.31863624])"
      ]
     },
     "execution_count": 115,
     "metadata": {},
     "output_type": "execute_result"
    }
   ],
   "source": [
    "ed - e"
   ]
  },
  {
   "cell_type": "code",
   "execution_count": 116,
   "metadata": {},
   "outputs": [
    {
     "data": {
      "text/plain": [
       "array([-0.33035292, -0.12522569, -0.07534819, -0.06402061, -0.0625666 ,\n",
       "       -0.06751935, -0.06203287, -0.06368342, -0.07543434, -0.05588129])"
      ]
     },
     "execution_count": 116,
     "metadata": {},
     "output_type": "execute_result"
    }
   ],
   "source": [
    "et - e"
   ]
  },
  {
   "cell_type": "code",
   "execution_count": 117,
   "metadata": {},
   "outputs": [],
   "source": [
    "kd = 1 - 0.001*(ed - e)\n",
    "kt = 1 - 0.001*(et - e)"
   ]
  },
  {
   "cell_type": "code",
   "execution_count": 118,
   "metadata": {},
   "outputs": [
    {
     "data": {
      "text/plain": [
       "array([1.00109219, 1.00104313, 1.00108851, 1.001196  , 1.00132234,\n",
       "       1.00161666, 1.00145174, 1.00149174, 1.00219529, 1.00131864])"
      ]
     },
     "execution_count": 118,
     "metadata": {},
     "output_type": "execute_result"
    }
   ],
   "source": [
    "kd"
   ]
  },
  {
   "cell_type": "code",
   "execution_count": 119,
   "metadata": {},
   "outputs": [
    {
     "data": {
      "text/plain": [
       "array([1.00033035, 1.00012523, 1.00007535, 1.00006402, 1.00006257,\n",
       "       1.00006752, 1.00006203, 1.00006368, 1.00007543, 1.00005588])"
      ]
     },
     "execution_count": 119,
     "metadata": {},
     "output_type": "execute_result"
    }
   ],
   "source": [
    "kt"
   ]
  },
  {
   "cell_type": "code",
   "execution_count": 120,
   "metadata": {},
   "outputs": [],
   "source": [
    "for n in range(N):\n",
    "    for j in range(M):\n",
    "        d1[n*N + j] = d[n*N + j]*kd[n]\n",
    "        t1[n*N + j] = t[n*N + j]*kt[n]"
   ]
  },
  {
   "cell_type": "code",
   "execution_count": 121,
   "metadata": {},
   "outputs": [],
   "source": [
    "# Вычисляем величины r,l,p,k,c,v из x,m,d,t\n",
    "r[0] = 0.\n",
    "l[0] = 0.\n",
    "for i in range(1, dimM):\n",
    "    r[i] = pow(pow(r[i-1], 3) + 3*(m[i] - m[i-1])/4/pi/d1[i-1], 1/3) \n",
    "    l[i] = l[i-1] + (m[i] - m[i-1])*ph.Etot(0.5*(d1[i]+d1[i-1]), 0.5*(t1[i]+t1[i-1]), x1[i], 1 - Z - x1[i], Z)\n",
    "for i in range(dimM):\n",
    "    X = x1[i]\n",
    "    Y = 1 - Z -X\n",
    "    p[i] = ph.Pressure(d1[i], t1[i], X, Y, Z)\n",
    "    k[i] = ph.opacity(d1[i], t1[i], X, Y, Z)\n",
    "    v[i] = 4*ph.m_prot*ph.Etot(d1[i], t1[i], X, Y, Z)/X/ph.dEpp*ph.year\n",
    "    \n",
    "for n in range(N):\n",
    "    sa = 0\n",
    "    sb = 0\n",
    "    for i in range(1 + M*n, M*n + M -1):\n",
    "        X = x1[i]\n",
    "        Y = 1 - Z - X\n",
    "        mu = ph.MU(X, Y, Z)\n",
    "        a[i] = -ph.G*m[i]*d1[i]/pow(r[i], 2)\n",
    "        da[i] = (p[i+1] - p[i])/2/(r[i+1] - r[i]) + (p[i] - p[i-1])/2/(r[i] - r[i-1])\n",
    "        br[i] = -3/16*k[i]*d1[i]*l[i]/ph.sigma/pow(t1[i], 3)/4/pi/pow(r[i], 2)\n",
    "        bc[i] = -0.4*mu/ph.kB*ph.m_prot*ph.G*m[i]/pow(r[i], 2)\n",
    "        if abs(br[i]) < abs(bc[i]):\n",
    "            b[i] = br[i]\n",
    "        else:\n",
    "            b[i] = bc[i]\n",
    "        db[i] = (t1[i+1] - t1[i])/2/(r[i+1] - r[i]) + (t1[i] - t1[i-1])/2/(r[i] - r[i-1])\n",
    "        sa += pow((da[i] - a[i])/a[i], 2)\n",
    "        sb += pow((db[i] - b[i])/b[i], 2)\n",
    "#     print(sa, sb)\n",
    "    e[n] = 5*sa + sb    "
   ]
  },
  {
   "cell_type": "code",
   "execution_count": 122,
   "metadata": {},
   "outputs": [
    {
     "data": {
      "text/plain": [
       "array([ 5.00650015, 67.28203922,  2.58020673,  2.37088939,  2.41420857,\n",
       "        2.74747555,  2.50659949,  2.56707633,  3.43139096,  2.46807166])"
      ]
     },
     "execution_count": 122,
     "metadata": {},
     "output_type": "execute_result"
    }
   ],
   "source": [
    "e"
   ]
  },
  {
   "cell_type": "code",
   "execution_count": null,
   "metadata": {},
   "outputs": [],
   "source": []
  }
 ],
 "metadata": {
  "kernelspec": {
   "display_name": "Python 3",
   "language": "python",
   "name": "python3"
  },
  "language_info": {
   "codemirror_mode": {
    "name": "ipython",
    "version": 3
   },
   "file_extension": ".py",
   "mimetype": "text/x-python",
   "name": "python",
   "nbconvert_exporter": "python",
   "pygments_lexer": "ipython3",
   "version": "3.7.4"
  }
 },
 "nbformat": 4,
 "nbformat_minor": 2
}
