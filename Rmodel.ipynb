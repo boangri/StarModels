{
 "cells": [
  {
   "cell_type": "markdown",
   "metadata": {},
   "source": [
    "# model_R\n",
    "\n",
    "Date of creation: 13.07.2020\n",
    "\n",
    "Last updated: 13.07.2020"
   ]
  },
  {
   "cell_type": "code",
   "execution_count": 2,
   "metadata": {},
   "outputs": [],
   "source": [
    "import math\n",
    "import numpy as np\n",
    "import pandas as pd"
   ]
  },
  {
   "cell_type": "code",
   "execution_count": 3,
   "metadata": {
    "scrolled": true
   },
   "outputs": [
    {
     "name": "stdout",
     "output_type": "stream",
     "text": [
      "importing Jupyter notebook from Physics.ipynb\n",
      "Physics version 1.14 13.07.2020\n",
      "importing Jupyter notebook from SSM18.ipynb\n",
      "SSM18 version 1.9 13.07.2020\n"
     ]
    }
   ],
   "source": [
    "import NotebookLoader\n",
    "import Physics as ph\n",
    "import SSM18 as s"
   ]
  },
  {
   "cell_type": "markdown",
   "metadata": {},
   "source": [
    "## Интегрирование от центра по расстоянию\n",
    "параметры модели: плотность и температура в центре.\n",
    "\n",
    "хим.состав, число точек, шаг по радиусу.\n",
    "\n",
    "вызывает функцию XYZ(m) для получения кортежа (X, Y, Z) для данной доли массы от полной (m должна быть от 0 до 1)"
   ]
  },
  {
   "cell_type": "code",
   "execution_count": 6,
   "metadata": {},
   "outputs": [],
   "source": [
    "def model_R(d0, t0, XYZ, Z=0.02, opacity=ph.Opacity, energy=ph.Etot, dim=30000, M=s.M, debug=False) :  \n",
    "    # distance from the center\n",
    "    r = np.zeros(dim, dtype='float64')\n",
    "    # density\n",
    "    d = np.zeros(dim, dtype='float64')\n",
    "    # temperature\n",
    "    t = np.zeros(dim, dtype='float64')\n",
    "    # luminosity\n",
    "    l = np.zeros(dim, dtype='float64')\n",
    "    # mass inside r\n",
    "    m = np.zeros(dim, dtype='float64')\n",
    "    # pressure\n",
    "    p = np.zeros(dim, dtype='float64')\n",
    "    # hydrogen\n",
    "    x = np.zeros(dim, dtype='float64')\n",
    "    # opacity\n",
    "    k = np.zeros(dim, dtype='float64')\n",
    "    # 1 - convection, 0 - radiation\n",
    "    c = np.zeros(dim)\n",
    "    # скорость выгорания водорода (величина, обратная характерному времени)\n",
    "    v = np.zeros(dim, dtype='float64')\n",
    "\n",
    "    X, Y, Z = XYZ(0)\n",
    "    mu = ph.MU(X, Y, Z)\n",
    "    R1 = pow(1.5*ph.kB*t0/ph.pi/mu/ph.m_prot/ph.G/d0, 0.5)\n",
    "    dr = 0.001*R1\n",
    "    \n",
    "# начальные данные\n",
    "    for n in range(2) :\n",
    "        r[n] = n*dr\n",
    "        V = 4*ph.pi/3*pow(r[n], 3)\n",
    "        d[n] = d0*(1 - pow(r[n]/R1, 2))\n",
    "        t[n] = t0\n",
    "        m[n] = V*d[n]*(1 - 0.6*pow(r[n]/R1, 2))\n",
    "        X, Y, Z = XYZ(m[n]/M)\n",
    "        x[n] = X\n",
    "        mu = ph.MU(X, Y, Z)\n",
    "        l[n] = m[n]*energy(d[n], t[n], X, Y, Z)\n",
    "        p[n] = ph.Pressure(d[n], t[n], X, Y, Z)\n",
    "        k[n] = opacity(d[n], t[n], X, Y, Z)\n",
    "        v[n] = 4*ph.m_prot*energy(d[n], t[n], X, Y, Z)/X/ph.dEpp*ph.year\n",
    "        c[n] = 0.\n",
    "    for n in range(1, dim - 1) :\n",
    "        S = 4*ph.pi*r[n]*r[n]\n",
    "        g = ph.G*m[n]/r[n]/r[n]\n",
    "        rad = 3/16*k[n]*d[n]*l[n]/ph.sigma/pow(t[n], 3)/S\n",
    "        con = 0.4*mu/ph.kB*ph.m_prot*g\n",
    "        r[n+1] = r[n] + dr\n",
    "        if rad < con:\n",
    "            c[n+1] = 0.\n",
    "            dtdr = -rad\n",
    "        else:\n",
    "            c[n+1] = 1.\n",
    "            dtdr = -con\n",
    "#         dt = 2*dtdr*dr - (t[n] - t[n-1])/(r[n] - r[n-1])*dr\n",
    "        dt = dtdr*dr\n",
    "        t[n+1] = t[n] + dt\n",
    "        dpdr = -g*d[n]\n",
    "#         p[n+1] = p[n] + 2*dpdr*dr - (p[n] -p[n-1])/(r[n] - r[n-1])*dr\n",
    "        p[n+1] = p[n] + dpdr*dr\n",
    "        if p[n+1] < 0. : \n",
    "            raise Exception(\"Negative pressure\")\n",
    "            break\n",
    "        # Находим плотность из уравнения состояния\n",
    "        d[n+1] = mu*ph.m_prot*p[n+1]/ph.kB/t[n+1]\n",
    "        davg = (d[n+1] + d[n])/2\n",
    "        tavg = (t[n+1] + t[n])/2\n",
    "        dm = 4*ph.pi/3*(pow(r[n+1], 3) - pow(r[n], 3))*davg\n",
    "        m[n+1] = m[n] + dm\n",
    "        l[n+1] = l[n] + dm*energy(davg, tavg, X, Y, Z)\n",
    "        X, Y, Z = XYZ(m[n+1]/M)\n",
    "        x[n+1] = X\n",
    "        mu = ph.MU(X, Y, Z)\n",
    "        k[n+1] = opacity(d[n+1], t[n+1], X, Y, Z)\n",
    "        v[n+1] = 4*ph.m_prot*energy(d[n+1], t[n+1], X, Y, Z)/X/ph.dEpp*ph.year\n",
    "        \n",
    "        if debug:\n",
    "            print(\"%d r=%.4f m=%.4f d=%.3f t=%.0f p=%.2e k=%.2f c=%.1f\" % (n, r[n]/s.R, m[n]/M, d[n], t[n], p[n], k[n], c[n]))\n",
    "        # уменьшаем шаг если температура падает слишком резко\n",
    "        if abs(dt/t[n]) > 1e-3 :\n",
    "            dr = 0.7*dr\n",
    "        if m[n+1]/M > 1.1 : \n",
    "            raise Exception('Mass exceeded 1.1*M_target')\n",
    "        Tsur = pow(l[n]/ph.sigma/S, 1/4)\n",
    "        if t[n+1] < Tsur :\n",
    "            break\n",
    "        \n",
    "    if (n == dim - 2) :\n",
    "         raise Exception(\"Error, increase dim!\")\n",
    "\n",
    "    df = pd.DataFrame({'Mass': m[:n+1], 'Radius': r[:n+1], 'Temperature': t[:n+1], 'Density': d[:n+1], 'Luminosity': l[:n+1], \n",
    "                       'Hydrogen': x[:n+1], 'Opacity': k[:n+1], 'Convection': c[:n+1], 'Pressure': p[:n+1], 'Velocity': v[:n+1]})\n",
    "\n",
    "    return (n, m[n], r[n], l[n], t[n], df)"
   ]
  },
  {
   "cell_type": "code",
   "execution_count": 7,
   "metadata": {},
   "outputs": [
    {
     "name": "stdout",
     "output_type": "stream",
     "text": [
      "Rmodel version 1.06 16.07.2020\n"
     ]
    }
   ],
   "source": [
    "print('Rmodel version 1.06 16.07.2020')"
   ]
  },
  {
   "cell_type": "code",
   "execution_count": null,
   "metadata": {},
   "outputs": [],
   "source": []
  }
 ],
 "metadata": {
  "celltoolbar": "Raw Cell Format",
  "kernelspec": {
   "display_name": "Python 3",
   "language": "python",
   "name": "python3"
  },
  "language_info": {
   "codemirror_mode": {
    "name": "ipython",
    "version": 3
   },
   "file_extension": ".py",
   "mimetype": "text/x-python",
   "name": "python",
   "nbconvert_exporter": "python",
   "pygments_lexer": "ipython3",
   "version": "3.7.4"
  }
 },
 "nbformat": 4,
 "nbformat_minor": 2
}
