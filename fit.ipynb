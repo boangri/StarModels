{
 "cells": [
  {
   "cell_type": "markdown",
   "metadata": {},
   "source": [
    "# fit central density and temperature to the given mass of the star \n",
    "\n",
    "Date of creation: 13.07.2020\n",
    "\n",
    "Last updated: 13.07.2020"
   ]
  },
  {
   "cell_type": "code",
   "execution_count": 1,
   "metadata": {},
   "outputs": [],
   "source": [
    "import math\n",
    "import numpy as np\n",
    "import pandas as pd\n",
    "\n",
    "%matplotlib inline\n",
    "\n",
    "import matplotlib as mpl\n",
    "import matplotlib.pyplot as plt"
   ]
  },
  {
   "cell_type": "code",
   "execution_count": 2,
   "metadata": {
    "scrolled": true
   },
   "outputs": [
    {
     "name": "stdout",
     "output_type": "stream",
     "text": [
      "importing Jupyter notebook from Physics.ipynb\n",
      "Physics version 1.14 13.07.2020\n",
      "importing Jupyter notebook from SSM18.ipynb\n",
      "SSM18 version 1.9 13.07.2020\n",
      "importing Jupyter notebook from Rmodel.ipynb\n",
      "Rmodel version 1.06 16.07.2020\n"
     ]
    }
   ],
   "source": [
    "import NotebookLoader\n",
    "import Physics as ph\n",
    "import SSM18 as s\n",
    "import Rmodel as r"
   ]
  },
  {
   "cell_type": "code",
   "execution_count": 3,
   "metadata": {},
   "outputs": [
    {
     "data": {
      "text/html": [
       "<div>\n",
       "<style scoped>\n",
       "    .dataframe tbody tr th:only-of-type {\n",
       "        vertical-align: middle;\n",
       "    }\n",
       "\n",
       "    .dataframe tbody tr th {\n",
       "        vertical-align: top;\n",
       "    }\n",
       "\n",
       "    .dataframe thead th {\n",
       "        text-align: right;\n",
       "    }\n",
       "</style>\n",
       "<table border=\"1\" class=\"dataframe\">\n",
       "  <thead>\n",
       "    <tr style=\"text-align: right;\">\n",
       "      <th></th>\n",
       "      <th>Unnamed: 0</th>\n",
       "      <th>Epoch00</th>\n",
       "      <th>Epoch01</th>\n",
       "    </tr>\n",
       "  </thead>\n",
       "  <tbody>\n",
       "    <tr>\n",
       "      <td>0</td>\n",
       "      <td>0</td>\n",
       "      <td>0.732</td>\n",
       "      <td>0.648658</td>\n",
       "    </tr>\n",
       "    <tr>\n",
       "      <td>1</td>\n",
       "      <td>1</td>\n",
       "      <td>0.732</td>\n",
       "      <td>0.652529</td>\n",
       "    </tr>\n",
       "    <tr>\n",
       "      <td>2</td>\n",
       "      <td>2</td>\n",
       "      <td>0.732</td>\n",
       "      <td>0.654702</td>\n",
       "    </tr>\n",
       "    <tr>\n",
       "      <td>3</td>\n",
       "      <td>3</td>\n",
       "      <td>0.732</td>\n",
       "      <td>0.656470</td>\n",
       "    </tr>\n",
       "    <tr>\n",
       "      <td>4</td>\n",
       "      <td>4</td>\n",
       "      <td>0.732</td>\n",
       "      <td>0.658008</td>\n",
       "    </tr>\n",
       "    <tr>\n",
       "      <td>...</td>\n",
       "      <td>...</td>\n",
       "      <td>...</td>\n",
       "      <td>...</td>\n",
       "    </tr>\n",
       "    <tr>\n",
       "      <td>996</td>\n",
       "      <td>996</td>\n",
       "      <td>0.732</td>\n",
       "      <td>0.732000</td>\n",
       "    </tr>\n",
       "    <tr>\n",
       "      <td>997</td>\n",
       "      <td>997</td>\n",
       "      <td>0.732</td>\n",
       "      <td>0.732000</td>\n",
       "    </tr>\n",
       "    <tr>\n",
       "      <td>998</td>\n",
       "      <td>998</td>\n",
       "      <td>0.732</td>\n",
       "      <td>0.732000</td>\n",
       "    </tr>\n",
       "    <tr>\n",
       "      <td>999</td>\n",
       "      <td>999</td>\n",
       "      <td>0.732</td>\n",
       "      <td>0.732000</td>\n",
       "    </tr>\n",
       "    <tr>\n",
       "      <td>1000</td>\n",
       "      <td>1000</td>\n",
       "      <td>0.732</td>\n",
       "      <td>0.732000</td>\n",
       "    </tr>\n",
       "  </tbody>\n",
       "</table>\n",
       "<p>1001 rows × 3 columns</p>\n",
       "</div>"
      ],
      "text/plain": [
       "      Unnamed: 0  Epoch00   Epoch01\n",
       "0              0    0.732  0.648658\n",
       "1              1    0.732  0.652529\n",
       "2              2    0.732  0.654702\n",
       "3              3    0.732  0.656470\n",
       "4              4    0.732  0.658008\n",
       "...          ...      ...       ...\n",
       "996          996    0.732  0.732000\n",
       "997          997    0.732  0.732000\n",
       "998          998    0.732  0.732000\n",
       "999          999    0.732  0.732000\n",
       "1000        1000    0.732  0.732000\n",
       "\n",
       "[1001 rows x 3 columns]"
      ]
     },
     "execution_count": 3,
     "metadata": {},
     "output_type": "execute_result"
    }
   ],
   "source": [
    "def load_hydrogen():\n",
    "    filename = 'Mass/hydrogen.csv'\n",
    "    return pd.read_csv(filename)\n",
    "epoch = 0\n",
    "dfx = load_hydrogen()\n",
    "dimM = len(dfx.index)\n",
    "dfx"
   ]
  },
  {
   "cell_type": "code",
   "execution_count": 4,
   "metadata": {},
   "outputs": [],
   "source": [
    "epoch = 0\n",
    "hyd = dfx['Epoch%02d' % epoch].values"
   ]
  },
  {
   "cell_type": "code",
   "execution_count": 5,
   "metadata": {},
   "outputs": [],
   "source": [
    "\"\"\"\n",
    "m is M/s.M (must be between 0 and 1)\n",
    "\"\"\"\n",
    "def XYZ(m, Z=0.02):\n",
    "    i = int(m*(len(hyd) - 1))\n",
    "    if i > len(hyd) - 1:\n",
    "        i = len(hyd) - 1\n",
    "    X = hyd[i]\n",
    "    Y = 1 - Z - X\n",
    "    return (X, Y, Z)\n",
    "    "
   ]
  },
  {
   "cell_type": "code",
   "execution_count": 6,
   "metadata": {},
   "outputs": [
    {
     "data": {
      "text/plain": [
       "(0.732, 0.248, 0.02)"
      ]
     },
     "execution_count": 6,
     "metadata": {},
     "output_type": "execute_result"
    }
   ],
   "source": [
    "XYZ(0)"
   ]
  },
  {
   "cell_type": "code",
   "execution_count": 7,
   "metadata": {},
   "outputs": [
    {
     "name": "stdout",
     "output_type": "stream",
     "text": [
      "Wall time: 543 ms\n"
     ]
    },
    {
     "data": {
      "text/plain": [
       "(9443,\n",
       " 0.7105269551847768,\n",
       " 0.3986475114357039,\n",
       " 0.5218511789074138,\n",
       " 7778.322419247444)"
      ]
     },
     "execution_count": 7,
     "metadata": {},
     "output_type": "execute_result"
    }
   ],
   "source": [
    "%%time\n",
    "t0=1.33300e+07 \n",
    "d0=94.5544713300\n",
    "n, M, R, L, T, df = r.model_R(d0, t0, XYZ, debug=False)\n",
    "n, M/s.M, R/s.R, L/s.L, T"
   ]
  },
  {
   "cell_type": "markdown",
   "metadata": {},
   "source": [
    "### Поиск комбинации центральных плотности и температуры, дающих решение с массой равной солнечной. (Первый вариант)\n",
    "\n",
    "Для интегрирования уравнений из центра надо задать плотность и температуру в центре, но только одна их комбинации \n",
    "соответствует решению с массой, равной солнечной (при фиксированном хим. составе)\n",
    "\n",
    "Внешний цикл по температурам, внутренний цикл - по плотности.\n",
    "При фиксированной температуре постепенно повышаем плотность, пока не появится стабильное решение с массой < 1.\n",
    "После этого возвращаемся на 1 шаг назад по плотности, уменьшаем шаг по плотности в 10 раз и повторям процедуру.\n",
    "Так делаем пока шаг по плотности не станет меньше 1e-8."
   ]
  },
  {
   "cell_type": "code",
   "execution_count": 8,
   "metadata": {},
   "outputs": [
    {
     "name": "stdout",
     "output_type": "stream",
     "text": [
      "\tT0=1.45100e+07 D0=100.0000000000 n=9396 M=0.7847 R=0.4044 L=0.8860 T=8817\n",
      "\tT0=1.45100e+07 D0=91.0000000000 n=9458 M=0.8367 R=0.4293 L=0.8660 T=8510\n",
      "\tT0=1.45100e+07 D0=90.1000000000 n=9682 M=0.9579 R=0.5195 L=0.9245 T=7860\n",
      "\tT0=1.45100e+07 D0=90.0900000000 n=9777 M=0.9822 R=0.5667 L=0.9260 T=7532\n",
      "\tT0=1.45100e+07 D0=90.0890000000 n=9832 M=0.9899 R=0.5920 L=0.9262 T=7372\n",
      "\tT0=1.45100e+07 D0=90.0886000000 n=9879 M=0.9973 R=0.6323 L=0.9262 T=7127\n",
      "\tT0=1.45100e+07 D0=90.0885600000 n=9890 M=0.9994 R=0.6538 L=0.9262 T=7015\n",
      "\tT0=1.45100e+07 D0=90.0885520000 n=9914 M=1.0004 R=0.6729 L=0.9262 T=6914\n",
      "\tT0=1.45100e+07 D0=90.0885518000 n=9909 M=1.0005 R=0.6763 L=0.9262 T=6896\n",
      "\tT0=1.45100e+07 D0=90.0885517400 n=9916 M=1.0006 R=0.6809 L=0.9262 T=6872\n",
      "# T0=1.45100e+07 D0=90.09 n=9916 M=1.0006 R=0.6809 L=0.926 T=6872\n",
      "Done!\n",
      "Wall time: 1min\n"
     ]
    }
   ],
   "source": [
    "%%time\n",
    "dim = 11\n",
    "for j in range(dim) :\n",
    "#     T0 = 1.333e7 + 0.001e7*j  # M = M_sol, epoch = 0\n",
    "    T0 = 14.51e6 + 0.01e6*j\n",
    "    step = 10 # step by density\n",
    "    exc = True\n",
    "    den0 = 60\n",
    "    if j > 0:\n",
    "        df_prev = df.copy()\n",
    "    while step > 1e-8 :    \n",
    "        for i in range(10) :\n",
    "#             print('j=%d i=%d step=%.9f d=%.8f t=%.0f' % (j, i, step, den0, T0))\n",
    "            try :\n",
    "                n, M, R, L, T, df = r.model_R(den0, T0, XYZ, debug=False)\n",
    "            except Exception as error:\n",
    "#                 print(T0, den0, 'Caught this error: ' + repr(error))\n",
    "                exc = True\n",
    "                den0 += step\n",
    "                break\n",
    "            if exc :\n",
    "                exc = False\n",
    "                print('\\tT0=%.5e D0=%.10f n=%d M=%.4f R=%.4f L=%.4f T=%.0f' % (T0, den0, n, M/s.M, R/s.R, L/s.L, T))\n",
    "                den0 -= step\n",
    "                step /= 10.\n",
    "                break\n",
    "            den0 -= step\n",
    "    print('# T0=%.5e D0=%.2f n=%d M=%.4f R=%.4f L=%.3f T=%.0f' % (T0, den0, n, M/s.M, R/s.R, L/s.L, T))\n",
    "    if M/s.M > 1 :\n",
    "#         df = df_prev\n",
    "        break\n",
    "print(\"Done!\")"
   ]
  },
  {
   "cell_type": "code",
   "execution_count": 9,
   "metadata": {
    "scrolled": true
   },
   "outputs": [
    {
     "data": {
      "text/html": [
       "<div>\n",
       "<style scoped>\n",
       "    .dataframe tbody tr th:only-of-type {\n",
       "        vertical-align: middle;\n",
       "    }\n",
       "\n",
       "    .dataframe tbody tr th {\n",
       "        vertical-align: top;\n",
       "    }\n",
       "\n",
       "    .dataframe thead th {\n",
       "        text-align: right;\n",
       "    }\n",
       "</style>\n",
       "<table border=\"1\" class=\"dataframe\">\n",
       "  <thead>\n",
       "    <tr style=\"text-align: right;\">\n",
       "      <th></th>\n",
       "      <th>Mass</th>\n",
       "      <th>Radius</th>\n",
       "      <th>Temperature</th>\n",
       "      <th>Density</th>\n",
       "      <th>Luminosity</th>\n",
       "      <th>Hydrogen</th>\n",
       "      <th>Opacity</th>\n",
       "      <th>Convection</th>\n",
       "      <th>Pressure</th>\n",
       "      <th>Velocity</th>\n",
       "    </tr>\n",
       "  </thead>\n",
       "  <tbody>\n",
       "    <tr>\n",
       "      <td>0</td>\n",
       "      <td>0.000000e+00</td>\n",
       "      <td>0.000000e+00</td>\n",
       "      <td>1.451000e+07</td>\n",
       "      <td>90.088552</td>\n",
       "      <td>0.000000e+00</td>\n",
       "      <td>0.732</td>\n",
       "      <td>1.445585</td>\n",
       "      <td>0.0</td>\n",
       "      <td>1.794413e+17</td>\n",
       "      <td>1.208950e-10</td>\n",
       "    </tr>\n",
       "    <tr>\n",
       "      <td>1</td>\n",
       "      <td>7.513729e+23</td>\n",
       "      <td>1.258054e+07</td>\n",
       "      <td>1.451000e+07</td>\n",
       "      <td>90.088462</td>\n",
       "      <td>1.298535e+25</td>\n",
       "      <td>0.732</td>\n",
       "      <td>1.445584</td>\n",
       "      <td>0.0</td>\n",
       "      <td>1.794411e+17</td>\n",
       "      <td>1.208948e-10</td>\n",
       "    </tr>\n",
       "    <tr>\n",
       "      <td>2</td>\n",
       "      <td>6.010983e+24</td>\n",
       "      <td>2.516108e+07</td>\n",
       "      <td>1.450999e+07</td>\n",
       "      <td>90.088353</td>\n",
       "      <td>1.038826e+26</td>\n",
       "      <td>0.732</td>\n",
       "      <td>1.445586</td>\n",
       "      <td>0.0</td>\n",
       "      <td>1.794407e+17</td>\n",
       "      <td>1.208942e-10</td>\n",
       "    </tr>\n",
       "    <tr>\n",
       "      <td>3</td>\n",
       "      <td>2.028704e+25</td>\n",
       "      <td>3.774162e+07</td>\n",
       "      <td>1.450997e+07</td>\n",
       "      <td>90.088137</td>\n",
       "      <td>3.506012e+26</td>\n",
       "      <td>0.732</td>\n",
       "      <td>1.445589</td>\n",
       "      <td>0.0</td>\n",
       "      <td>1.794400e+17</td>\n",
       "      <td>1.208929e-10</td>\n",
       "    </tr>\n",
       "    <tr>\n",
       "      <td>4</td>\n",
       "      <td>4.808770e+25</td>\n",
       "      <td>5.032217e+07</td>\n",
       "      <td>1.450993e+07</td>\n",
       "      <td>90.087811</td>\n",
       "      <td>8.310454e+26</td>\n",
       "      <td>0.732</td>\n",
       "      <td>1.445594</td>\n",
       "      <td>0.0</td>\n",
       "      <td>1.794389e+17</td>\n",
       "      <td>1.208910e-10</td>\n",
       "    </tr>\n",
       "    <tr>\n",
       "      <td>...</td>\n",
       "      <td>...</td>\n",
       "      <td>...</td>\n",
       "      <td>...</td>\n",
       "      <td>...</td>\n",
       "      <td>...</td>\n",
       "      <td>...</td>\n",
       "      <td>...</td>\n",
       "      <td>...</td>\n",
       "      <td>...</td>\n",
       "      <td>...</td>\n",
       "    </tr>\n",
       "    <tr>\n",
       "      <td>9912</td>\n",
       "      <td>1.991121e+33</td>\n",
       "      <td>4.739400e+10</td>\n",
       "      <td>6.892412e+03</td>\n",
       "      <td>0.000088</td>\n",
       "      <td>3.565993e+33</td>\n",
       "      <td>0.732</td>\n",
       "      <td>0.401054</td>\n",
       "      <td>1.0</td>\n",
       "      <td>8.357322e+07</td>\n",
       "      <td>1.617101e-47</td>\n",
       "    </tr>\n",
       "    <tr>\n",
       "      <td>9913</td>\n",
       "      <td>1.991121e+33</td>\n",
       "      <td>4.739403e+10</td>\n",
       "      <td>6.887369e+03</td>\n",
       "      <td>0.000088</td>\n",
       "      <td>3.565993e+33</td>\n",
       "      <td>0.732</td>\n",
       "      <td>0.401053</td>\n",
       "      <td>1.0</td>\n",
       "      <td>8.342037e+07</td>\n",
       "      <td>1.602843e-47</td>\n",
       "    </tr>\n",
       "    <tr>\n",
       "      <td>9914</td>\n",
       "      <td>1.991121e+33</td>\n",
       "      <td>4.739406e+10</td>\n",
       "      <td>6.882327e+03</td>\n",
       "      <td>0.000088</td>\n",
       "      <td>3.565993e+33</td>\n",
       "      <td>0.732</td>\n",
       "      <td>0.401052</td>\n",
       "      <td>1.0</td>\n",
       "      <td>8.326769e+07</td>\n",
       "      <td>1.588700e-47</td>\n",
       "    </tr>\n",
       "    <tr>\n",
       "      <td>9915</td>\n",
       "      <td>1.991121e+33</td>\n",
       "      <td>4.739409e+10</td>\n",
       "      <td>6.877285e+03</td>\n",
       "      <td>0.000088</td>\n",
       "      <td>3.565993e+33</td>\n",
       "      <td>0.732</td>\n",
       "      <td>0.401051</td>\n",
       "      <td>1.0</td>\n",
       "      <td>8.311518e+07</td>\n",
       "      <td>1.574673e-47</td>\n",
       "    </tr>\n",
       "    <tr>\n",
       "      <td>9916</td>\n",
       "      <td>1.991121e+33</td>\n",
       "      <td>4.739412e+10</td>\n",
       "      <td>6.872243e+03</td>\n",
       "      <td>0.000088</td>\n",
       "      <td>3.565993e+33</td>\n",
       "      <td>0.732</td>\n",
       "      <td>0.401050</td>\n",
       "      <td>1.0</td>\n",
       "      <td>8.296284e+07</td>\n",
       "      <td>1.560758e-47</td>\n",
       "    </tr>\n",
       "  </tbody>\n",
       "</table>\n",
       "<p>9917 rows × 10 columns</p>\n",
       "</div>"
      ],
      "text/plain": [
       "              Mass        Radius   Temperature    Density    Luminosity  \\\n",
       "0     0.000000e+00  0.000000e+00  1.451000e+07  90.088552  0.000000e+00   \n",
       "1     7.513729e+23  1.258054e+07  1.451000e+07  90.088462  1.298535e+25   \n",
       "2     6.010983e+24  2.516108e+07  1.450999e+07  90.088353  1.038826e+26   \n",
       "3     2.028704e+25  3.774162e+07  1.450997e+07  90.088137  3.506012e+26   \n",
       "4     4.808770e+25  5.032217e+07  1.450993e+07  90.087811  8.310454e+26   \n",
       "...            ...           ...           ...        ...           ...   \n",
       "9912  1.991121e+33  4.739400e+10  6.892412e+03   0.000088  3.565993e+33   \n",
       "9913  1.991121e+33  4.739403e+10  6.887369e+03   0.000088  3.565993e+33   \n",
       "9914  1.991121e+33  4.739406e+10  6.882327e+03   0.000088  3.565993e+33   \n",
       "9915  1.991121e+33  4.739409e+10  6.877285e+03   0.000088  3.565993e+33   \n",
       "9916  1.991121e+33  4.739412e+10  6.872243e+03   0.000088  3.565993e+33   \n",
       "\n",
       "      Hydrogen   Opacity  Convection      Pressure      Velocity  \n",
       "0        0.732  1.445585         0.0  1.794413e+17  1.208950e-10  \n",
       "1        0.732  1.445584         0.0  1.794411e+17  1.208948e-10  \n",
       "2        0.732  1.445586         0.0  1.794407e+17  1.208942e-10  \n",
       "3        0.732  1.445589         0.0  1.794400e+17  1.208929e-10  \n",
       "4        0.732  1.445594         0.0  1.794389e+17  1.208910e-10  \n",
       "...        ...       ...         ...           ...           ...  \n",
       "9912     0.732  0.401054         1.0  8.357322e+07  1.617101e-47  \n",
       "9913     0.732  0.401053         1.0  8.342037e+07  1.602843e-47  \n",
       "9914     0.732  0.401052         1.0  8.326769e+07  1.588700e-47  \n",
       "9915     0.732  0.401051         1.0  8.311518e+07  1.574673e-47  \n",
       "9916     0.732  0.401050         1.0  8.296284e+07  1.560758e-47  \n",
       "\n",
       "[9917 rows x 10 columns]"
      ]
     },
     "execution_count": 9,
     "metadata": {},
     "output_type": "execute_result"
    }
   ],
   "source": [
    "# df = df_prev\n",
    "df"
   ]
  },
  {
   "cell_type": "code",
   "execution_count": 10,
   "metadata": {},
   "outputs": [
    {
     "name": "stdout",
     "output_type": "stream",
     "text": [
      "FromCenter/4epoch00.csv\n"
     ]
    }
   ],
   "source": [
    "epoch = 0\n",
    "_ = df.to_csv(line_terminator='\\n')\n",
    "filename = \"FromCenter/4epoch%.02d.csv\" % epoch\n",
    "print(filename)\n",
    "csv_file = open(filename, \"wt\")\n",
    "n = csv_file.write(_)\n",
    "csv_file.close()"
   ]
  },
  {
   "cell_type": "markdown",
   "metadata": {},
   "source": [
    "### Поиск комбинации центральных плотности и температуры, дающих решение с массой равной солнечной. (Второй вариант)\n",
    "\n",
    "Для интегрирования уравнений из центра надо задать плотность и температуру в центре, но только одна их комбинации соответствует решению с массой, равной солнечной (при фиксированном хим. составе)\n",
    "\n",
    "Альтернативный поиск (в обратном порядке)\n",
    "\n",
    "Внешний цикл по плотности, внутренний цикл - по температуре. При фиксированной плотности постепенно понижаем температуру, пока не появится стабильное решение с массой < 1. После этого возвращаемся на 1 шаг назад по температуре, уменьшаем шаг по температуре в 10 раз и повторям процедуру. Так делаем пока шаг по температуре не станет меньше 0.01 градуса."
   ]
  },
  {
   "cell_type": "code",
   "execution_count": null,
   "metadata": {
    "scrolled": false
   },
   "outputs": [],
   "source": [
    "%%time\n",
    "# Another order of fit - density outside\n",
    "dim = 11\n",
    "for j in range(dim) :\n",
    "    den0 = 94 + 0.1*j # 94.4 + 0.1*j\n",
    "    step = 1e6 # step for Temperature\n",
    "    exc = True\n",
    "    T0 = 15\n",
    "    if j > 0:\n",
    "        df_prev = df.copy()\n",
    "    while step > 1e-2 :    \n",
    "        for i in range(10) :\n",
    "            try :\n",
    "                n, M, R, L, T, df = model_R(den0, T0, debug=False)\n",
    "            except Exception as error:\n",
    "#                 print(T0, den0, 'Caught this error: ' + repr(error))\n",
    "                exc = True\n",
    "                T0 -= step\n",
    "                break\n",
    "            if exc :\n",
    "                exc = False\n",
    "                print('\\tT0=%.5f D0=%.10f n=%d M=%.4f R=%.4f L=%.4f T=%.0f' % (T0, den0, n, M/M_sol, R/R_sol, L/L_sol, T))\n",
    "                T0 += step\n",
    "                step /= 10.\n",
    "                break\n",
    "            \n",
    "    print('# T0=%.5f D0=%.2f n=%d M=%.4f R=%.4f L=%.3f T=%.0f' % (T0, den0, n, M/M_sol, R/R_sol, L/L_sol, T))\n",
    "    if M/M_sol > 1. :\n",
    "#         df = df_prev\n",
    "        break\n",
    "print(\"Done!\")"
   ]
  },
  {
   "cell_type": "code",
   "execution_count": null,
   "metadata": {},
   "outputs": [],
   "source": [
    "# df = df_prev\n",
    "df"
   ]
  },
  {
   "cell_type": "code",
   "execution_count": null,
   "metadata": {},
   "outputs": [],
   "source": [
    "_ = df.to_csv(line_terminator='\\n')\n",
    "filename = \"FromCenter/2epoch%.02d.csv\" % epoch\n",
    "print(filename)\n",
    "csv_file = open(filename, \"wt\")\n",
    "n = csv_file.write(_)\n",
    "csv_file.close()"
   ]
  },
  {
   "cell_type": "code",
   "execution_count": 30,
   "metadata": {},
   "outputs": [
    {
     "data": {
      "text/plain": [
       "(11049,\n",
       " 0.8772552888605576,\n",
       " 0.5009900889800694,\n",
       " 0.6252592215835585,\n",
       " 7252.863270233664)"
      ]
     },
     "execution_count": 30,
     "metadata": {},
     "output_type": "execute_result"
    }
   ],
   "source": [
    "T0=1.33000e+07 \n",
    "den0=94.4000000000\n",
    "n, M, R, L, T, df = model_R(den0, T0, debug=False)\n",
    "n, M/M_sol, R/R_sol, L/L_sol, T"
   ]
  },
  {
   "cell_type": "code",
   "execution_count": null,
   "metadata": {},
   "outputs": [],
   "source": []
  }
 ],
 "metadata": {
  "celltoolbar": "Raw Cell Format",
  "kernelspec": {
   "display_name": "Python 3",
   "language": "python",
   "name": "python3"
  },
  "language_info": {
   "codemirror_mode": {
    "name": "ipython",
    "version": 3
   },
   "file_extension": ".py",
   "mimetype": "text/x-python",
   "name": "python",
   "nbconvert_exporter": "python",
   "pygments_lexer": "ipython3",
   "version": "3.7.4"
  }
 },
 "nbformat": 4,
 "nbformat_minor": 2
}
