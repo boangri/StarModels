{
 "cells": [
  {
   "cell_type": "markdown",
   "metadata": {},
   "source": [
    "# fit central density and temperature to the given mass of the star \n",
    "\n",
    "Date of creation: 13.07.2020\n",
    "\n",
    "Last updated: 13.07.2020"
   ]
  },
  {
   "cell_type": "code",
   "execution_count": 1,
   "metadata": {},
   "outputs": [],
   "source": [
    "import math\n",
    "import numpy as np\n",
    "import pandas as pd\n",
    "\n",
    "%matplotlib inline\n",
    "\n",
    "import matplotlib as mpl\n",
    "import matplotlib.pyplot as plt"
   ]
  },
  {
   "cell_type": "code",
   "execution_count": 2,
   "metadata": {
    "scrolled": true
   },
   "outputs": [
    {
     "name": "stdout",
     "output_type": "stream",
     "text": [
      "importing Jupyter notebook from Physics.ipynb\n",
      "Physics version 1.14 13.07.2020\n",
      "importing Jupyter notebook from SSM18.ipynb\n",
      "SSM18 version 1.9 13.07.2020\n",
      "importing Jupyter notebook from Rmodel.ipynb\n",
      "Rmodel version 1.05 16.07.2020\n"
     ]
    }
   ],
   "source": [
    "import NotebookLoader\n",
    "import Physics as ph\n",
    "import SSM18 as s\n",
    "import Rmodel as r"
   ]
  },
  {
   "cell_type": "code",
   "execution_count": 3,
   "metadata": {},
   "outputs": [
    {
     "data": {
      "text/html": [
       "<div>\n",
       "<style scoped>\n",
       "    .dataframe tbody tr th:only-of-type {\n",
       "        vertical-align: middle;\n",
       "    }\n",
       "\n",
       "    .dataframe tbody tr th {\n",
       "        vertical-align: top;\n",
       "    }\n",
       "\n",
       "    .dataframe thead th {\n",
       "        text-align: right;\n",
       "    }\n",
       "</style>\n",
       "<table border=\"1\" class=\"dataframe\">\n",
       "  <thead>\n",
       "    <tr style=\"text-align: right;\">\n",
       "      <th></th>\n",
       "      <th>Unnamed: 0</th>\n",
       "      <th>Epoch00</th>\n",
       "      <th>Epoch01</th>\n",
       "    </tr>\n",
       "  </thead>\n",
       "  <tbody>\n",
       "    <tr>\n",
       "      <td>0</td>\n",
       "      <td>0</td>\n",
       "      <td>0.732</td>\n",
       "      <td>0.648658</td>\n",
       "    </tr>\n",
       "    <tr>\n",
       "      <td>1</td>\n",
       "      <td>1</td>\n",
       "      <td>0.732</td>\n",
       "      <td>0.652529</td>\n",
       "    </tr>\n",
       "    <tr>\n",
       "      <td>2</td>\n",
       "      <td>2</td>\n",
       "      <td>0.732</td>\n",
       "      <td>0.654702</td>\n",
       "    </tr>\n",
       "    <tr>\n",
       "      <td>3</td>\n",
       "      <td>3</td>\n",
       "      <td>0.732</td>\n",
       "      <td>0.656470</td>\n",
       "    </tr>\n",
       "    <tr>\n",
       "      <td>4</td>\n",
       "      <td>4</td>\n",
       "      <td>0.732</td>\n",
       "      <td>0.658008</td>\n",
       "    </tr>\n",
       "    <tr>\n",
       "      <td>...</td>\n",
       "      <td>...</td>\n",
       "      <td>...</td>\n",
       "      <td>...</td>\n",
       "    </tr>\n",
       "    <tr>\n",
       "      <td>996</td>\n",
       "      <td>996</td>\n",
       "      <td>0.732</td>\n",
       "      <td>0.732000</td>\n",
       "    </tr>\n",
       "    <tr>\n",
       "      <td>997</td>\n",
       "      <td>997</td>\n",
       "      <td>0.732</td>\n",
       "      <td>0.732000</td>\n",
       "    </tr>\n",
       "    <tr>\n",
       "      <td>998</td>\n",
       "      <td>998</td>\n",
       "      <td>0.732</td>\n",
       "      <td>0.732000</td>\n",
       "    </tr>\n",
       "    <tr>\n",
       "      <td>999</td>\n",
       "      <td>999</td>\n",
       "      <td>0.732</td>\n",
       "      <td>0.732000</td>\n",
       "    </tr>\n",
       "    <tr>\n",
       "      <td>1000</td>\n",
       "      <td>1000</td>\n",
       "      <td>0.732</td>\n",
       "      <td>0.732000</td>\n",
       "    </tr>\n",
       "  </tbody>\n",
       "</table>\n",
       "<p>1001 rows × 3 columns</p>\n",
       "</div>"
      ],
      "text/plain": [
       "      Unnamed: 0  Epoch00   Epoch01\n",
       "0              0    0.732  0.648658\n",
       "1              1    0.732  0.652529\n",
       "2              2    0.732  0.654702\n",
       "3              3    0.732  0.656470\n",
       "4              4    0.732  0.658008\n",
       "...          ...      ...       ...\n",
       "996          996    0.732  0.732000\n",
       "997          997    0.732  0.732000\n",
       "998          998    0.732  0.732000\n",
       "999          999    0.732  0.732000\n",
       "1000        1000    0.732  0.732000\n",
       "\n",
       "[1001 rows x 3 columns]"
      ]
     },
     "execution_count": 3,
     "metadata": {},
     "output_type": "execute_result"
    }
   ],
   "source": [
    "def load_hydrogen():\n",
    "    filename = 'Mass/hydrogen.csv'\n",
    "    return pd.read_csv(filename)\n",
    "epoch = 0\n",
    "dfx = load_hydrogen()\n",
    "dimM = len(dfx.index)\n",
    "dfx"
   ]
  },
  {
   "cell_type": "code",
   "execution_count": 4,
   "metadata": {},
   "outputs": [],
   "source": [
    "epoch = 0\n",
    "hyd = dfx['Epoch%02d' % epoch].values"
   ]
  },
  {
   "cell_type": "code",
   "execution_count": 5,
   "metadata": {},
   "outputs": [],
   "source": [
    "\"\"\"\n",
    "m is M/s.M (must be between 0 and 1)\n",
    "\"\"\"\n",
    "def XYZ(m, Z=0.02):\n",
    "    i = int(m*(len(hyd) - 1))\n",
    "    if i > len(hyd) - 1:\n",
    "        i = len(hyd) - 1\n",
    "    X = hyd[i]\n",
    "    Y = 1 - Z - X\n",
    "    return (X, Y, Z)\n",
    "    "
   ]
  },
  {
   "cell_type": "code",
   "execution_count": 6,
   "metadata": {},
   "outputs": [
    {
     "data": {
      "text/plain": [
       "(0.732, 0.248, 0.02)"
      ]
     },
     "execution_count": 6,
     "metadata": {},
     "output_type": "execute_result"
    }
   ],
   "source": [
    "XYZ(0)"
   ]
  },
  {
   "cell_type": "code",
   "execution_count": 7,
   "metadata": {},
   "outputs": [
    {
     "name": "stdout",
     "output_type": "stream",
     "text": [
      "Wall time: 638 ms\n"
     ]
    },
    {
     "data": {
      "text/plain": [
       "(10296,\n",
       " 0.7102542200572106,\n",
       " 0.398559027824778,\n",
       " 0.5212346685697263,\n",
       " 7771.602719627941)"
      ]
     },
     "execution_count": 7,
     "metadata": {},
     "output_type": "execute_result"
    }
   ],
   "source": [
    "%%time\n",
    "t0=1.33300e+07 \n",
    "d0=94.5544713300\n",
    "n, M, R, L, T, df = r.model_R(d0, t0, XYZ, debug=False)\n",
    "n, M/s.M, R/s.R, L/s.L, T"
   ]
  },
  {
   "cell_type": "markdown",
   "metadata": {},
   "source": [
    "### Поиск комбинации центральных плотности и температуры, дающих решение с массой равной солнечной. (Первый вариант)\n",
    "\n",
    "Для интегрирования уравнений из центра надо задать плотность и температуру в центре, но только одна их комбинации \n",
    "соответствует решению с массой, равной солнечной (при фиксированном хим. составе)\n",
    "\n",
    "Внешний цикл по температурам, внутренний цикл - по плотности.\n",
    "При фиксированной температуре постепенно повышаем плотность, пока не появится стабильное решение с массой < 1.\n",
    "После этого возвращаемся на 1 шаг назад по плотности, уменьшаем шаг по плотности в 10 раз и повторям процедуру.\n",
    "Так делаем пока шаг по плотности не станет меньше 1e-8."
   ]
  },
  {
   "cell_type": "code",
   "execution_count": 8,
   "metadata": {},
   "outputs": [
    {
     "name": "stdout",
     "output_type": "stream",
     "text": [
      "\tT0=1.45100e+07 D0=100.0000000000 n=10276 M=0.7844 R=0.4043 L=0.8849 T=8808\n",
      "\tT0=1.45100e+07 D0=91.0000000000 n=10479 M=0.8359 R=0.4290 L=0.8644 T=8505\n",
      "\tT0=1.45100e+07 D0=90.1000000000 n=11022 M=0.9426 R=0.5000 L=0.9217 T=7999\n",
      "\tT0=1.45100e+07 D0=90.0800000000 n=11259 M=0.9671 R=0.5336 L=0.9245 T=7753\n",
      "\tT0=1.45100e+07 D0=90.0740000000 n=11805 M=0.9950 R=0.6143 L=0.9254 T=7228\n",
      "\tT0=1.45100e+07 D0=90.0739000000 n=11957 M=0.9980 R=0.6347 L=0.9254 T=7106\n",
      "\tT0=1.45100e+07 D0=90.0738600000 n=12185 M=1.0008 R=0.6713 L=0.9254 T=6913\n",
      "\tT0=1.45100e+07 D0=90.0738600000 n=12185 M=1.0008 R=0.6713 L=0.9254 T=6913\n",
      "\tT0=1.45100e+07 D0=90.0738596000 n=12203 M=1.0010 R=0.6772 L=0.9254 T=6883\n",
      "\tT0=1.45100e+07 D0=90.0738595600 n=12203 M=1.0010 R=0.6821 L=0.9254 T=6857\n",
      "# T0=1.45100e+07 D0=90.07 n=12203 M=1.0010 R=0.6821 L=0.925 T=6857\n",
      "Done!\n",
      "Wall time: 1min 28s\n"
     ]
    }
   ],
   "source": [
    "%%time\n",
    "dim = 11\n",
    "for j in range(dim) :\n",
    "#     T0 = 1.333e7 + 0.001e7*j  # M = M_sol, epoch = 0\n",
    "    T0 = 14.51e6 + 0.01e6*j\n",
    "    step = 10 # step by density\n",
    "    exc = True\n",
    "    den0 = 60\n",
    "    if j > 0:\n",
    "        df_prev = df.copy()\n",
    "    while step > 1e-8 :    \n",
    "        for i in range(10) :\n",
    "#             print('j=%d i=%d step=%.9f d=%.8f t=%.0f' % (j, i, step, den0, T0))\n",
    "            try :\n",
    "                n, M, R, L, T, df = r.model_R(den0, T0, XYZ, debug=False)\n",
    "            except Exception as error:\n",
    "#                 print(T0, den0, 'Caught this error: ' + repr(error))\n",
    "                exc = True\n",
    "                den0 += step\n",
    "                break\n",
    "            if exc :\n",
    "                exc = False\n",
    "                print('\\tT0=%.5e D0=%.10f n=%d M=%.4f R=%.4f L=%.4f T=%.0f' % (T0, den0, n, M/s.M, R/s.R, L/s.L, T))\n",
    "                den0 -= step\n",
    "                step /= 10.\n",
    "                break\n",
    "            den0 -= step\n",
    "    print('# T0=%.5e D0=%.2f n=%d M=%.4f R=%.4f L=%.3f T=%.0f' % (T0, den0, n, M/s.M, R/s.R, L/s.L, T))\n",
    "    if M/s.M > 1 :\n",
    "#         df = df_prev\n",
    "        break\n",
    "print(\"Done!\")"
   ]
  },
  {
   "cell_type": "code",
   "execution_count": 9,
   "metadata": {
    "scrolled": true
   },
   "outputs": [
    {
     "data": {
      "text/html": [
       "<div>\n",
       "<style scoped>\n",
       "    .dataframe tbody tr th:only-of-type {\n",
       "        vertical-align: middle;\n",
       "    }\n",
       "\n",
       "    .dataframe tbody tr th {\n",
       "        vertical-align: top;\n",
       "    }\n",
       "\n",
       "    .dataframe thead th {\n",
       "        text-align: right;\n",
       "    }\n",
       "</style>\n",
       "<table border=\"1\" class=\"dataframe\">\n",
       "  <thead>\n",
       "    <tr style=\"text-align: right;\">\n",
       "      <th></th>\n",
       "      <th>Mass</th>\n",
       "      <th>Radius</th>\n",
       "      <th>Temperature</th>\n",
       "      <th>Density</th>\n",
       "      <th>Luminosity</th>\n",
       "      <th>Hydrogen</th>\n",
       "      <th>Opacity</th>\n",
       "      <th>Convection</th>\n",
       "      <th>Pressure</th>\n",
       "      <th>Velocity</th>\n",
       "    </tr>\n",
       "  </thead>\n",
       "  <tbody>\n",
       "    <tr>\n",
       "      <td>0</td>\n",
       "      <td>0.000000e+00</td>\n",
       "      <td>0.000000e+00</td>\n",
       "      <td>1.451000e+07</td>\n",
       "      <td>90.073860</td>\n",
       "      <td>0.000000e+00</td>\n",
       "      <td>0.732</td>\n",
       "      <td>1.445415</td>\n",
       "      <td>0.0</td>\n",
       "      <td>1.794120e+17</td>\n",
       "      <td>1.208753e-10</td>\n",
       "    </tr>\n",
       "    <tr>\n",
       "      <td>1</td>\n",
       "      <td>1.272082e+23</td>\n",
       "      <td>6.960000e+06</td>\n",
       "      <td>1.451000e+07</td>\n",
       "      <td>90.073860</td>\n",
       "      <td>2.198077e+24</td>\n",
       "      <td>0.732</td>\n",
       "      <td>1.445415</td>\n",
       "      <td>0.0</td>\n",
       "      <td>1.794120e+17</td>\n",
       "      <td>1.208753e-10</td>\n",
       "    </tr>\n",
       "    <tr>\n",
       "      <td>2</td>\n",
       "      <td>1.017666e+24</td>\n",
       "      <td>1.392000e+07</td>\n",
       "      <td>1.450999e+07</td>\n",
       "      <td>90.073848</td>\n",
       "      <td>1.758460e+25</td>\n",
       "      <td>0.732</td>\n",
       "      <td>1.445416</td>\n",
       "      <td>0.0</td>\n",
       "      <td>1.794119e+17</td>\n",
       "      <td>1.208749e-10</td>\n",
       "    </tr>\n",
       "    <tr>\n",
       "      <td>3</td>\n",
       "      <td>3.434620e+24</td>\n",
       "      <td>2.088000e+07</td>\n",
       "      <td>1.450999e+07</td>\n",
       "      <td>90.073782</td>\n",
       "      <td>5.934786e+25</td>\n",
       "      <td>0.732</td>\n",
       "      <td>1.445417</td>\n",
       "      <td>0.0</td>\n",
       "      <td>1.794117e+17</td>\n",
       "      <td>1.208745e-10</td>\n",
       "    </tr>\n",
       "    <tr>\n",
       "      <td>4</td>\n",
       "      <td>8.141317e+24</td>\n",
       "      <td>2.784000e+07</td>\n",
       "      <td>1.450997e+07</td>\n",
       "      <td>90.073704</td>\n",
       "      <td>1.406759e+26</td>\n",
       "      <td>0.732</td>\n",
       "      <td>1.445420</td>\n",
       "      <td>0.0</td>\n",
       "      <td>1.794113e+17</td>\n",
       "      <td>1.208738e-10</td>\n",
       "    </tr>\n",
       "    <tr>\n",
       "      <td>...</td>\n",
       "      <td>...</td>\n",
       "      <td>...</td>\n",
       "      <td>...</td>\n",
       "      <td>...</td>\n",
       "      <td>...</td>\n",
       "      <td>...</td>\n",
       "      <td>...</td>\n",
       "      <td>...</td>\n",
       "      <td>...</td>\n",
       "      <td>...</td>\n",
       "    </tr>\n",
       "    <tr>\n",
       "      <td>12198</td>\n",
       "      <td>1.992041e+33</td>\n",
       "      <td>4.747615e+10</td>\n",
       "      <td>6.885800e+03</td>\n",
       "      <td>0.000085</td>\n",
       "      <td>3.562822e+33</td>\n",
       "      <td>0.732</td>\n",
       "      <td>0.401010</td>\n",
       "      <td>1.0</td>\n",
       "      <td>7.997807e+07</td>\n",
       "      <td>1.533343e-47</td>\n",
       "    </tr>\n",
       "    <tr>\n",
       "      <td>12199</td>\n",
       "      <td>1.992041e+33</td>\n",
       "      <td>4.747619e+10</td>\n",
       "      <td>6.880123e+03</td>\n",
       "      <td>0.000085</td>\n",
       "      <td>3.562822e+33</td>\n",
       "      <td>0.732</td>\n",
       "      <td>0.401009</td>\n",
       "      <td>1.0</td>\n",
       "      <td>7.981326e+07</td>\n",
       "      <td>1.518116e-47</td>\n",
       "    </tr>\n",
       "    <tr>\n",
       "      <td>12200</td>\n",
       "      <td>1.992041e+33</td>\n",
       "      <td>4.747622e+10</td>\n",
       "      <td>6.874448e+03</td>\n",
       "      <td>0.000084</td>\n",
       "      <td>3.562822e+33</td>\n",
       "      <td>0.732</td>\n",
       "      <td>0.401008</td>\n",
       "      <td>1.0</td>\n",
       "      <td>7.964866e+07</td>\n",
       "      <td>1.503031e-47</td>\n",
       "    </tr>\n",
       "    <tr>\n",
       "      <td>12201</td>\n",
       "      <td>1.992041e+33</td>\n",
       "      <td>4.747625e+10</td>\n",
       "      <td>6.868771e+03</td>\n",
       "      <td>0.000084</td>\n",
       "      <td>3.562822e+33</td>\n",
       "      <td>0.732</td>\n",
       "      <td>0.401006</td>\n",
       "      <td>1.0</td>\n",
       "      <td>7.948425e+07</td>\n",
       "      <td>1.488080e-47</td>\n",
       "    </tr>\n",
       "    <tr>\n",
       "      <td>12202</td>\n",
       "      <td>1.992041e+33</td>\n",
       "      <td>4.747629e+10</td>\n",
       "      <td>6.863096e+03</td>\n",
       "      <td>0.000000</td>\n",
       "      <td>3.562822e+33</td>\n",
       "      <td>0.732</td>\n",
       "      <td>0.401005</td>\n",
       "      <td>1.0</td>\n",
       "      <td>0.000000e+00</td>\n",
       "      <td>1.473270e-47</td>\n",
       "    </tr>\n",
       "  </tbody>\n",
       "</table>\n",
       "<p>12203 rows × 10 columns</p>\n",
       "</div>"
      ],
      "text/plain": [
       "               Mass        Radius   Temperature    Density    Luminosity  \\\n",
       "0      0.000000e+00  0.000000e+00  1.451000e+07  90.073860  0.000000e+00   \n",
       "1      1.272082e+23  6.960000e+06  1.451000e+07  90.073860  2.198077e+24   \n",
       "2      1.017666e+24  1.392000e+07  1.450999e+07  90.073848  1.758460e+25   \n",
       "3      3.434620e+24  2.088000e+07  1.450999e+07  90.073782  5.934786e+25   \n",
       "4      8.141317e+24  2.784000e+07  1.450997e+07  90.073704  1.406759e+26   \n",
       "...             ...           ...           ...        ...           ...   \n",
       "12198  1.992041e+33  4.747615e+10  6.885800e+03   0.000085  3.562822e+33   \n",
       "12199  1.992041e+33  4.747619e+10  6.880123e+03   0.000085  3.562822e+33   \n",
       "12200  1.992041e+33  4.747622e+10  6.874448e+03   0.000084  3.562822e+33   \n",
       "12201  1.992041e+33  4.747625e+10  6.868771e+03   0.000084  3.562822e+33   \n",
       "12202  1.992041e+33  4.747629e+10  6.863096e+03   0.000000  3.562822e+33   \n",
       "\n",
       "       Hydrogen   Opacity  Convection      Pressure      Velocity  \n",
       "0         0.732  1.445415         0.0  1.794120e+17  1.208753e-10  \n",
       "1         0.732  1.445415         0.0  1.794120e+17  1.208753e-10  \n",
       "2         0.732  1.445416         0.0  1.794119e+17  1.208749e-10  \n",
       "3         0.732  1.445417         0.0  1.794117e+17  1.208745e-10  \n",
       "4         0.732  1.445420         0.0  1.794113e+17  1.208738e-10  \n",
       "...         ...       ...         ...           ...           ...  \n",
       "12198     0.732  0.401010         1.0  7.997807e+07  1.533343e-47  \n",
       "12199     0.732  0.401009         1.0  7.981326e+07  1.518116e-47  \n",
       "12200     0.732  0.401008         1.0  7.964866e+07  1.503031e-47  \n",
       "12201     0.732  0.401006         1.0  7.948425e+07  1.488080e-47  \n",
       "12202     0.732  0.401005         1.0  0.000000e+00  1.473270e-47  \n",
       "\n",
       "[12203 rows x 10 columns]"
      ]
     },
     "execution_count": 9,
     "metadata": {},
     "output_type": "execute_result"
    }
   ],
   "source": [
    "# df = df_prev\n",
    "df"
   ]
  },
  {
   "cell_type": "code",
   "execution_count": 10,
   "metadata": {},
   "outputs": [
    {
     "name": "stdout",
     "output_type": "stream",
     "text": [
      "FromCenter/3epoch00.csv\n"
     ]
    }
   ],
   "source": [
    "epoch = 0\n",
    "_ = df.to_csv(line_terminator='\\n')\n",
    "filename = \"FromCenter/3epoch%.02d.csv\" % epoch\n",
    "print(filename)\n",
    "csv_file = open(filename, \"wt\")\n",
    "n = csv_file.write(_)\n",
    "csv_file.close()"
   ]
  },
  {
   "cell_type": "markdown",
   "metadata": {},
   "source": [
    "### Поиск комбинации центральных плотности и температуры, дающих решение с массой равной солнечной. (Второй вариант)\n",
    "\n",
    "Для интегрирования уравнений из центра надо задать плотность и температуру в центре, но только одна их комбинации соответствует решению с массой, равной солнечной (при фиксированном хим. составе)\n",
    "\n",
    "Альтернативный поиск (в обратном порядке)\n",
    "\n",
    "Внешний цикл по плотности, внутренний цикл - по температуре. При фиксированной плотности постепенно понижаем температуру, пока не появится стабильное решение с массой < 1. После этого возвращаемся на 1 шаг назад по температуре, уменьшаем шаг по температуре в 10 раз и повторям процедуру. Так делаем пока шаг по температуре не станет меньше 0.01 градуса."
   ]
  },
  {
   "cell_type": "code",
   "execution_count": null,
   "metadata": {
    "scrolled": false
   },
   "outputs": [],
   "source": [
    "%%time\n",
    "# Another order of fit - density outside\n",
    "dim = 11\n",
    "for j in range(dim) :\n",
    "    den0 = 94 + 0.1*j # 94.4 + 0.1*j\n",
    "    step = 1e6 # step for Temperature\n",
    "    exc = True\n",
    "    T0 = 15\n",
    "    if j > 0:\n",
    "        df_prev = df.copy()\n",
    "    while step > 1e-2 :    \n",
    "        for i in range(10) :\n",
    "            try :\n",
    "                n, M, R, L, T, df = model_R(den0, T0, debug=False)\n",
    "            except Exception as error:\n",
    "#                 print(T0, den0, 'Caught this error: ' + repr(error))\n",
    "                exc = True\n",
    "                T0 -= step\n",
    "                break\n",
    "            if exc :\n",
    "                exc = False\n",
    "                print('\\tT0=%.5f D0=%.10f n=%d M=%.4f R=%.4f L=%.4f T=%.0f' % (T0, den0, n, M/M_sol, R/R_sol, L/L_sol, T))\n",
    "                T0 += step\n",
    "                step /= 10.\n",
    "                break\n",
    "            \n",
    "    print('# T0=%.5f D0=%.2f n=%d M=%.4f R=%.4f L=%.3f T=%.0f' % (T0, den0, n, M/M_sol, R/R_sol, L/L_sol, T))\n",
    "    if M/M_sol > 1. :\n",
    "#         df = df_prev\n",
    "        break\n",
    "print(\"Done!\")"
   ]
  },
  {
   "cell_type": "code",
   "execution_count": null,
   "metadata": {},
   "outputs": [],
   "source": [
    "# df = df_prev\n",
    "df"
   ]
  },
  {
   "cell_type": "code",
   "execution_count": null,
   "metadata": {},
   "outputs": [],
   "source": [
    "_ = df.to_csv(line_terminator='\\n')\n",
    "filename = \"FromCenter/2epoch%.02d.csv\" % epoch\n",
    "print(filename)\n",
    "csv_file = open(filename, \"wt\")\n",
    "n = csv_file.write(_)\n",
    "csv_file.close()"
   ]
  },
  {
   "cell_type": "code",
   "execution_count": 30,
   "metadata": {},
   "outputs": [
    {
     "data": {
      "text/plain": [
       "(11049,\n",
       " 0.8772552888605576,\n",
       " 0.5009900889800694,\n",
       " 0.6252592215835585,\n",
       " 7252.863270233664)"
      ]
     },
     "execution_count": 30,
     "metadata": {},
     "output_type": "execute_result"
    }
   ],
   "source": [
    "T0=1.33000e+07 \n",
    "den0=94.4000000000\n",
    "n, M, R, L, T, df = model_R(den0, T0, debug=False)\n",
    "n, M/M_sol, R/R_sol, L/L_sol, T"
   ]
  },
  {
   "cell_type": "code",
   "execution_count": null,
   "metadata": {},
   "outputs": [],
   "source": []
  }
 ],
 "metadata": {
  "celltoolbar": "Raw Cell Format",
  "kernelspec": {
   "display_name": "Python 3",
   "language": "python",
   "name": "python3"
  },
  "language_info": {
   "codemirror_mode": {
    "name": "ipython",
    "version": 3
   },
   "file_extension": ".py",
   "mimetype": "text/x-python",
   "name": "python",
   "nbconvert_exporter": "python",
   "pygments_lexer": "ipython3",
   "version": "3.7.4"
  }
 },
 "nbformat": 4,
 "nbformat_minor": 2
}
