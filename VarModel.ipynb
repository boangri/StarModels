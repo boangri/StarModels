{
 "cells": [
  {
   "cell_type": "markdown",
   "metadata": {},
   "source": [
    "Вариационная модель звезды\n",
    "\n",
    "Как параметр задана масса звезды M.\n",
    "Звезда разбита на N сферических слоев.\n",
    "Также задано распределение водорода по слоям.\n",
    "Имеется N+1 точка - расстояния от центра до i-го слоя.\n",
    "Неизвестными являются массивы расстояний r[i] и температур t[i]\n",
    "\n",
    "Date of creation: 2.07.2020\n",
    "\n",
    "Last updated: 3.07.2020"
   ]
  },
  {
   "cell_type": "code",
   "execution_count": 1,
   "metadata": {},
   "outputs": [],
   "source": [
    "import math\n",
    "import numpy as np\n",
    "import pandas as pd\n",
    "\n",
    "%matplotlib inline\n",
    "\n",
    "import matplotlib as mpl\n",
    "import matplotlib.pyplot as plt"
   ]
  },
  {
   "cell_type": "code",
   "execution_count": 2,
   "metadata": {},
   "outputs": [
    {
     "name": "stdout",
     "output_type": "stream",
     "text": [
      "Physics version 1.2\n"
     ]
    }
   ],
   "source": [
    "import physics as ph"
   ]
  },
  {
   "cell_type": "code",
   "execution_count": 3,
   "metadata": {},
   "outputs": [
    {
     "name": "stdout",
     "output_type": "stream",
     "text": [
      "SSM18 version 1.4\n"
     ]
    }
   ],
   "source": [
    "from Sun import SSM18 as s"
   ]
  },
  {
   "cell_type": "code",
   "execution_count": 4,
   "metadata": {},
   "outputs": [],
   "source": [
    "pi = math.pi\n",
    "K = 60 # number of interpolated layers\n",
    "dimM = 17*K+1 # N+1 - число точек модели (сферических слоев + 1)\n",
    "Z = s.Z"
   ]
  },
  {
   "cell_type": "code",
   "execution_count": 5,
   "metadata": {},
   "outputs": [
    {
     "data": {
      "text/html": [
       "<div>\n",
       "<style scoped>\n",
       "    .dataframe tbody tr th:only-of-type {\n",
       "        vertical-align: middle;\n",
       "    }\n",
       "\n",
       "    .dataframe tbody tr th {\n",
       "        vertical-align: top;\n",
       "    }\n",
       "\n",
       "    .dataframe thead th {\n",
       "        text-align: right;\n",
       "    }\n",
       "</style>\n",
       "<table border=\"1\" class=\"dataframe\">\n",
       "  <thead>\n",
       "    <tr style=\"text-align: right;\">\n",
       "      <th></th>\n",
       "      <th>Mass</th>\n",
       "      <th>Radius</th>\n",
       "      <th>Temperature</th>\n",
       "      <th>Density</th>\n",
       "      <th>Luminosity</th>\n",
       "      <th>Hydrogen</th>\n",
       "      <th>Opacity</th>\n",
       "      <th>Pressure</th>\n",
       "    </tr>\n",
       "  </thead>\n",
       "  <tbody>\n",
       "    <tr>\n",
       "      <td>0</td>\n",
       "      <td>0.000000e+00</td>\n",
       "      <td>0.000000</td>\n",
       "      <td>1.550000e+07</td>\n",
       "      <td>1.563000e+02</td>\n",
       "      <td>0.000000e+00</td>\n",
       "      <td>0.355000</td>\n",
       "      <td>1.100000</td>\n",
       "      <td>2.381543e+17</td>\n",
       "    </tr>\n",
       "    <tr>\n",
       "      <td>1</td>\n",
       "      <td>4.583333e-08</td>\n",
       "      <td>0.000767</td>\n",
       "      <td>1.549660e+07</td>\n",
       "      <td>1.560969e+02</td>\n",
       "      <td>3.657407e-07</td>\n",
       "      <td>0.355432</td>\n",
       "      <td>1.101138</td>\n",
       "      <td>2.379005e+17</td>\n",
       "    </tr>\n",
       "    <tr>\n",
       "      <td>2</td>\n",
       "      <td>3.666667e-07</td>\n",
       "      <td>0.001533</td>\n",
       "      <td>1.549292e+07</td>\n",
       "      <td>1.558880e+02</td>\n",
       "      <td>2.925926e-06</td>\n",
       "      <td>0.355883</td>\n",
       "      <td>1.102293</td>\n",
       "      <td>2.376386e+17</td>\n",
       "    </tr>\n",
       "    <tr>\n",
       "      <td>3</td>\n",
       "      <td>1.237500e-06</td>\n",
       "      <td>0.002300</td>\n",
       "      <td>1.548896e+07</td>\n",
       "      <td>1.556733e+02</td>\n",
       "      <td>9.875000e-06</td>\n",
       "      <td>0.356356</td>\n",
       "      <td>1.103467</td>\n",
       "      <td>2.373684e+17</td>\n",
       "    </tr>\n",
       "    <tr>\n",
       "      <td>4</td>\n",
       "      <td>2.933333e-06</td>\n",
       "      <td>0.003067</td>\n",
       "      <td>1.548472e+07</td>\n",
       "      <td>1.554529e+02</td>\n",
       "      <td>2.340741e-05</td>\n",
       "      <td>0.356849</td>\n",
       "      <td>1.104658</td>\n",
       "      <td>2.370900e+17</td>\n",
       "    </tr>\n",
       "    <tr>\n",
       "      <td>...</td>\n",
       "      <td>...</td>\n",
       "      <td>...</td>\n",
       "      <td>...</td>\n",
       "      <td>...</td>\n",
       "      <td>...</td>\n",
       "      <td>...</td>\n",
       "      <td>...</td>\n",
       "      <td>...</td>\n",
       "    </tr>\n",
       "    <tr>\n",
       "      <td>1016</td>\n",
       "      <td>1.000000e+00</td>\n",
       "      <td>0.989933</td>\n",
       "      <td>5.527218e+04</td>\n",
       "      <td>4.293612e-04</td>\n",
       "      <td>1.000000e+00</td>\n",
       "      <td>0.732000</td>\n",
       "      <td>1.008698</td>\n",
       "      <td>3.257727e+09</td>\n",
       "    </tr>\n",
       "    <tr>\n",
       "      <td>1017</td>\n",
       "      <td>1.000000e+00</td>\n",
       "      <td>0.992450</td>\n",
       "      <td>4.272367e+04</td>\n",
       "      <td>2.831949e-04</td>\n",
       "      <td>1.000000e+00</td>\n",
       "      <td>0.732000</td>\n",
       "      <td>0.832355</td>\n",
       "      <td>1.660884e+09</td>\n",
       "    </tr>\n",
       "    <tr>\n",
       "      <td>1018</td>\n",
       "      <td>1.000000e+00</td>\n",
       "      <td>0.994967</td>\n",
       "      <td>3.029547e+04</td>\n",
       "      <td>1.629593e-04</td>\n",
       "      <td>1.000000e+00</td>\n",
       "      <td>0.732000</td>\n",
       "      <td>0.655457</td>\n",
       "      <td>6.777072e+08</td>\n",
       "    </tr>\n",
       "    <tr>\n",
       "      <td>1019</td>\n",
       "      <td>1.000000e+00</td>\n",
       "      <td>0.997483</td>\n",
       "      <td>1.798758e+04</td>\n",
       "      <td>6.865431e-05</td>\n",
       "      <td>1.000000e+00</td>\n",
       "      <td>0.732000</td>\n",
       "      <td>0.478005</td>\n",
       "      <td>1.695219e+08</td>\n",
       "    </tr>\n",
       "    <tr>\n",
       "      <td>1020</td>\n",
       "      <td>1.000000e+00</td>\n",
       "      <td>1.000000</td>\n",
       "      <td>5.800000e+03</td>\n",
       "      <td>2.800000e-07</td>\n",
       "      <td>1.000000e+00</td>\n",
       "      <td>0.732000</td>\n",
       "      <td>0.300000</td>\n",
       "      <td>2.229314e+05</td>\n",
       "    </tr>\n",
       "  </tbody>\n",
       "</table>\n",
       "<p>1021 rows × 8 columns</p>\n",
       "</div>"
      ],
      "text/plain": [
       "              Mass    Radius   Temperature       Density    Luminosity  \\\n",
       "0     0.000000e+00  0.000000  1.550000e+07  1.563000e+02  0.000000e+00   \n",
       "1     4.583333e-08  0.000767  1.549660e+07  1.560969e+02  3.657407e-07   \n",
       "2     3.666667e-07  0.001533  1.549292e+07  1.558880e+02  2.925926e-06   \n",
       "3     1.237500e-06  0.002300  1.548896e+07  1.556733e+02  9.875000e-06   \n",
       "4     2.933333e-06  0.003067  1.548472e+07  1.554529e+02  2.340741e-05   \n",
       "...            ...       ...           ...           ...           ...   \n",
       "1016  1.000000e+00  0.989933  5.527218e+04  4.293612e-04  1.000000e+00   \n",
       "1017  1.000000e+00  0.992450  4.272367e+04  2.831949e-04  1.000000e+00   \n",
       "1018  1.000000e+00  0.994967  3.029547e+04  1.629593e-04  1.000000e+00   \n",
       "1019  1.000000e+00  0.997483  1.798758e+04  6.865431e-05  1.000000e+00   \n",
       "1020  1.000000e+00  1.000000  5.800000e+03  2.800000e-07  1.000000e+00   \n",
       "\n",
       "      Hydrogen   Opacity      Pressure  \n",
       "0     0.355000  1.100000  2.381543e+17  \n",
       "1     0.355432  1.101138  2.379005e+17  \n",
       "2     0.355883  1.102293  2.376386e+17  \n",
       "3     0.356356  1.103467  2.373684e+17  \n",
       "4     0.356849  1.104658  2.370900e+17  \n",
       "...        ...       ...           ...  \n",
       "1016  0.732000  1.008698  3.257727e+09  \n",
       "1017  0.732000  0.832355  1.660884e+09  \n",
       "1018  0.732000  0.655457  6.777072e+08  \n",
       "1019  0.732000  0.478005  1.695219e+08  \n",
       "1020  0.732000  0.300000  2.229314e+05  \n",
       "\n",
       "[1021 rows x 8 columns]"
      ]
     },
     "execution_count": 5,
     "metadata": {},
     "output_type": "execute_result"
    }
   ],
   "source": [
    "df1 = s.load_interpolated_data(K)\n",
    "df1"
   ]
  },
  {
   "cell_type": "code",
   "execution_count": 6,
   "metadata": {},
   "outputs": [],
   "source": [
    "x = df1['Hydrogen'].values\n",
    "r = df1['Radius'].values*s.R\n",
    "m = df1['Mass'].values*s.M\n",
    "t = df1['Temperature'].values\n",
    "# The rest may be computed from the above variables.\n",
    "d = df1['Density'].values\n",
    "l = df1['Luminosity'].values*s.L\n",
    "p = df1['Pressure'].values\n",
    "k = df1['Opacity'].values"
   ]
  },
  {
   "cell_type": "code",
   "execution_count": 7,
   "metadata": {},
   "outputs": [],
   "source": [
    "d1 = np.zeros(dimM)\n",
    "l1 = np.zeros(dimM)\n",
    "p1 = np.zeros(dimM)\n",
    "k1 = np.zeros(dimM)"
   ]
  },
  {
   "cell_type": "code",
   "execution_count": 8,
   "metadata": {},
   "outputs": [
    {
     "data": {
      "text/plain": [
       "(1021,)"
      ]
     },
     "execution_count": 8,
     "metadata": {},
     "output_type": "execute_result"
    }
   ],
   "source": [
    "x.shape"
   ]
  },
  {
   "cell_type": "code",
   "execution_count": 20,
   "metadata": {},
   "outputs": [],
   "source": [
    "\n",
    "d[0] = 3*m[1]/4/pi/pow(r[1], 3)\n",
    "d[1] = 0.5*d[0] + 0.5*(m[2] - m[1])/4/pi/pow((r[1] + r[2])/2, 2)/(r[2] - r[1])\n",
    "for i in range(2, dimM-1):\n",
    "    d[i] = ((m[i+1] - m[i])/pow(r[i], 2)/(r[i+1] - r[i]) + (m[i] - m[i-1])/pow(r[i], 2)/(r[i] - r[i-1]))/8/pi\n",
    "d[dimM-1] = 0.\n",
    "for i in range(dimM):\n",
    "    p[i] = ph.Pressure(d[i], t[i], x[i], 1 - Z - x[i], Z)\n",
    "    k[i] = ph.opacity(d[i], t[i], x[i], 1 - Z - x[i], Z)\n",
    "l[0] = 0.\n",
    "for i in range(1, dimM):\n",
    "    l[i] = l[i-1] + (m[i] - m[i-1])*ph.Etot(d[i], t[i], x[i], 1 - Z - x[i], Z) # /0.5879669006862714"
   ]
  },
  {
   "cell_type": "code",
   "execution_count": null,
   "metadata": {
    "scrolled": true
   },
   "outputs": [],
   "source": [
    "for i in range(dimM):\n",
    "    print(i, l1[i], l[i])"
   ]
  },
  {
   "cell_type": "code",
   "execution_count": 21,
   "metadata": {},
   "outputs": [
    {
     "name": "stdout",
     "output_type": "stream",
     "text": [
      "156.3 143.31724392258448\n",
      "133.9 131.82731891579235\n",
      "108.1 110.5196328708319\n",
      "78.9 75.27591039108262\n",
      "63.2 61.593351300072484\n",
      "53.6 52.9814886114439\n",
      "45.7 46.15772233028045\n",
      "38.5 39.174516872533815\n",
      "29.4 29.026649658852026\n",
      "22.1 21.611853934197924\n",
      "16.1 15.40830508890182\n",
      "8.03 7.872433275180026\n",
      "2.85 2.8791093599090924\n",
      "0.773 0.8921474141681306\n",
      "0.338 0.3571566041760261\n",
      "0.169 0.16679284458681545\n",
      "0.05 0.05220671087255304\n",
      "2.8e-07 0.0\n"
     ]
    }
   ],
   "source": [
    "for i in range(dimM):\n",
    "    print(d1[i], d[i])"
   ]
  },
  {
   "cell_type": "code",
   "execution_count": 22,
   "metadata": {},
   "outputs": [
    {
     "name": "stdout",
     "output_type": "stream",
     "text": [
      "0.0 0.0\n",
      "0.079 0.08554061741725977\n",
      "0.264 0.2818852882521794\n",
      "0.555 0.5533160768288975\n",
      "0.7179999999999999 0.7144652784106362\n",
      "0.809 0.8111775890999076\n",
      "0.874 0.8798626582908967\n",
      "0.9209999999999999 0.9296027496870293\n",
      "0.964 0.9685130825372467\n",
      "0.986 0.9879229457626771\n",
      "0.996 0.9969327305056751\n",
      "1.0 0.9997732660968942\n",
      "1.0 0.9999923602517709\n",
      "1.0 0.9999997100568466\n",
      "1.0 0.9999999835352114\n",
      "1.0 0.9999999999990291\n",
      "1.0 1.0\n",
      "1.0 1.0\n"
     ]
    }
   ],
   "source": [
    "for i in range(dimM):\n",
    "    print(l1[i]/s.L, l[i]/s.L)"
   ]
  },
  {
   "cell_type": "code",
   "execution_count": 23,
   "metadata": {},
   "outputs": [
    {
     "name": "stdout",
     "output_type": "stream",
     "text": [
      "1.1 1.0086306353163017\n",
      "1.2 1.181424814181715\n",
      "1.3 1.3290982629286399\n",
      "1.4 1.335694225878389\n",
      "1.6 1.5593253496028225\n",
      "1.7 1.6803830337646455\n",
      "1.8 1.818028449080095\n",
      "1.9 1.9332878475908009\n",
      "2.1 2.073332117660098\n",
      "2.4 2.3469886610704633\n",
      "2.8 2.6797052254833007\n",
      "3.5 3.4313220971927123\n",
      "4.7 4.748004917910583\n",
      "8.0 9.23309097375497\n",
      "12.2 12.891451408974664\n",
      "16.8 16.580590463854012\n",
      "10.0 2.3256087566360413\n",
      "0.3 0.0\n"
     ]
    }
   ],
   "source": [
    "for i in range(dimM):\n",
    "    print(k1[i], k[i])"
   ]
  },
  {
   "cell_type": "code",
   "execution_count": 7,
   "metadata": {},
   "outputs": [],
   "source": [
    "e = np.zeros(dimM) # энерговыделения\n",
    "a = np.zeros(dimM) # градиент давления\n",
    "da = np.zeros(dimM) # несоответствие градиента давления\n",
    "b = np.zeros(dimM) # градиент температуры\n",
    "db = np.zeros(dimM) # несоответствие градиента температуры "
   ]
  },
  {
   "cell_type": "markdown",
   "metadata": {},
   "source": [
    "Условие гидростатики"
   ]
  },
  {
   "cell_type": "code",
   "execution_count": 8,
   "metadata": {},
   "outputs": [],
   "source": [
    "for i in range(1, dimM-1):\n",
    "    mu = ph.MU(x[i], 1 - x[i] -Z, Z)\n",
    "    a[i] = -ph.G*m[i]*d[i]/pow(r[i], 2)\n",
    "    da[i] = (p[i+1] - p[i])/2/(r[i+1] - r[i]) + (p[i] - p[i-1])/2/(r[i] - r[i-1]) - a[i]"
   ]
  },
  {
   "cell_type": "code",
   "execution_count": 11,
   "metadata": {},
   "outputs": [
    {
     "data": {
      "text/plain": [
       "array([-0.70247055, -0.72187298, -0.73796734, ..., -0.06517688,\n",
       "       -0.05616589,  0.0228627 ])"
      ]
     },
     "execution_count": 11,
     "metadata": {},
     "output_type": "execute_result"
    }
   ],
   "source": [
    "da[10:dimM-1]/a[10:dimM-1]"
   ]
  },
  {
   "cell_type": "markdown",
   "metadata": {},
   "source": [
    "Условие переноса энергии"
   ]
  },
  {
   "cell_type": "code",
   "execution_count": 12,
   "metadata": {
    "scrolled": true
   },
   "outputs": [],
   "source": [
    "for i in range(1, dimM-1):\n",
    "    rad = -3/16*k[i]*d[i]*l[i]/ph.sigma/pow(t[i], 3)/4/pi/pow(r[i], 2)\n",
    "    mu = ph.MU(x[i], 1 - x[i] -Z, Z)\n",
    "    conv = -0.4*mu/ph.kB*ph.m_prot*ph.G*m[i]/pow(r[i], 2)\n",
    "    if abs(rad) > abs(conv):\n",
    "        b[i] = rad\n",
    "    else:\n",
    "        b[i] = conv\n",
    "    db[i] = (t[i+1] - t[i])/2/(r[i+1] - r[i]) + (t[i] - t[i-1])/2/(r[i] - r[i-1]) - b[i]"
   ]
  },
  {
   "cell_type": "code",
   "execution_count": 13,
   "metadata": {},
   "outputs": [
    {
     "data": {
      "text/plain": [
       "array([-1.00566545, -1.01284182, -1.02176913, ..., -0.88876934,\n",
       "       -0.91287992, -0.94092889])"
      ]
     },
     "execution_count": 13,
     "metadata": {},
     "output_type": "execute_result"
    }
   ],
   "source": [
    "\n",
    "db[1:dimM-1]/b[1:dimM-1]"
   ]
  },
  {
   "cell_type": "code",
   "execution_count": 14,
   "metadata": {},
   "outputs": [
    {
     "data": {
      "text/plain": [
       "(40.84838523689571, 187.6740955020942)"
      ]
     },
     "execution_count": 14,
     "metadata": {},
     "output_type": "execute_result"
    }
   ],
   "source": [
    "sa = 0\n",
    "sb = 0\n",
    "for i in range(1, dimM-1):\n",
    "    sa += pow(da[i]/a[i], 2)\n",
    "    sb += pow(db[i]/b[i], 2)\n",
    "sa, sb    "
   ]
  },
  {
   "cell_type": "code",
   "execution_count": 15,
   "metadata": {},
   "outputs": [
    {
     "data": {
      "text/plain": [
       "1021"
      ]
     },
     "execution_count": 15,
     "metadata": {},
     "output_type": "execute_result"
    }
   ],
   "source": [
    "dimM"
   ]
  },
  {
   "cell_type": "code",
   "execution_count": 10,
   "metadata": {},
   "outputs": [
    {
     "data": {
      "image/png": "[encoded data removed]",
      "text/plain": [
       "<Figure size 1152x720 with 1 Axes>"
      ]
     },
     "metadata": {
      "needs_background": "light"
     },
     "output_type": "display_data"
    }
   ],
   "source": [
    "r1 = r/s.R\n",
    "plt.figure(figsize=(16, 10))\n",
    "ax = plt.axes()\n",
    "plt.plot(r1, m/s.M, color='red', label='Масса')\n",
    "plt.plot(r1, t/t[0], color='cyan', label='Температура')\n",
    "plt.plot(r1, d/d[0], color='green', label='Плотность')\n",
    "plt.plot(r1, l/s.L, color='blue', label='Светимость')\n",
    "plt.plot(r1, x, color='gray', label='Водород')\n",
    "# plt.plot(r1, p1/p1[0], color='black', marker='.', label='Давление')\n",
    "# plt.xlim(-0.1,0.1)\n",
    "# plt.ylim(-0.1, 0.1)\n",
    "plt.xlabel('R/R_sol')\n",
    "plt.ylabel('')\n",
    "plt.title('Стандартная модель Солнца - зависимость от радиуса')\n",
    "ax.grid(b=True, which='both')\n",
    "\n",
    "ax.legend(fancybox=True, framealpha=1, shadow=True, borderpad=1);"
   ]
  },
  {
   "cell_type": "code",
   "execution_count": 12,
   "metadata": {},
   "outputs": [
    {
     "data": {
      "image/png": "[encoded data removed]",
      "text/plain": [
       "<Figure size 864x576 with 1 Axes>"
      ]
     },
     "metadata": {
      "needs_background": "light"
     },
     "output_type": "display_data"
    }
   ],
   "source": [
    "plt.figure(figsize=(12, 8))\n",
    "ax = plt.axes()\n",
    "plt.plot(t, k, color='black', label='Opacity')\n",
    "# plt.plot(r1, myk, color='red', marker='.', label='Непроз my')\n",
    "#plt.xlim(6, 7.25)\n",
    "#plt.ylim(0, 20)\n",
    "plt.xlabel('T')\n",
    "plt.ylabel('Opacity sm2/g')\n",
    "plt.title('Opacity vs Temperature')\n",
    "ax.grid(b=True, which='both')\n",
    "ax.legend(fancybox=True, framealpha=1, shadow=True, borderpad=1);"
   ]
  },
  {
   "cell_type": "code",
   "execution_count": null,
   "metadata": {},
   "outputs": [],
   "source": []
  }
 ],
 "metadata": {
  "kernelspec": {
   "display_name": "Python 3",
   "language": "python",
   "name": "python3"
  },
  "language_info": {
   "codemirror_mode": {
    "name": "ipython",
    "version": 3
   },
   "file_extension": ".py",
   "mimetype": "text/x-python",
   "name": "python",
   "nbconvert_exporter": "python",
   "pygments_lexer": "ipython3",
   "version": "3.7.4"
  }
 },
 "nbformat": 4,
 "nbformat_minor": 2
}
