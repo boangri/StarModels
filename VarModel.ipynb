{
 "cells": [
  {
   "cell_type": "markdown",
   "metadata": {},
   "source": [
    "Вариационная модель звезды\n",
    "\n",
    "Как параметр задана масса звезды M.\n",
    "Звезда разбита на N сферических слоев.\n",
    "Также задано распределение водорода по слоям.\n",
    "Имеется N+1 точка - расстояния от центра до i-го слоя.\n",
    "Неизвестными являются массивы расстояний r[i] и температур t[i]\n",
    "\n",
    "Date of creation: 2.07.2020\n",
    "\n",
    "Last updated: 3.07.2020"
   ]
  },
  {
   "cell_type": "code",
   "execution_count": 1,
   "metadata": {},
   "outputs": [],
   "source": [
    "import math\n",
    "import numpy as np\n",
    "import pandas as pd\n",
    "\n",
    "%matplotlib inline\n",
    "\n",
    "import matplotlib as mpl\n",
    "import matplotlib.pyplot as plt"
   ]
  },
  {
   "cell_type": "code",
   "execution_count": 2,
   "metadata": {},
   "outputs": [
    {
     "name": "stdout",
     "output_type": "stream",
     "text": [
      "Physics version 1.2\n"
     ]
    }
   ],
   "source": [
    "import physics as ph"
   ]
  },
  {
   "cell_type": "code",
   "execution_count": 3,
   "metadata": {},
   "outputs": [
    {
     "name": "stdout",
     "output_type": "stream",
     "text": [
      "SSM18 version 1.1\n"
     ]
    }
   ],
   "source": [
    "from Sun import SSM18 as s"
   ]
  },
  {
   "cell_type": "code",
   "execution_count": 15,
   "metadata": {},
   "outputs": [],
   "source": [
    "pi = math.pi\n",
    "dimM = 18 # N+1 - число точек модели (сферических слоев + 1)\n",
    "Z = s.Z"
   ]
  },
  {
   "cell_type": "code",
   "execution_count": 16,
   "metadata": {},
   "outputs": [
    {
     "data": {
      "text/html": [
       "<div>\n",
       "<style scoped>\n",
       "    .dataframe tbody tr th:only-of-type {\n",
       "        vertical-align: middle;\n",
       "    }\n",
       "\n",
       "    .dataframe tbody tr th {\n",
       "        vertical-align: top;\n",
       "    }\n",
       "\n",
       "    .dataframe thead th {\n",
       "        text-align: right;\n",
       "    }\n",
       "</style>\n",
       "<table border=\"1\" class=\"dataframe\">\n",
       "  <thead>\n",
       "    <tr style=\"text-align: right;\">\n",
       "      <th></th>\n",
       "      <th>Mass</th>\n",
       "      <th>Radius</th>\n",
       "      <th>Temperature</th>\n",
       "      <th>Density</th>\n",
       "      <th>Luminosity</th>\n",
       "      <th>Hydrogen</th>\n",
       "      <th>Opacity</th>\n",
       "      <th>Convection</th>\n",
       "      <th>Pressure</th>\n",
       "    </tr>\n",
       "  </thead>\n",
       "  <tbody>\n",
       "    <tr>\n",
       "      <td>0</td>\n",
       "      <td>0.0000</td>\n",
       "      <td>0.000</td>\n",
       "      <td>15500000.0</td>\n",
       "      <td>1.563000e+02</td>\n",
       "      <td>0.000</td>\n",
       "      <td>0.355</td>\n",
       "      <td>1.1</td>\n",
       "      <td>0.0</td>\n",
       "      <td>2.381543e+17</td>\n",
       "    </tr>\n",
       "    <tr>\n",
       "      <td>1</td>\n",
       "      <td>0.0099</td>\n",
       "      <td>0.046</td>\n",
       "      <td>14800000.0</td>\n",
       "      <td>1.339000e+02</td>\n",
       "      <td>0.079</td>\n",
       "      <td>0.417</td>\n",
       "      <td>1.2</td>\n",
       "      <td>0.0</td>\n",
       "      <td>2.075100e+17</td>\n",
       "    </tr>\n",
       "    <tr>\n",
       "      <td>2</td>\n",
       "      <td>0.0385</td>\n",
       "      <td>0.076</td>\n",
       "      <td>13800000.0</td>\n",
       "      <td>1.081000e+02</td>\n",
       "      <td>0.264</td>\n",
       "      <td>0.497</td>\n",
       "      <td>1.3</td>\n",
       "      <td>0.0</td>\n",
       "      <td>1.685436e+17</td>\n",
       "    </tr>\n",
       "    <tr>\n",
       "      <td>3</td>\n",
       "      <td>0.1038</td>\n",
       "      <td>0.113</td>\n",
       "      <td>12400000.0</td>\n",
       "      <td>7.890000e+01</td>\n",
       "      <td>0.555</td>\n",
       "      <td>0.592</td>\n",
       "      <td>1.4</td>\n",
       "      <td>0.0</td>\n",
       "      <td>1.201441e+17</td>\n",
       "    </tr>\n",
       "    <tr>\n",
       "      <td>4</td>\n",
       "      <td>0.1620</td>\n",
       "      <td>0.138</td>\n",
       "      <td>11400000.0</td>\n",
       "      <td>6.320000e+01</td>\n",
       "      <td>0.718</td>\n",
       "      <td>0.641</td>\n",
       "      <td>1.6</td>\n",
       "      <td>0.0</td>\n",
       "      <td>9.212529e+16</td>\n",
       "    </tr>\n",
       "    <tr>\n",
       "      <td>5</td>\n",
       "      <td>0.2100</td>\n",
       "      <td>0.156</td>\n",
       "      <td>10800000.0</td>\n",
       "      <td>5.360000e+01</td>\n",
       "      <td>0.809</td>\n",
       "      <td>0.668</td>\n",
       "      <td>1.7</td>\n",
       "      <td>0.0</td>\n",
       "      <td>7.563500e+16</td>\n",
       "    </tr>\n",
       "    <tr>\n",
       "      <td>6</td>\n",
       "      <td>0.2580</td>\n",
       "      <td>0.173</td>\n",
       "      <td>10200000.0</td>\n",
       "      <td>4.570000e+01</td>\n",
       "      <td>0.874</td>\n",
       "      <td>0.688</td>\n",
       "      <td>1.8</td>\n",
       "      <td>0.0</td>\n",
       "      <td>6.186836e+16</td>\n",
       "    </tr>\n",
       "    <tr>\n",
       "      <td>7</td>\n",
       "      <td>0.3100</td>\n",
       "      <td>0.190</td>\n",
       "      <td>9600000.0</td>\n",
       "      <td>3.850000e+01</td>\n",
       "      <td>0.921</td>\n",
       "      <td>0.702</td>\n",
       "      <td>1.9</td>\n",
       "      <td>0.0</td>\n",
       "      <td>4.958997e+16</td>\n",
       "    </tr>\n",
       "    <tr>\n",
       "      <td>8</td>\n",
       "      <td>0.3900</td>\n",
       "      <td>0.217</td>\n",
       "      <td>8770000.0</td>\n",
       "      <td>2.940000e+01</td>\n",
       "      <td>0.964</td>\n",
       "      <td>0.716</td>\n",
       "      <td>2.1</td>\n",
       "      <td>0.0</td>\n",
       "      <td>3.496777e+16</td>\n",
       "    </tr>\n",
       "    <tr>\n",
       "      <td>9</td>\n",
       "      <td>0.4700</td>\n",
       "      <td>0.245</td>\n",
       "      <td>8000000.0</td>\n",
       "      <td>2.210000e+01</td>\n",
       "      <td>0.986</td>\n",
       "      <td>0.724</td>\n",
       "      <td>2.4</td>\n",
       "      <td>0.0</td>\n",
       "      <td>2.412367e+16</td>\n",
       "    </tr>\n",
       "    <tr>\n",
       "      <td>10</td>\n",
       "      <td>0.5500</td>\n",
       "      <td>0.275</td>\n",
       "      <td>7270000.0</td>\n",
       "      <td>1.610000e+01</td>\n",
       "      <td>0.996</td>\n",
       "      <td>0.728</td>\n",
       "      <td>2.8</td>\n",
       "      <td>0.0</td>\n",
       "      <td>1.601900e+16</td>\n",
       "    </tr>\n",
       "    <tr>\n",
       "      <td>11</td>\n",
       "      <td>0.6900</td>\n",
       "      <td>0.336</td>\n",
       "      <td>6030000.0</td>\n",
       "      <td>8.030000e+00</td>\n",
       "      <td>1.000</td>\n",
       "      <td>0.731</td>\n",
       "      <td>3.5</td>\n",
       "      <td>0.0</td>\n",
       "      <td>6.641880e+15</td>\n",
       "    </tr>\n",
       "    <tr>\n",
       "      <td>12</td>\n",
       "      <td>0.8300</td>\n",
       "      <td>0.430</td>\n",
       "      <td>4640000.0</td>\n",
       "      <td>2.850000e+00</td>\n",
       "      <td>1.000</td>\n",
       "      <td>0.732</td>\n",
       "      <td>4.7</td>\n",
       "      <td>0.0</td>\n",
       "      <td>1.815299e+15</td>\n",
       "    </tr>\n",
       "    <tr>\n",
       "      <td>13</td>\n",
       "      <td>0.9264</td>\n",
       "      <td>0.554</td>\n",
       "      <td>3400000.0</td>\n",
       "      <td>7.730000e-01</td>\n",
       "      <td>1.000</td>\n",
       "      <td>0.732</td>\n",
       "      <td>8.0</td>\n",
       "      <td>0.0</td>\n",
       "      <td>3.607810e+14</td>\n",
       "    </tr>\n",
       "    <tr>\n",
       "      <td>14</td>\n",
       "      <td>0.9602</td>\n",
       "      <td>0.641</td>\n",
       "      <td>2720000.0</td>\n",
       "      <td>3.380000e-01</td>\n",
       "      <td>1.000</td>\n",
       "      <td>0.732</td>\n",
       "      <td>12.2</td>\n",
       "      <td>0.0</td>\n",
       "      <td>1.262034e+14</td>\n",
       "    </tr>\n",
       "    <tr>\n",
       "      <td>15</td>\n",
       "      <td>0.9784</td>\n",
       "      <td>0.718</td>\n",
       "      <td>2120000.0</td>\n",
       "      <td>1.690000e-01</td>\n",
       "      <td>1.000</td>\n",
       "      <td>0.732</td>\n",
       "      <td>16.8</td>\n",
       "      <td>0.0</td>\n",
       "      <td>4.918219e+13</td>\n",
       "    </tr>\n",
       "    <tr>\n",
       "      <td>16</td>\n",
       "      <td>0.9954</td>\n",
       "      <td>0.849</td>\n",
       "      <td>950000.0</td>\n",
       "      <td>5.000000e-02</td>\n",
       "      <td>1.000</td>\n",
       "      <td>0.732</td>\n",
       "      <td>10.0</td>\n",
       "      <td>1.0</td>\n",
       "      <td>6.520470e+12</td>\n",
       "    </tr>\n",
       "    <tr>\n",
       "      <td>17</td>\n",
       "      <td>1.0000</td>\n",
       "      <td>1.000</td>\n",
       "      <td>5800.0</td>\n",
       "      <td>2.800000e-07</td>\n",
       "      <td>1.000</td>\n",
       "      <td>0.732</td>\n",
       "      <td>0.3</td>\n",
       "      <td>0.0</td>\n",
       "      <td>2.229314e+05</td>\n",
       "    </tr>\n",
       "  </tbody>\n",
       "</table>\n",
       "</div>"
      ],
      "text/plain": [
       "      Mass  Radius  Temperature       Density  Luminosity  Hydrogen  Opacity  \\\n",
       "0   0.0000   0.000   15500000.0  1.563000e+02       0.000     0.355      1.1   \n",
       "1   0.0099   0.046   14800000.0  1.339000e+02       0.079     0.417      1.2   \n",
       "2   0.0385   0.076   13800000.0  1.081000e+02       0.264     0.497      1.3   \n",
       "3   0.1038   0.113   12400000.0  7.890000e+01       0.555     0.592      1.4   \n",
       "4   0.1620   0.138   11400000.0  6.320000e+01       0.718     0.641      1.6   \n",
       "5   0.2100   0.156   10800000.0  5.360000e+01       0.809     0.668      1.7   \n",
       "6   0.2580   0.173   10200000.0  4.570000e+01       0.874     0.688      1.8   \n",
       "7   0.3100   0.190    9600000.0  3.850000e+01       0.921     0.702      1.9   \n",
       "8   0.3900   0.217    8770000.0  2.940000e+01       0.964     0.716      2.1   \n",
       "9   0.4700   0.245    8000000.0  2.210000e+01       0.986     0.724      2.4   \n",
       "10  0.5500   0.275    7270000.0  1.610000e+01       0.996     0.728      2.8   \n",
       "11  0.6900   0.336    6030000.0  8.030000e+00       1.000     0.731      3.5   \n",
       "12  0.8300   0.430    4640000.0  2.850000e+00       1.000     0.732      4.7   \n",
       "13  0.9264   0.554    3400000.0  7.730000e-01       1.000     0.732      8.0   \n",
       "14  0.9602   0.641    2720000.0  3.380000e-01       1.000     0.732     12.2   \n",
       "15  0.9784   0.718    2120000.0  1.690000e-01       1.000     0.732     16.8   \n",
       "16  0.9954   0.849     950000.0  5.000000e-02       1.000     0.732     10.0   \n",
       "17  1.0000   1.000       5800.0  2.800000e-07       1.000     0.732      0.3   \n",
       "\n",
       "    Convection      Pressure  \n",
       "0          0.0  2.381543e+17  \n",
       "1          0.0  2.075100e+17  \n",
       "2          0.0  1.685436e+17  \n",
       "3          0.0  1.201441e+17  \n",
       "4          0.0  9.212529e+16  \n",
       "5          0.0  7.563500e+16  \n",
       "6          0.0  6.186836e+16  \n",
       "7          0.0  4.958997e+16  \n",
       "8          0.0  3.496777e+16  \n",
       "9          0.0  2.412367e+16  \n",
       "10         0.0  1.601900e+16  \n",
       "11         0.0  6.641880e+15  \n",
       "12         0.0  1.815299e+15  \n",
       "13         0.0  3.607810e+14  \n",
       "14         0.0  1.262034e+14  \n",
       "15         0.0  4.918219e+13  \n",
       "16         1.0  6.520470e+12  \n",
       "17         0.0  2.229314e+05  "
      ]
     },
     "execution_count": 16,
     "metadata": {},
     "output_type": "execute_result"
    }
   ],
   "source": [
    "df1 = s.load_data()\n",
    "df1"
   ]
  },
  {
   "cell_type": "code",
   "execution_count": 17,
   "metadata": {},
   "outputs": [],
   "source": [
    "x = df1['Hydrogen'].values\n",
    "r = df1['Radius'].values*s.R\n",
    "m = df1['Mass'].values*s.M\n",
    "t = df1['Temperature'].values\n",
    "# The rest may be computed from the above variables.\n",
    "d1 = df1['Density'].values\n",
    "l1 = df1['Luminosity'].values*s.L\n",
    "p1 = df1['Pressure'].values\n",
    "k1 = df1['Opacity'].values"
   ]
  },
  {
   "cell_type": "code",
   "execution_count": 18,
   "metadata": {},
   "outputs": [],
   "source": [
    "d = np.zeros(dimM)\n",
    "l = np.zeros(dimM)\n",
    "p = np.zeros(dimM)\n",
    "k = np.zeros(dimM)"
   ]
  },
  {
   "cell_type": "code",
   "execution_count": 19,
   "metadata": {},
   "outputs": [],
   "source": [
    "\n",
    "d[0] = 3*m[1]/4/pi/pow(r[1], 3)\n",
    "d[1] = 0.5*d[0] + 0.5*(m[2] - m[1])/4/pi/pow((r[1] + r[2])/2, 2)/(r[2] - r[1])\n",
    "for i in range(2, dimM-1):\n",
    "    d[i] = ((m[i+1] - m[i])/pow(r[i], 2)/(r[i+1] - r[i]) + (m[i] - m[i-1])/pow(r[i], 2)/(r[i] - r[i-1]))/8/pi\n",
    "d[dimM-1] = 0.\n",
    "for i in range(dimM):\n",
    "    p[i] = ph.Pressure(d[i], t[i], x[i], 1 - Z - x[i], Z)\n",
    "    k[i] = ph.opacity(d[i], t[i], x[i], 1 - Z - x[i], Z)\n",
    "l[0] = 0.\n",
    "for i in range(1, dimM):\n",
    "    l[i] = l[i-1] + (m[i] - m[i-1])*ph.Etot(d[i], t[i], x[i], 1 - Z - x[i], Z)/0.5879669006862714"
   ]
  },
  {
   "cell_type": "code",
   "execution_count": 20,
   "metadata": {
    "scrolled": true
   },
   "outputs": [
    {
     "name": "stdout",
     "output_type": "stream",
     "text": [
      "156.3 143.31724392258448\n",
      "133.9 131.82731891579235\n",
      "108.1 110.5196328708319\n",
      "78.9 75.27591039108262\n",
      "63.2 61.593351300072484\n",
      "53.6 52.9814886114439\n",
      "45.7 46.15772233028045\n",
      "38.5 39.174516872533815\n",
      "29.4 29.026649658852026\n",
      "22.1 21.611853934197924\n",
      "16.1 15.40830508890182\n",
      "8.03 7.872433275180026\n",
      "2.85 2.8791093599090924\n",
      "0.773 0.8921474141681306\n",
      "0.338 0.3571566041760261\n",
      "0.169 0.16679284458681545\n",
      "0.05 0.05220671087255304\n",
      "2.8e-07 0.0\n"
     ]
    }
   ],
   "source": [
    "for i in range(dimM):\n",
    "    print(d1[i], d[i])"
   ]
  },
  {
   "cell_type": "code",
   "execution_count": 21,
   "metadata": {},
   "outputs": [
    {
     "name": "stdout",
     "output_type": "stream",
     "text": [
      "156.3 143.31724392258448\n",
      "133.9 131.82731891579235\n",
      "108.1 110.5196328708319\n",
      "78.9 75.27591039108262\n",
      "63.2 61.593351300072484\n",
      "53.6 52.9814886114439\n",
      "45.7 46.15772233028045\n",
      "38.5 39.174516872533815\n",
      "29.4 29.026649658852026\n",
      "22.1 21.611853934197924\n",
      "16.1 15.40830508890182\n",
      "8.03 7.872433275180026\n",
      "2.85 2.8791093599090924\n",
      "0.773 0.8921474141681306\n",
      "0.338 0.3571566041760261\n",
      "0.169 0.16679284458681545\n",
      "0.05 0.05220671087255304\n",
      "2.8e-07 0.0\n"
     ]
    }
   ],
   "source": [
    "for i in range(dimM):\n",
    "    print(d1[i], d[i])"
   ]
  },
  {
   "cell_type": "code",
   "execution_count": 22,
   "metadata": {},
   "outputs": [
    {
     "name": "stdout",
     "output_type": "stream",
     "text": [
      "0.0 0.0\n",
      "0.079 0.08554061741725977\n",
      "0.264 0.2818852882521794\n",
      "0.555 0.5533160768288975\n",
      "0.7179999999999999 0.7144652784106362\n",
      "0.809 0.8111775890999076\n",
      "0.874 0.8798626582908967\n",
      "0.9209999999999999 0.9296027496870293\n",
      "0.964 0.9685130825372467\n",
      "0.986 0.9879229457626771\n",
      "0.996 0.9969327305056751\n",
      "1.0 0.9997732660968942\n",
      "1.0 0.9999923602517709\n",
      "1.0 0.9999997100568466\n",
      "1.0 0.9999999835352114\n",
      "1.0 0.9999999999990291\n",
      "1.0 1.0\n",
      "1.0 1.0\n"
     ]
    }
   ],
   "source": [
    "for i in range(dimM):\n",
    "    print(l1[i]/s.L, l[i]/s.L)"
   ]
  },
  {
   "cell_type": "code",
   "execution_count": 23,
   "metadata": {},
   "outputs": [
    {
     "name": "stdout",
     "output_type": "stream",
     "text": [
      "1.1 1.0086306353163017\n",
      "1.2 1.181424814181715\n",
      "1.3 1.3290982629286399\n",
      "1.4 1.335694225878389\n",
      "1.6 1.5593253496028225\n",
      "1.7 1.6803830337646455\n",
      "1.8 1.818028449080095\n",
      "1.9 1.9332878475908009\n",
      "2.1 2.073332117660098\n",
      "2.4 2.3469886610704633\n",
      "2.8 2.6797052254833007\n",
      "3.5 3.4313220971927123\n",
      "4.7 4.748004917910583\n",
      "8.0 9.23309097375497\n",
      "12.2 12.891451408974664\n",
      "16.8 16.580590463854012\n",
      "10.0 2.3256087566360413\n",
      "0.3 0.0\n"
     ]
    }
   ],
   "source": [
    "for i in range(dimM):\n",
    "    print(k1[i], k[i])"
   ]
  },
  {
   "cell_type": "code",
   "execution_count": 24,
   "metadata": {},
   "outputs": [],
   "source": [
    "e = np.zeros(dimM) # энерговыделения\n",
    "a = np.zeros(dimM) # градиент давления\n",
    "da = np.zeros(dimM) # несоответсвие градиента давления\n",
    "b = np.zeros(dimM) # градиент температуры\n",
    "db = np.zeros(dimM) # несоответствие градиента температуры "
   ]
  },
  {
   "cell_type": "markdown",
   "metadata": {},
   "source": [
    "Условие гидростатики"
   ]
  },
  {
   "cell_type": "code",
   "execution_count": 25,
   "metadata": {},
   "outputs": [],
   "source": [
    "for i in range(1, dimM-1):\n",
    "    mu = ph.MU(x[i], 1 - x[i] -Z, Z)\n",
    "    a[i] = -ph.G*m[i]*d[i]/pow(r[i], 2)\n",
    "    da[i] = (p[i+1] - p[i])/2/(r[i+1] - r[i]) + (p[i] - p[i-1])/2/(r[i] - r[i-1]) - a[i]"
   ]
  },
  {
   "cell_type": "code",
   "execution_count": 26,
   "metadata": {},
   "outputs": [
    {
     "data": {
      "text/plain": [
       "array([-0.41677213, -0.06567032,  0.09379674, -0.08518798, -0.10739398,\n",
       "       -0.05800794,  0.01145504,  0.06947705,  0.03153308, -0.01755841,\n",
       "        0.05897138,  0.24139306,  0.42967834,  0.36792441,  0.17615776,\n",
       "        0.32243698])"
      ]
     },
     "execution_count": 26,
     "metadata": {},
     "output_type": "execute_result"
    }
   ],
   "source": [
    "da[1:dimM-1]/a[1:dimM-1]"
   ]
  },
  {
   "cell_type": "markdown",
   "metadata": {},
   "source": [
    "Условие переноса энергии"
   ]
  },
  {
   "cell_type": "code",
   "execution_count": 27,
   "metadata": {
    "scrolled": true
   },
   "outputs": [],
   "source": [
    "for i in range(1, dimM-1):\n",
    "    rad = -3/16*k[i]*d[i]*l[i]/ph.sigma/pow(t[i], 3)/4/pi/pow(r[i], 2)\n",
    "    mu = ph.MU(x[i], 1 - x[i] -Z, Z)\n",
    "    conv = -0.4*mu/ph.kB*ph.m_prot*ph.G*m[i]/pow(r[i], 2)\n",
    "    if abs(rad) > abs(conv):\n",
    "        b[i] = rad\n",
    "    else:\n",
    "        b[i] = conv\n",
    "    db[i] = (t[i+1] - t[i])/2/(r[i+1] - r[i]) + (t[i] - t[i-1])/2/(r[i] - r[i-1]) - b[i]"
   ]
  },
  {
   "cell_type": "code",
   "execution_count": 28,
   "metadata": {},
   "outputs": [
    {
     "data": {
      "text/plain": [
       "array([-0.28778159, -0.20928807, -0.22928413, -0.27749335, -0.31891329,\n",
       "       -0.28764347, -0.32372861, -0.37490914, -0.40796832, -0.44913059,\n",
       "       -0.48343867, -0.50316461, -0.46892108, -0.3990538 , -0.20716028,\n",
       "       -0.01067833])"
      ]
     },
     "execution_count": 28,
     "metadata": {},
     "output_type": "execute_result"
    }
   ],
   "source": [
    "\n",
    "db[1:dimM-1]/b[1:dimM-1]"
   ]
  },
  {
   "cell_type": "code",
   "execution_count": 29,
   "metadata": {},
   "outputs": [
    {
     "data": {
      "text/plain": [
       "(0.7319629596483445, 1.9631993737080915)"
      ]
     },
     "execution_count": 29,
     "metadata": {},
     "output_type": "execute_result"
    }
   ],
   "source": [
    "sa = 0\n",
    "sb = 0\n",
    "for i in range(1, dimM-1):\n",
    "    sa += pow(da[i]/a[i], 2)\n",
    "    sb += pow(db[i]/b[i], 2)\n",
    "sa, sb    "
   ]
  },
  {
   "cell_type": "code",
   "execution_count": null,
   "metadata": {},
   "outputs": [],
   "source": []
  }
 ],
 "metadata": {
  "kernelspec": {
   "display_name": "Python 3",
   "language": "python",
   "name": "python3"
  },
  "language_info": {
   "codemirror_mode": {
    "name": "ipython",
    "version": 3
   },
   "file_extension": ".py",
   "mimetype": "text/x-python",
   "name": "python",
   "nbconvert_exporter": "python",
   "pygments_lexer": "ipython3",
   "version": "3.7.4"
  }
 },
 "nbformat": 4,
 "nbformat_minor": 2
}
