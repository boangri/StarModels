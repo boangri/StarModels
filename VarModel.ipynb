{
 "cells": [
  {
   "cell_type": "markdown",
   "metadata": {},
   "source": [
    "Вариационная модель звезды\n",
    "\n",
    "Как параметр задана масса звезды M.\n",
    "Звезда разбита на N сферических слоев одинаковой массы M/N\n",
    "Также задано распределение водорода по слоям.\n",
    "Имеется N+1 точка - расстояния от центра до i-го слоя.\n",
    "Неизвестными являются массивы расстояний r[i] и температур t[i]\n",
    "\n",
    "Date of creation: 2.07.2020\n",
    "\n",
    "Last updated: 2.07.2020"
   ]
  },
  {
   "cell_type": "code",
   "execution_count": 95,
   "metadata": {},
   "outputs": [],
   "source": [
    "import math\n",
    "import numpy as np\n",
    "import pandas as pd\n",
    "\n",
    "%matplotlib inline\n",
    "\n",
    "import matplotlib as mpl\n",
    "import matplotlib.pyplot as plt"
   ]
  },
  {
   "cell_type": "code",
   "execution_count": 96,
   "metadata": {},
   "outputs": [],
   "source": [
    "h = 1.054E-27 # reduced Planck constant\n",
    "c = 3e10 # speed of light\n",
    "G = 6.67E-8 # gravitational constant\n",
    "kB = 1.381E-16 # Boltzmann constant\n",
    "m_prot = 1.67E-24 # масса протона\n",
    "m_elec = 9.11E-28 # масса электрона\n",
    "alpha = 137 # e2/h/c - постоянная тонкой структуры\n",
    "e2 = h*c/alpha\n",
    "r_elec = e2/m_elec/c/c # классический радиус электрона\n",
    "pi = math.pi # 3.14...\n",
    "sigmaT = 8*pi/3*r_elec*r_elec # сечение томсоновского рассеяния на электронах\n",
    "kappaT = sigmaT/m_prot\n",
    "sigma = pow(pi, 2)*pow(kB, 4)/60*pow(h, -3)*pow(c, -2) # sigma*T^4\n",
    "a = pow(pi, 2)*pow(kB, 4)/15*pow(h, -3)*pow(c, -3)\n",
    "gamma = 5/3\n",
    "year = 365.25*24*3600 # seconds in a year\n",
    "eVolt = 1.6e-12 # ergs\n",
    "dEpp = (26.23 - 0.5)*1e6*eVolt # energy output in (4p -> He) reaction minus neutrinos energy"
   ]
  },
  {
   "cell_type": "code",
   "execution_count": 97,
   "metadata": {},
   "outputs": [],
   "source": [
    "M_sol = 1.99e33 # solar mass\n",
    "R_sol = 6.96e10 # solar radius\n",
    "L_sol = 3.85e33 # solar luminosity\n",
    "Teff = pow(L_sol/4/pi/sigma/R_sol/R_sol, 1/4) # 5780 solar surface temperature"
   ]
  },
  {
   "cell_type": "code",
   "execution_count": 98,
   "metadata": {},
   "outputs": [],
   "source": [
    "dimM = 200 # число сферических слоев\n",
    "M = M_sol\n",
    "dm = M/dimM"
   ]
  },
  {
   "cell_type": "code",
   "execution_count": 99,
   "metadata": {},
   "outputs": [],
   "source": [
    "r1 = np.zeros(dimM) # расстояния - из модели\n",
    "t1 = np.zeros(dimM) # температуры - из модели\n",
    "d1 = np.zeros(dimM) # плотности"
   ]
  },
  {
   "cell_type": "code",
   "execution_count": 100,
   "metadata": {},
   "outputs": [
    {
     "data": {
      "text/html": [
       "<div>\n",
       "<style scoped>\n",
       "    .dataframe tbody tr th:only-of-type {\n",
       "        vertical-align: middle;\n",
       "    }\n",
       "\n",
       "    .dataframe tbody tr th {\n",
       "        vertical-align: top;\n",
       "    }\n",
       "\n",
       "    .dataframe thead th {\n",
       "        text-align: right;\n",
       "    }\n",
       "</style>\n",
       "<table border=\"1\" class=\"dataframe\">\n",
       "  <thead>\n",
       "    <tr style=\"text-align: right;\">\n",
       "      <th></th>\n",
       "      <th>Unnamed: 0</th>\n",
       "      <th>Mass</th>\n",
       "      <th>Radius</th>\n",
       "      <th>Temperature</th>\n",
       "      <th>Density</th>\n",
       "      <th>Luminosity</th>\n",
       "      <th>Hydrogen</th>\n",
       "      <th>Opacity</th>\n",
       "      <th>Convection</th>\n",
       "    </tr>\n",
       "  </thead>\n",
       "  <tbody>\n",
       "    <tr>\n",
       "      <td>0</td>\n",
       "      <td>0</td>\n",
       "      <td>9.947406e+30</td>\n",
       "      <td>0.000000e+00</td>\n",
       "      <td>1.331000e+07</td>\n",
       "      <td>94.427674</td>\n",
       "      <td>2.937955e+31</td>\n",
       "      <td>0.732</td>\n",
       "      <td>1.342981</td>\n",
       "      <td>0.002404</td>\n",
       "    </tr>\n",
       "    <tr>\n",
       "      <td>1</td>\n",
       "      <td>1</td>\n",
       "      <td>1.989481e+31</td>\n",
       "      <td>3.737520e+09</td>\n",
       "      <td>1.286046e+07</td>\n",
       "      <td>89.581399</td>\n",
       "      <td>1.591017e+32</td>\n",
       "      <td>0.732</td>\n",
       "      <td>1.389733</td>\n",
       "      <td>0.000000</td>\n",
       "    </tr>\n",
       "    <tr>\n",
       "      <td>2</td>\n",
       "      <td>2</td>\n",
       "      <td>2.984222e+31</td>\n",
       "      <td>4.301280e+09</td>\n",
       "      <td>1.272100e+07</td>\n",
       "      <td>87.504916</td>\n",
       "      <td>2.591621e+32</td>\n",
       "      <td>0.732</td>\n",
       "      <td>1.412782</td>\n",
       "      <td>0.000000</td>\n",
       "    </tr>\n",
       "    <tr>\n",
       "      <td>3</td>\n",
       "      <td>3</td>\n",
       "      <td>3.978962e+31</td>\n",
       "      <td>4.746720e+09</td>\n",
       "      <td>1.260008e+07</td>\n",
       "      <td>85.728836</td>\n",
       "      <td>3.514368e+32</td>\n",
       "      <td>0.732</td>\n",
       "      <td>1.429947</td>\n",
       "      <td>0.000000</td>\n",
       "    </tr>\n",
       "    <tr>\n",
       "      <td>4</td>\n",
       "      <td>4</td>\n",
       "      <td>4.973703e+31</td>\n",
       "      <td>5.136480e+09</td>\n",
       "      <td>1.248738e+07</td>\n",
       "      <td>84.121420</td>\n",
       "      <td>4.381412e+32</td>\n",
       "      <td>0.732</td>\n",
       "      <td>1.443379</td>\n",
       "      <td>0.000000</td>\n",
       "    </tr>\n",
       "    <tr>\n",
       "      <td>...</td>\n",
       "      <td>...</td>\n",
       "      <td>...</td>\n",
       "      <td>...</td>\n",
       "      <td>...</td>\n",
       "      <td>...</td>\n",
       "      <td>...</td>\n",
       "      <td>...</td>\n",
       "      <td>...</td>\n",
       "      <td>...</td>\n",
       "    </tr>\n",
       "    <tr>\n",
       "      <td>195</td>\n",
       "      <td>195</td>\n",
       "      <td>1.949692e+33</td>\n",
       "      <td>4.785000e+10</td>\n",
       "      <td>2.058934e+06</td>\n",
       "      <td>0.219782</td>\n",
       "      <td>2.438247e+33</td>\n",
       "      <td>0.732</td>\n",
       "      <td>20.723697</td>\n",
       "      <td>0.000000</td>\n",
       "    </tr>\n",
       "    <tr>\n",
       "      <td>196</td>\n",
       "      <td>196</td>\n",
       "      <td>1.959639e+33</td>\n",
       "      <td>4.978488e+10</td>\n",
       "      <td>1.805729e+06</td>\n",
       "      <td>0.172056</td>\n",
       "      <td>2.438247e+33</td>\n",
       "      <td>0.732</td>\n",
       "      <td>20.415850</td>\n",
       "      <td>0.000000</td>\n",
       "    </tr>\n",
       "    <tr>\n",
       "      <td>197</td>\n",
       "      <td>197</td>\n",
       "      <td>1.969586e+33</td>\n",
       "      <td>5.218608e+10</td>\n",
       "      <td>1.489402e+06</td>\n",
       "      <td>0.127010</td>\n",
       "      <td>2.438247e+33</td>\n",
       "      <td>0.732</td>\n",
       "      <td>18.836202</td>\n",
       "      <td>0.000000</td>\n",
       "    </tr>\n",
       "    <tr>\n",
       "      <td>198</td>\n",
       "      <td>198</td>\n",
       "      <td>1.979534e+33</td>\n",
       "      <td>5.547120e+10</td>\n",
       "      <td>1.056482e+06</td>\n",
       "      <td>0.083605</td>\n",
       "      <td>2.438247e+33</td>\n",
       "      <td>0.732</td>\n",
       "      <td>15.651353</td>\n",
       "      <td>0.775424</td>\n",
       "    </tr>\n",
       "    <tr>\n",
       "      <td>199</td>\n",
       "      <td>199</td>\n",
       "      <td>1.989481e+33</td>\n",
       "      <td>6.533934e+10</td>\n",
       "      <td>5.316076e+03</td>\n",
       "      <td>0.007868</td>\n",
       "      <td>2.438247e+33</td>\n",
       "      <td>0.732</td>\n",
       "      <td>2.018986</td>\n",
       "      <td>1.000000</td>\n",
       "    </tr>\n",
       "  </tbody>\n",
       "</table>\n",
       "<p>200 rows × 9 columns</p>\n",
       "</div>"
      ],
      "text/plain": [
       "     Unnamed: 0          Mass        Radius   Temperature    Density  \\\n",
       "0             0  9.947406e+30  0.000000e+00  1.331000e+07  94.427674   \n",
       "1             1  1.989481e+31  3.737520e+09  1.286046e+07  89.581399   \n",
       "2             2  2.984222e+31  4.301280e+09  1.272100e+07  87.504916   \n",
       "3             3  3.978962e+31  4.746720e+09  1.260008e+07  85.728836   \n",
       "4             4  4.973703e+31  5.136480e+09  1.248738e+07  84.121420   \n",
       "..          ...           ...           ...           ...        ...   \n",
       "195         195  1.949692e+33  4.785000e+10  2.058934e+06   0.219782   \n",
       "196         196  1.959639e+33  4.978488e+10  1.805729e+06   0.172056   \n",
       "197         197  1.969586e+33  5.218608e+10  1.489402e+06   0.127010   \n",
       "198         198  1.979534e+33  5.547120e+10  1.056482e+06   0.083605   \n",
       "199         199  1.989481e+33  6.533934e+10  5.316076e+03   0.007868   \n",
       "\n",
       "       Luminosity  Hydrogen    Opacity  Convection  \n",
       "0    2.937955e+31     0.732   1.342981    0.002404  \n",
       "1    1.591017e+32     0.732   1.389733    0.000000  \n",
       "2    2.591621e+32     0.732   1.412782    0.000000  \n",
       "3    3.514368e+32     0.732   1.429947    0.000000  \n",
       "4    4.381412e+32     0.732   1.443379    0.000000  \n",
       "..            ...       ...        ...         ...  \n",
       "195  2.438247e+33     0.732  20.723697    0.000000  \n",
       "196  2.438247e+33     0.732  20.415850    0.000000  \n",
       "197  2.438247e+33     0.732  18.836202    0.000000  \n",
       "198  2.438247e+33     0.732  15.651353    0.775424  \n",
       "199  2.438247e+33     0.732   2.018986    1.000000  \n",
       "\n",
       "[200 rows x 9 columns]"
      ]
     },
     "execution_count": 100,
     "metadata": {},
     "output_type": "execute_result"
    }
   ],
   "source": [
    "df1 = pd.read_csv('../Zeld/1epoch00.csv')\n",
    "df1"
   ]
  },
  {
   "cell_type": "code",
   "execution_count": 102,
   "metadata": {},
   "outputs": [],
   "source": [
    "x1 = df1['Hydrogen']\n",
    "r1 = df1['Radius']\n",
    "t1 = df1['Temperature']\n",
    "d1 = df1['Density']\n"
   ]
  },
  {
   "cell_type": "code",
   "execution_count": 103,
   "metadata": {},
   "outputs": [],
   "source": [
    "r = np.zeros(dimM+1) # расстояния - заданы как 0-е приближение\n",
    "t = np.zeros(dimM+1) # температуры - заданы как 0-е приближение\n",
    "d = np.zeros(dimM+1) # плотности\n",
    "l = np.zeros(dimM+1) # светимости\n",
    "x = np.zeros(dimM+1) # содержания водорода - заданы\n",
    "k = np.zeros(dimM+1) # непрозрачности\n",
    "e = np.zeros(dimM+1) # энерговыделения\n",
    "p = np.zeros(dimM+1) # давления\n",
    "a = np.zeros(dimM) # градиент давления\n",
    "da = np.zeros(dimM) # несоответсвие градиента давления\n",
    "b = np.zeros(dimM) # градиент температуры\n",
    "db = np.zeros(dimM) # несоответствие градиента температуры "
   ]
  },
  {
   "cell_type": "code",
   "execution_count": 104,
   "metadata": {},
   "outputs": [],
   "source": [
    "# Уравнение состояния \n",
    "def Pressure(den, T, X, Y, Z) :\n",
    "    mu = 1/(2*X + 3/4*Y + 1/2*Z)\n",
    "    return den/m_prot/mu*kB*T"
   ]
  },
  {
   "cell_type": "code",
   "execution_count": 105,
   "metadata": {},
   "outputs": [],
   "source": [
    "# Зельдович, стр 70, 71:\n",
    "# Скорость энерговыделения в p-p реакции [эрг/с/г] деленная на X\n",
    "def E0pp(den, T, X) :\n",
    "    T0 = (1e6, 5e6, 10e6, 15e6, 20e6, 30e6)\n",
    "    e0 = (4e-9, 1.8e-3, 6.8e-2, 0.377, 1.09, 4.01)\n",
    "    n = (10.6, 5.95, 4.60, 3.95, 3.64, 3.03)\n",
    "    found = False\n",
    "    for i in range (len(T0) - 1) :\n",
    "        if T < pow(T0[i]*T0[i+1], 0.5) :\n",
    "            found = True\n",
    "            break;\n",
    "        if not found :\n",
    "            i = len(T0) - 1\n",
    "    # print('i=%d T0=%.1e e0=%.3e n=%.2f' % (i, T0[i], e0[i], n[i]))\n",
    "    return den*X*e0[i]*pow(T/T0[i], n[i])\n",
    "\n",
    "# Скорость энерговыделения в CNO цикле [эрг/с/г] деленная на X\n",
    "def E0cno(den, T, XCNO) :\n",
    "    T0 = (6e6, 10e6, 15e6, 20e6, 30e6, 50e6, 100e6)\n",
    "    e0 = (9e-10, 3.4e-4, 1.94, 4.5e2, 4.1e5, 6.2e8, 1.9e12)\n",
    "    n = (27.3, 22.9, 19.9, 18.0, 15.6, 13.6, 10.2)\n",
    "    found = False\n",
    "    for i in range (len(T0) - 1) :\n",
    "        if T < pow(T0[i]*T0[i+1], 0.5) :\n",
    "            found = True\n",
    "            break;\n",
    "    if not found :\n",
    "        i = len(T0) - 1 \n",
    "    # print('i=%d T0=%.1e e0=%.3e n=%.2f' % (i, T0[i], e0[i], n[i]))\n",
    "    return den*XCNO*e0[i]*pow(T/T0[i], n[i])\n",
    "\n",
    "# Полное энерговыделение - домножаем на X.\n",
    "def Etot(den, T, X, Y, Z) :\n",
    "    return X*(E0pp(den, T, X) + E0cno(den, T, Z))\n",
    "# For best fit to SSM18:\n",
    "#     return 1.3*E0pp(den, T, X) + 3.5*E0cno(den, T, Z)"
   ]
  },
  {
   "cell_type": "code",
   "execution_count": 106,
   "metadata": {},
   "outputs": [],
   "source": [
    "def MU(X, Y, Z) :\n",
    "    return  1/(2*X + 3/4*Y + 1/2*Z)\n",
    "\n",
    "# Табличные данные для функции непрозрачности\n",
    "Tst = [2120000.,  2720000.,  3400000.,  4640000.,  6030000.,\n",
    "    7270000.,  8000000.,  8770000.,  9600000., 10200000., 10800000.,\n",
    "   11400000., 12400000., 13800000., 14800000., 15500000.]\n",
    "Kst = [9.94082840e+01, 3.60946746e+01,\n",
    "   1.03492885e+01, 1.64912281e+00, 4.35865504e-01, 1.73913043e-01,\n",
    "   1.08597285e-01, 7.14285714e-02, 4.93506494e-02, 3.93873085e-02,\n",
    "   3.17164179e-02, 2.53164557e-02, 1.77439797e-02, 1.20259019e-02,\n",
    "   8.96191187e-03, 7.03774792e-03]\n",
    "def kappa(den, T, X, Y, Z) :\n",
    "    if T <= Tst[0] :\n",
    "        return den*Kst[0]*T/Tst[0]\n",
    "    for i in range(len(Tst) - 1) :\n",
    "        if T <= Tst[i+1] :\n",
    "            return den*(Kst[i] + (T - Tst[i])/(Tst[i+1] - Tst[i])*(Kst[i+1] - Kst[i]))\n",
    "    return den*Kst[-1]"
   ]
  },
  {
   "cell_type": "code",
   "execution_count": 113,
   "metadata": {},
   "outputs": [],
   "source": [
    "x[0] = x1[0]\n",
    "t[0] = t1[0]\n",
    "for i in range(dimM):\n",
    "    x[i+1] = x1[i]\n",
    "    t[i+1] = t1[i]\n",
    "for i in range(dimM-1):\n",
    "    r[i] = r1[i]\n",
    "r[dimM] = r[dimM-1] + dm/4/pi/pow(r[dimM-1], 2)/d1[dimM-1]"
   ]
  },
  {
   "cell_type": "code",
   "execution_count": 118,
   "metadata": {},
   "outputs": [],
   "source": [
    "d[0] = 3*dm/4/pi/pow(r[1], 3)\n",
    "for i in range(1, dimM):\n",
    "    d[i] = dm/2/pi/r[i]/r[i]/(r[i+1] - r[i-1])\n",
    "d[dimM] = 0.\n",
    "\n",
    "for i in range(0, dimM+1):\n",
    "    e[i] = dm*x[i]*Etot(d[i], t[i], x[i], 1 - x[i] -Z, Z)\n",
    "    p[i] = Pressure(d[i], t[i], x[i], 1 - x[i] -Z, Z)\n",
    "    k[i] = kappa(d[i], t[i], x[i], 1 - x[i] -Z, Z)\n",
    "    \n",
    "l[0] = 0.\n",
    "for i in range(1, dimM+1):\n",
    "    l[i] += e[i]   "
   ]
  },
  {
   "cell_type": "markdown",
   "metadata": {},
   "source": [
    "Условие гидростатики"
   ]
  },
  {
   "cell_type": "code",
   "execution_count": 126,
   "metadata": {},
   "outputs": [],
   "source": [
    "A = kB/m_prot\n",
    "for i in range(1, dimM):\n",
    "    mu = MU(x[i], 1 - x[i] -Z, Z)\n",
    "    a[i] = -G*M*i/dimM*d[i]*(r[i+1] - r[i])/pow(r[i], 2)\n",
    "#     da[i] = (d[i] - d[i-1])*t[i] + d[i]*(t[i] - t[i-1]) - a[i]\n",
    "    da[i] = (p[i+1] - p[i-1])/2 - a[i]"
   ]
  },
  {
   "cell_type": "markdown",
   "metadata": {},
   "source": [
    "Условие переноса энергии"
   ]
  },
  {
   "cell_type": "code",
   "execution_count": 133,
   "metadata": {
    "scrolled": true
   },
   "outputs": [],
   "source": [
    "for i in range(1, dimM):\n",
    "    rad = -3/16*k[i]*d[i]*l[i+1]*(r[i] - r[i-1])/sigma/pow(t[i], 3)/4/pi/pow(r[i], 2)\n",
    "    mu = MU(x[i], 1 - x[i] -Z, Z)\n",
    "    conv = -0.4*mu/A*G*i/dimM*M/pow(r[i], 2)*(r[i] - r[i-1])\n",
    "    if abs(rad) > abs(conv):\n",
    "        b[i] = rad\n",
    "    else:\n",
    "        b[i] = conv\n",
    "    db[i] = (t[i+1] -t[i-1])/2 -b[i]"
   ]
  },
  {
   "cell_type": "code",
   "execution_count": 134,
   "metadata": {},
   "outputs": [
    {
     "data": {
      "text/plain": [
       "array([-0.56559166,  1.49882255,  0.13508319,  0.02217305, -0.01740574,\n",
       "       -0.05655837, -0.07626369, -0.10252174, -0.09407193, -0.12187078,\n",
       "       -0.09958513, -0.14479681, -0.10707176, -0.1580717 , -0.14899946,\n",
       "       -0.15529813, -0.16228201, -0.1835764 , -0.16903565, -0.17016937,\n",
       "       -0.17249306, -0.20991556, -0.15824225, -0.21722476, -0.18400193,\n",
       "       -0.18823112, -0.21238835, -0.21522217, -0.21727983, -0.20009106,\n",
       "       -0.22404918, -0.2277014 , -0.21123645, -0.25668209, -0.22074924,\n",
       "       -0.24727321, -0.25249665, -0.23519555, -0.27995311, -0.24111837,\n",
       "       -0.2664989 , -0.27046276, -0.27471769, -0.27927961, -0.28416257,\n",
       "       -0.28937882, -0.27359582, -0.32202518, -0.2846456 , -0.30822846,\n",
       "       -0.30897375, -0.32963786, -0.28926398, -0.31267241, -0.31490152,\n",
       "       -0.29542627, -0.34233026, -0.3243683 , -0.32808363, -0.33218728,\n",
       "       -0.31511083, -0.36262128, -0.34713908, -0.3316444 , -0.37920294,\n",
       "       -0.3653168 , -0.34935919, -0.39076814, -0.37039829, -0.34972041,\n",
       "       -0.3905263 , -0.35105831, -0.39264467, -0.3745043 , -0.35617513,\n",
       "       -0.39874568, -0.38209501, -0.38539422, -0.36917503, -0.41263784,\n",
       "       -0.39811622, -0.4031319 , -0.40856754, -0.41441381, -0.42001767,\n",
       "       -0.4221988 , -0.42121352, -0.42029409, -0.41987487, -0.41995253,\n",
       "       -0.43717412, -0.40311004, -0.4394715 , -0.40657882, -0.44376161,\n",
       "       -0.41213734, -0.44998849, -0.43704122, -0.44141909, -0.44629085,\n",
       "       -0.45164314, -0.45746139, -0.47847045, -0.45207895, -0.48014787,\n",
       "       -0.4437766 , -0.46914367, -0.44898768, -0.44452423, -0.4406789 ,\n",
       "       -0.45184862, -0.41873051, -0.44703491, -0.41494327, -0.44473515,\n",
       "       -0.42931116, -0.42960476, -0.4445187 , -0.41694973, -0.44820327,\n",
       "       -0.43676856, -0.44030579, -0.44452169, -0.44939978, -0.46776705,\n",
       "       -0.46083647, -0.46776818, -0.47534285, -0.48353011, -0.50380262,\n",
       "       -0.5015784 , -0.51173784, -0.53282059, -0.53363236, -0.53885411,\n",
       "       -0.53225005, -0.53034338, -0.50939388, -0.50885209, -0.48928569,\n",
       "       -0.48067165, -0.47311867, -0.476546  , -0.47021387, -0.4451038 ,\n",
       "       -0.47110578, -0.43871084, -0.45722219, -0.45630383, -0.44753449,\n",
       "       -0.44970608, -0.46215488, -0.46632508, -0.46362598, -0.47940915,\n",
       "       -0.48000968, -0.49810948, -0.50937809, -0.52218402, -0.53651763,\n",
       "       -0.54611989, -0.56951967, -0.59290367, -0.60176988, -0.63150825,\n",
       "       -0.63042854, -0.61045041, -0.58360042, -0.56272296, -0.53853335,\n",
       "       -0.51143535, -0.49146425, -0.48331096, -0.45812717, -0.45062452,\n",
       "       -0.44121972, -0.43531043, -0.43758538, -0.43934137, -0.44205608,\n",
       "       -0.4618999 , -0.47563999, -0.50564741, -0.53477159, -0.55163395,\n",
       "       -0.53331218, -0.49627238, -0.46619324, -0.44510954, -0.43563327,\n",
       "       -0.44660514, -0.44278724, -0.4012588 , -0.33254213, -0.27076066,\n",
       "       -0.21450329, -0.15222867, -0.08358888, -0.16580692])"
      ]
     },
     "execution_count": 134,
     "metadata": {},
     "output_type": "execute_result"
    }
   ],
   "source": [
    "\n",
    "db[1:]/b[1:]"
   ]
  },
  {
   "cell_type": "code",
   "execution_count": 135,
   "metadata": {},
   "outputs": [
    {
     "data": {
      "text/plain": [
       "(2718.252863920211, 34.14039871840519)"
      ]
     },
     "execution_count": 135,
     "metadata": {},
     "output_type": "execute_result"
    }
   ],
   "source": [
    "sa = 0\n",
    "sb = 0\n",
    "for i in range(1, dimM):\n",
    "    sa += pow(da[i]/a[i], 2)\n",
    "    sb += pow(db[i]/b[i], 2)\n",
    "sa, sb    "
   ]
  },
  {
   "cell_type": "code",
   "execution_count": 136,
   "metadata": {},
   "outputs": [
    {
     "ename": "ModuleNotFoundError",
     "evalue": "No module named 'SSM18'",
     "output_type": "error",
     "traceback": [
      "\u001b[1;31m---------------------------------------------------------------------------\u001b[0m",
      "\u001b[1;31mModuleNotFoundError\u001b[0m                       Traceback (most recent call last)",
      "\u001b[1;32m<ipython-input-136-4ecd30e6d5b2>\u001b[0m in \u001b[0;36m<module>\u001b[1;34m\u001b[0m\n\u001b[1;32m----> 1\u001b[1;33m \u001b[1;32mimport\u001b[0m \u001b[0mSSM18\u001b[0m\u001b[1;33m\u001b[0m\u001b[1;33m\u001b[0m\u001b[0m\n\u001b[0m",
      "\u001b[1;31mModuleNotFoundError\u001b[0m: No module named 'SSM18'"
     ]
    }
   ],
   "source": [
    "import SSM18"
   ]
  },
  {
   "cell_type": "code",
   "execution_count": null,
   "metadata": {},
   "outputs": [],
   "source": []
  }
 ],
 "metadata": {
  "kernelspec": {
   "display_name": "Python 3",
   "language": "python",
   "name": "python3"
  },
  "language_info": {
   "codemirror_mode": {
    "name": "ipython",
    "version": 3
   },
   "file_extension": ".py",
   "mimetype": "text/x-python",
   "name": "python",
   "nbconvert_exporter": "python",
   "pygments_lexer": "ipython3",
   "version": "3.7.4"
  }
 },
 "nbformat": 4,
 "nbformat_minor": 2
}
