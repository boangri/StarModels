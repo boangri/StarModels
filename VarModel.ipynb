{
 "cells": [
  {
   "cell_type": "markdown",
   "metadata": {},
   "source": [
    "Вариационная модель звезды\n",
    "\n",
    "Как параметр задана масса звезды M.\n",
    "Звезда разбита на N сферических слоев.\n",
    "Также задано распределение водорода по слоям.\n",
    "Имеется N+1 точка - расстояния от центра до i-го слоя.\n",
    "Неизвестными являются массивы расстояний r[i] и температур t[i]\n",
    "\n",
    "Date of creation: 2.07.2020\n",
    "\n",
    "Last updated: 3.07.2020"
   ]
  },
  {
   "cell_type": "code",
   "execution_count": 1,
   "metadata": {},
   "outputs": [],
   "source": [
    "import math\n",
    "import numpy as np\n",
    "import pandas as pd\n",
    "\n",
    "%matplotlib inline\n",
    "\n",
    "import matplotlib as mpl\n",
    "import matplotlib.pyplot as plt"
   ]
  },
  {
   "cell_type": "code",
   "execution_count": 2,
   "metadata": {},
   "outputs": [
    {
     "name": "stdout",
     "output_type": "stream",
     "text": [
      "Physics version 1.2\n"
     ]
    }
   ],
   "source": [
    "import physics as ph"
   ]
  },
  {
   "cell_type": "code",
   "execution_count": 3,
   "metadata": {},
   "outputs": [
    {
     "name": "stdout",
     "output_type": "stream",
     "text": [
      "SSM18 version 1.7 4.07.2020\n"
     ]
    }
   ],
   "source": [
    "from Sun import SSM18 as s"
   ]
  },
  {
   "cell_type": "code",
   "execution_count": 29,
   "metadata": {},
   "outputs": [],
   "source": [
    "pi = math.pi\n",
    "K = 6 # number of interpolated layers\n",
    "dimM = 17*K+1 # N+1 - число точек модели (сферических слоев + 1)\n",
    "Z = s.Z"
   ]
  },
  {
   "cell_type": "code",
   "execution_count": 31,
   "metadata": {},
   "outputs": [
    {
     "data": {
      "text/html": [
       "<div>\n",
       "<style scoped>\n",
       "    .dataframe tbody tr th:only-of-type {\n",
       "        vertical-align: middle;\n",
       "    }\n",
       "\n",
       "    .dataframe tbody tr th {\n",
       "        vertical-align: top;\n",
       "    }\n",
       "\n",
       "    .dataframe thead th {\n",
       "        text-align: right;\n",
       "    }\n",
       "</style>\n",
       "<table border=\"1\" class=\"dataframe\">\n",
       "  <thead>\n",
       "    <tr style=\"text-align: right;\">\n",
       "      <th></th>\n",
       "      <th>Mass</th>\n",
       "      <th>Radius</th>\n",
       "      <th>Temperature</th>\n",
       "      <th>Density</th>\n",
       "      <th>Luminosity</th>\n",
       "      <th>Hydrogen</th>\n",
       "      <th>Opacity</th>\n",
       "      <th>Pressure</th>\n",
       "    </tr>\n",
       "  </thead>\n",
       "  <tbody>\n",
       "    <tr>\n",
       "      <td>0</td>\n",
       "      <td>0.000000</td>\n",
       "      <td>0.000000</td>\n",
       "      <td>1.550000e+07</td>\n",
       "      <td>1.563000e+02</td>\n",
       "      <td>0.000000</td>\n",
       "      <td>0.355000</td>\n",
       "      <td>1.100000</td>\n",
       "      <td>2.381543e+17</td>\n",
       "    </tr>\n",
       "    <tr>\n",
       "      <td>1</td>\n",
       "      <td>0.000294</td>\n",
       "      <td>0.007667</td>\n",
       "      <td>1.545339e+07</td>\n",
       "      <td>1.556778e+02</td>\n",
       "      <td>0.000366</td>\n",
       "      <td>0.360233</td>\n",
       "      <td>1.112183</td>\n",
       "      <td>2.377943e+17</td>\n",
       "    </tr>\n",
       "    <tr>\n",
       "      <td>2</td>\n",
       "      <td>0.002339</td>\n",
       "      <td>0.015333</td>\n",
       "      <td>1.537875e+07</td>\n",
       "      <td>1.538111e+02</td>\n",
       "      <td>0.002926</td>\n",
       "      <td>0.367507</td>\n",
       "      <td>1.126160</td>\n",
       "      <td>2.355867e+17</td>\n",
       "    </tr>\n",
       "    <tr>\n",
       "      <td>3</td>\n",
       "      <td>0.007800</td>\n",
       "      <td>0.023000</td>\n",
       "      <td>1.527610e+07</td>\n",
       "      <td>1.507000e+02</td>\n",
       "      <td>0.009875</td>\n",
       "      <td>0.376820</td>\n",
       "      <td>1.141930</td>\n",
       "      <td>2.314970e+17</td>\n",
       "    </tr>\n",
       "    <tr>\n",
       "      <td>4</td>\n",
       "      <td>0.018173</td>\n",
       "      <td>0.030667</td>\n",
       "      <td>1.514542e+07</td>\n",
       "      <td>1.463444e+02</td>\n",
       "      <td>0.023407</td>\n",
       "      <td>0.388173</td>\n",
       "      <td>1.159493</td>\n",
       "      <td>2.254844e+17</td>\n",
       "    </tr>\n",
       "    <tr>\n",
       "      <td>...</td>\n",
       "      <td>...</td>\n",
       "      <td>...</td>\n",
       "      <td>...</td>\n",
       "      <td>...</td>\n",
       "      <td>...</td>\n",
       "      <td>...</td>\n",
       "      <td>...</td>\n",
       "      <td>...</td>\n",
       "    </tr>\n",
       "    <tr>\n",
       "      <td>98</td>\n",
       "      <td>0.998718</td>\n",
       "      <td>0.899333</td>\n",
       "      <td>5.871435e+05</td>\n",
       "      <td>2.296116e-02</td>\n",
       "      <td>1.000000</td>\n",
       "      <td>0.732000</td>\n",
       "      <td>6.988209</td>\n",
       "      <td>1.850646e+12</td>\n",
       "    </tr>\n",
       "    <tr>\n",
       "      <td>99</td>\n",
       "      <td>0.999707</td>\n",
       "      <td>0.924500</td>\n",
       "      <td>4.237614e+05</td>\n",
       "      <td>1.333134e-02</td>\n",
       "      <td>1.000000</td>\n",
       "      <td>0.732000</td>\n",
       "      <td>5.399235</td>\n",
       "      <td>7.754980e+11</td>\n",
       "    </tr>\n",
       "    <tr>\n",
       "      <td>100</td>\n",
       "      <td>1.000000</td>\n",
       "      <td>0.949667</td>\n",
       "      <td>2.724102e+05</td>\n",
       "      <td>6.294591e-03</td>\n",
       "      <td>1.000000</td>\n",
       "      <td>0.732000</td>\n",
       "      <td>3.754875</td>\n",
       "      <td>2.353835e+11</td>\n",
       "    </tr>\n",
       "    <tr>\n",
       "      <td>101</td>\n",
       "      <td>1.000000</td>\n",
       "      <td>0.974833</td>\n",
       "      <td>1.330897e+05</td>\n",
       "      <td>1.850903e-03</td>\n",
       "      <td>1.000000</td>\n",
       "      <td>0.732000</td>\n",
       "      <td>2.055130</td>\n",
       "      <td>3.381530e+10</td>\n",
       "    </tr>\n",
       "    <tr>\n",
       "      <td>102</td>\n",
       "      <td>1.000000</td>\n",
       "      <td>1.000000</td>\n",
       "      <td>5.800000e+03</td>\n",
       "      <td>2.800000e-07</td>\n",
       "      <td>1.000000</td>\n",
       "      <td>0.732000</td>\n",
       "      <td>0.300000</td>\n",
       "      <td>2.229314e+05</td>\n",
       "    </tr>\n",
       "  </tbody>\n",
       "</table>\n",
       "<p>103 rows × 8 columns</p>\n",
       "</div>"
      ],
      "text/plain": [
       "         Mass    Radius   Temperature       Density  Luminosity  Hydrogen  \\\n",
       "0    0.000000  0.000000  1.550000e+07  1.563000e+02    0.000000  0.355000   \n",
       "1    0.000294  0.007667  1.545339e+07  1.556778e+02    0.000366  0.360233   \n",
       "2    0.002339  0.015333  1.537875e+07  1.538111e+02    0.002926  0.367507   \n",
       "3    0.007800  0.023000  1.527610e+07  1.507000e+02    0.009875  0.376820   \n",
       "4    0.018173  0.030667  1.514542e+07  1.463444e+02    0.023407  0.388173   \n",
       "..        ...       ...           ...           ...         ...       ...   \n",
       "98   0.998718  0.899333  5.871435e+05  2.296116e-02    1.000000  0.732000   \n",
       "99   0.999707  0.924500  4.237614e+05  1.333134e-02    1.000000  0.732000   \n",
       "100  1.000000  0.949667  2.724102e+05  6.294591e-03    1.000000  0.732000   \n",
       "101  1.000000  0.974833  1.330897e+05  1.850903e-03    1.000000  0.732000   \n",
       "102  1.000000  1.000000  5.800000e+03  2.800000e-07    1.000000  0.732000   \n",
       "\n",
       "      Opacity      Pressure  \n",
       "0    1.100000  2.381543e+17  \n",
       "1    1.112183  2.377943e+17  \n",
       "2    1.126160  2.355867e+17  \n",
       "3    1.141930  2.314970e+17  \n",
       "4    1.159493  2.254844e+17  \n",
       "..        ...           ...  \n",
       "98   6.988209  1.850646e+12  \n",
       "99   5.399235  7.754980e+11  \n",
       "100  3.754875  2.353835e+11  \n",
       "101  2.055130  3.381530e+10  \n",
       "102  0.300000  2.229314e+05  \n",
       "\n",
       "[103 rows x 8 columns]"
      ]
     },
     "execution_count": 31,
     "metadata": {},
     "output_type": "execute_result"
    }
   ],
   "source": [
    "df1 = s.load_interpolated_data(K)\n",
    "df1"
   ]
  },
  {
   "cell_type": "code",
   "execution_count": 32,
   "metadata": {},
   "outputs": [],
   "source": [
    "x = df1['Hydrogen'].values\n",
    "r = df1['Radius'].values*s.R\n",
    "m = df1['Mass'].values*s.M\n",
    "t = df1['Temperature'].values\n",
    "# The rest may be computed from the above variables.\n",
    "d = df1['Density'].values\n",
    "l = df1['Luminosity'].values*s.L\n",
    "p = df1['Pressure'].values\n",
    "k = df1['Opacity'].values"
   ]
  },
  {
   "cell_type": "code",
   "execution_count": 7,
   "metadata": {},
   "outputs": [],
   "source": [
    "d1 = np.zeros(dimM)\n",
    "l1 = np.zeros(dimM)\n",
    "p1 = np.zeros(dimM)\n",
    "k1 = np.zeros(dimM)"
   ]
  },
  {
   "cell_type": "code",
   "execution_count": 9,
   "metadata": {},
   "outputs": [],
   "source": [
    "\n",
    "# d[0] = 3*m[1]/4/pi/pow(r[1], 3)\n",
    "# d[1] = 0.5*d[0] + 0.5*(m[2] - m[1])/4/pi/pow((r[1] + r[2])/2, 2)/(r[2] - r[1])\n",
    "# for i in range(2, dimM-1):\n",
    "#     d[i] = ((m[i+1] - m[i])/pow(r[i], 2)/(r[i+1] - r[i]) + (m[i] - m[i-1])/pow(r[i], 2)/(r[i] - r[i-1]))/8/pi\n",
    "# d[dimM-1] = 0.\n",
    "# for i in range(dimM):\n",
    "#     p[i] = ph.Pressure(d[i], t[i], x[i], 1 - Z - x[i], Z)\n",
    "#     k[i] = ph.opacity(d[i], t[i], x[i], 1 - Z - x[i], Z)\n",
    "# l[0] = 0.\n",
    "# for i in range(1, dimM):\n",
    "#     l[i] = l[i-1] + (m[i] - m[i-1])*ph.Etot(d[i], t[i], x[i], 1 - Z - x[i], Z) # /0.5879669006862714"
   ]
  },
  {
   "cell_type": "code",
   "execution_count": 10,
   "metadata": {},
   "outputs": [],
   "source": [
    "e = np.zeros(dimM) # энерговыделения\n",
    "a = np.zeros(dimM) # градиент давления\n",
    "da = np.zeros(dimM) # несоответствие градиента давления\n",
    "b = np.zeros(dimM) # градиент температуры\n",
    "db = np.zeros(dimM) # несоответствие градиента температуры "
   ]
  },
  {
   "cell_type": "markdown",
   "metadata": {},
   "source": [
    "Уравнение массы"
   ]
  },
  {
   "cell_type": "code",
   "execution_count": 40,
   "metadata": {},
   "outputs": [
    {
     "name": "stdout",
     "output_type": "stream",
     "text": [
      "1 155.67777777777778 0.00029444353140302377 23.74483095582796\n",
      "2 153.81111111111113 0.002339105219055235 23.701088227577827\n",
      "3 150.70000000000002 0.007799639053765481 23.68448276188579\n",
      "4 146.34444444444446 0.018172570695461902 23.670408710294925\n",
      "5 140.74444444444444 0.034700733307751634 4.88037401269539\n",
      "6 133.9 0.0099 15.769462358885077\n",
      "7 129.46789027833805 0.013152615301869033 0.00012867386073409253\n",
      "8 125.08862444534086 0.017010851149657124 3.83654143302079e-05\n",
      "9 120.76220250100846 0.021474707543364266 3.2998184218186744e-05\n",
      "10 116.48862444534085 0.02654418448299046 5.3783032767435e-05\n",
      "11 112.26789027833803 0.0322192819685357 8.806985276256332e-05\n"
     ]
    }
   ],
   "source": [
    "for i in range(1, 2*K):\n",
    "    d1[i] = 3/4/pi*(m[i+1] - m[i-1])/(pow(r[i+1], 3) - pow(r[i-1], 3))\n",
    "    print(i, d[i], m[i]/s.M, pow((d1[i] - d[i])/d[i], 2))"
   ]
  },
  {
   "cell_type": "markdown",
   "metadata": {},
   "source": [
    "Условие гидростатики"
   ]
  },
  {
   "cell_type": "code",
   "execution_count": 8,
   "metadata": {},
   "outputs": [],
   "source": [
    "for i in range(1, dimM-1):\n",
    "    mu = ph.MU(x[i], 1 - x[i] -Z, Z)\n",
    "    a[i] = -ph.G*m[i]*d[i]/pow(r[i], 2)\n",
    "    da[i] = (p[i+1] - p[i])/2/(r[i+1] - r[i]) + (p[i] - p[i-1])/2/(r[i] - r[i-1]) - a[i]"
   ]
  },
  {
   "cell_type": "code",
   "execution_count": 11,
   "metadata": {},
   "outputs": [
    {
     "data": {
      "text/plain": [
       "array([-0.70247055, -0.72187298, -0.73796734, ..., -0.06517688,\n",
       "       -0.05616589,  0.0228627 ])"
      ]
     },
     "execution_count": 11,
     "metadata": {},
     "output_type": "execute_result"
    }
   ],
   "source": [
    "da[10:dimM-1]/a[10:dimM-1]"
   ]
  },
  {
   "cell_type": "markdown",
   "metadata": {},
   "source": [
    "Условие переноса энергии"
   ]
  },
  {
   "cell_type": "code",
   "execution_count": 12,
   "metadata": {
    "scrolled": true
   },
   "outputs": [],
   "source": [
    "for i in range(1, dimM-1):\n",
    "    rad = -3/16*k[i]*d[i]*l[i]/ph.sigma/pow(t[i], 3)/4/pi/pow(r[i], 2)\n",
    "    mu = ph.MU(x[i], 1 - x[i] -Z, Z)\n",
    "    conv = -0.4*mu/ph.kB*ph.m_prot*ph.G*m[i]/pow(r[i], 2)\n",
    "    if abs(rad) > abs(conv):\n",
    "        b[i] = rad\n",
    "    else:\n",
    "        b[i] = conv\n",
    "    db[i] = (t[i+1] - t[i])/2/(r[i+1] - r[i]) + (t[i] - t[i-1])/2/(r[i] - r[i-1]) - b[i]"
   ]
  },
  {
   "cell_type": "code",
   "execution_count": 13,
   "metadata": {},
   "outputs": [
    {
     "data": {
      "text/plain": [
       "array([-1.00566545, -1.01284182, -1.02176913, ..., -0.88876934,\n",
       "       -0.91287992, -0.94092889])"
      ]
     },
     "execution_count": 13,
     "metadata": {},
     "output_type": "execute_result"
    }
   ],
   "source": [
    "\n",
    "db[1:dimM-1]/b[1:dimM-1]"
   ]
  },
  {
   "cell_type": "code",
   "execution_count": 14,
   "metadata": {},
   "outputs": [
    {
     "data": {
      "text/plain": [
       "(40.84838523689571, 187.6740955020942)"
      ]
     },
     "execution_count": 14,
     "metadata": {},
     "output_type": "execute_result"
    }
   ],
   "source": [
    "sa = 0\n",
    "sb = 0\n",
    "for i in range(1, dimM-1):\n",
    "    sa += pow(da[i]/a[i], 2)\n",
    "    sb += pow(db[i]/b[i], 2)\n",
    "sa, sb    "
   ]
  },
  {
   "cell_type": "code",
   "execution_count": 15,
   "metadata": {},
   "outputs": [
    {
     "data": {
      "text/plain": [
       "1021"
      ]
     },
     "execution_count": 15,
     "metadata": {},
     "output_type": "execute_result"
    }
   ],
   "source": [
    "dimM"
   ]
  },
  {
   "cell_type": "code",
   "execution_count": 33,
   "metadata": {
    "scrolled": false
   },
   "outputs": [
    {
     "data": {
      "image/png": "[encoded data removed]",
      "text/plain": [
       "<Figure size 1152x720 with 1 Axes>"
      ]
     },
     "metadata": {
      "needs_background": "light"
     },
     "output_type": "display_data"
    }
   ],
   "source": [
    "r1 = r/s.R\n",
    "plt.figure(figsize=(16, 10))\n",
    "ax = plt.axes()\n",
    "plt.plot(r1, m/s.M, color='red', label='Масса')\n",
    "plt.plot(r1, t/t[0], color='cyan', label='Температура')\n",
    "# plt.plot(r1[1:], d1[1:]/d[0], color='green', label='Плотность')\n",
    "plt.plot(r1, d/d[0], '--', color='green', label='Плотность')\n",
    "plt.plot(r1, l/s.L, color='blue', label='Светимость')\n",
    "plt.plot(r1, x, color='gray', label='Водород')\n",
    "# plt.plot(r1, p1/p1[0], color='black', marker='.', label='Давление')\n",
    "# plt.xlim(-0.1,0.1)\n",
    "# plt.ylim(-0.1, 0.1)\n",
    "plt.xlabel('R/R_sol')\n",
    "plt.ylabel('')\n",
    "plt.title('Стандартная модель Солнца - зависимость от радиуса')\n",
    "ax.grid(b=True, which='both')\n",
    "\n",
    "ax.legend(fancybox=True, framealpha=1, shadow=True, borderpad=1);"
   ]
  },
  {
   "cell_type": "code",
   "execution_count": 12,
   "metadata": {},
   "outputs": [
    {
     "data": {
      "image/png": "[encoded data removed]",
      "text/plain": [
       "<Figure size 864x576 with 1 Axes>"
      ]
     },
     "metadata": {
      "needs_background": "light"
     },
     "output_type": "display_data"
    }
   ],
   "source": [
    "plt.figure(figsize=(12, 8))\n",
    "ax = plt.axes()\n",
    "plt.plot(t, k, color='black', label='Opacity')\n",
    "# plt.plot(r1, myk, color='red', marker='.', label='Непроз my')\n",
    "#plt.xlim(6, 7.25)\n",
    "#plt.ylim(0, 20)\n",
    "plt.xlabel('T')\n",
    "plt.ylabel('Opacity sm2/g')\n",
    "plt.title('Opacity vs Temperature')\n",
    "ax.grid(b=True, which='both')\n",
    "ax.legend(fancybox=True, framealpha=1, shadow=True, borderpad=1);"
   ]
  },
  {
   "cell_type": "code",
   "execution_count": 35,
   "metadata": {},
   "outputs": [
    {
     "name": "stdout",
     "output_type": "stream",
     "text": [
      "0 156.3\n",
      "1 155.67777777777778\n",
      "2 153.81111111111113\n",
      "3 150.70000000000002\n",
      "4 146.34444444444446\n",
      "5 140.74444444444444\n",
      "6 133.9\n",
      "7 129.46789027833805\n",
      "8 125.08862444534086\n",
      "9 120.76220250100846\n",
      "10 116.48862444534085\n",
      "11 112.26789027833803\n"
     ]
    }
   ],
   "source": [
    "for i in range(2*K):\n",
    "    print(i, d[i])"
   ]
  },
  {
   "cell_type": "code",
   "execution_count": null,
   "metadata": {},
   "outputs": [],
   "source": []
  }
 ],
 "metadata": {
  "kernelspec": {
   "display_name": "Python 3",
   "language": "python",
   "name": "python3"
  },
  "language_info": {
   "codemirror_mode": {
    "name": "ipython",
    "version": 3
   },
   "file_extension": ".py",
   "mimetype": "text/x-python",
   "name": "python",
   "nbconvert_exporter": "python",
   "pygments_lexer": "ipython3",
   "version": "3.7.4"
  }
 },
 "nbformat": 4,
 "nbformat_minor": 2
}
