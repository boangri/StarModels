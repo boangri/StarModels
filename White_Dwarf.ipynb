{
 "cells": [
  {
   "cell_type": "markdown",
   "metadata": {
    "colab_type": "text",
    "id": "nL_MyXApIarc"
   },
   "source": [
    "# Модель белого карлика.\n",
    "\n",
    "Дата создания: 06.06.2020\n",
    "\n",
    "Последнее изменение: 10.06.2020\n",
    "\n",
    "## Постановка задачи:\n",
    "Дано: плотность в центре звезды.\n",
    "Найти: зависимость плотности и давления от расстояния до центра, полную массу M и радиус R звезды.\n",
    "Считать газ электронов вырожденным и нерелятивистским."
   ]
  },
  {
   "cell_type": "code",
   "execution_count": 1,
   "metadata": {
    "colab": {},
    "colab_type": "code",
    "id": "brr6o-T6JAGL"
   },
   "outputs": [],
   "source": [
    "import math\n",
    "import numpy as np\n",
    "\n",
    "%matplotlib inline\n",
    "\n",
    "import matplotlib as mpl\n",
    "import matplotlib.pyplot as plt"
   ]
  },
  {
   "cell_type": "markdown",
   "metadata": {
    "colab_type": "text",
    "id": "mgB8Fsz90S1X"
   },
   "source": [
    "**Модель нерелятивистского вырожденного электронного газа в гелии** (мю = 2)\n",
    "\n",
    "Параметр - плотность в центре (г/см3)\n",
    "\n",
    "Возвращается список:\n",
    "\n",
    "N - число точек,\n",
    "\n",
    "M - масса звезды в солнечных массах,\n",
    "\n",
    "R - радиус звезды в солнечных радиусах,\n",
    "\n",
    "r[N] - значения расстояний от центра,\n",
    "\n",
    "den[N] - значения плотности для этих расстояний,\n",
    "\n",
    "ratio - отношение плотности в центре к средней плотности,\n",
    "\n",
    "q - критерий применимости модели (должно быть число много меньше 1)."
   ]
  },
  {
   "cell_type": "code",
   "execution_count": 0,
   "metadata": {
    "colab": {},
    "colab_type": "code",
    "id": "7QzIWAvbcyU_"
   },
   "outputs": [],
   "source": [
    "def model(den0, step=1e5) :\n",
    "  h = 1.054E-27 # постоянная Планка\n",
    "  c = 3e10 # скорость света\n",
    "  f = 6.67E-8 # постоянная гравитации\n",
    "  m_prot = 1.67E-24 # масса протона\n",
    "  m_elec = 9.11E-28 # масса электрона\n",
    "  pi = math.pi # 3.14...\n",
    "  mu = 2. # молекулярный вес в случае гелия - 2 электрона на 4 нуклона. \n",
    "  K = pow(3*(pi**2), 2/3)*(h**2)/5/m_elec/pow(mu*m_prot, 5/3)\n",
    "  a = 3/5/K\n",
    "  M_sol = 2e33 # масса Солнца\n",
    "  R_sol = 7e10 # радиус Солнца\n",
    "\n",
    "  # длины массивов данных\n",
    "  dim = 20000\n",
    "  # шаг по радиусу\n",
    "  dr = step\n",
    "  # расстояние до центра\n",
    "  r = np.zeros(dim, dtype='float64')\n",
    "  # плотность\n",
    "  den = np.zeros(dim, dtype='float64')\n",
    "  # ускорение свободного падения\n",
    "  g = np.zeros(dim, dtype='float64')\n",
    "  # масса внутри сферы радиуса r\n",
    "  m = np.zeros(dim, dtype='float64')\n",
    "  # давление\n",
    "  pressure = np.zeros(dim, dtype='float64')\n",
    "\n",
    "  r[0] = 0.\n",
    "  den[0] = den0\n",
    "  g[0] = 0.\n",
    "  # g1 - производная по радиусу\n",
    "  g1 = 4*pi/3*f*den0\n",
    "  g2 = 0.\n",
    "  # den1, den2 - 1-я и 2-я производные плотности по радиусу.\n",
    "  den1 = 0.\n",
    "  den2 = 0. - a*g1*pow(den0, 1/3)\n",
    "  pressure[0] = K*pow(den0, 5/3)\n",
    "\n",
    "  # Проверяем что газ нерелятивистский, q должно быть много меньше 1\n",
    "  q0 = mu*m_prot*pressure[0]/m_elec/c/c/den0\n",
    "\n",
    "  for n in range(dim - 1) :\n",
    "    r[n+1] = r[n] + dr\n",
    "    g[n+1] = g[n] + g1*dr #+ 0.5*g2*dr*dr # ряд Тейлора\n",
    "    D1 = den1*dr\n",
    "    D2 = 0.5*den2*dr*dr\n",
    "    # Проверяем что газ нерелятивистский, q должно быть много меньше 1\n",
    "    q = mu*m_prot*pressure[n]/m_elec/c/c/den[n]\n",
    "    # print(n, den[n], D1, D2, q)\n",
    "    den[n+1] = den[n] + den1*dr + 0.5*den2*dr*dr # ряд Тейлора\n",
    "    if den[n+1] < 0 : \n",
    "      break\n",
    "    den1 = 0. - a*g[n+1]*pow(den[n+1], 1/3)\n",
    "    g1 = 4*pi*f*den[n+1] - 2*g[n+1]/r[n+1]\n",
    "    #g2 = 4*pi*f*den1 - 2*g[n+1] - 2*r[n+1]*g1\n",
    "    den2 = 0. - a*(g1*pow(den[n+1], 1/3) + 1/3*g[n+1]*pow(den[n+1], -2/3)*den1)\n",
    "    m[n+1] = m[n] + 4*pi*r[n]*r[n]*den[n]*dr\n",
    "    pressure[n+1] = K*pow(den[n+1], 5/3) # уравнение состояния вырожденного газа\n",
    "    M = m[n]/M_sol\n",
    "    R = r[n]/R_sol\n",
    "    N = n\n",
    "\n",
    "  if (N == dim - 2) :\n",
    "    print (\"Error, increase dim!\")\n",
    "    return\n",
    "  den_avg = 3*m[n]/4/pi/pow(r[n], 3)\n",
    "  return (N, M, R, r[:N], den[:N], den0/den_avg, q0)\n",
    "  "
   ]
  },
  {
   "cell_type": "code",
   "execution_count": 0,
   "metadata": {
    "colab": {
     "base_uri": "https://localhost:8080/",
     "height": 34
    },
    "colab_type": "code",
    "id": "aFmzpXuYerMp",
    "outputId": "c3647b47-2455-4911-daf7-261da514e426"
   },
   "outputs": [
    {
     "name": "stdout",
     "output_type": "stream",
     "text": [
      "M=0.1536 R=0.02337 N=1636 ratio=5.983 q=0.027\n"
     ]
    }
   ],
   "source": [
    "N, M, R, r, den, ratio, q = model(1e5)\n",
    "print('M=%.4f R=%.5f N=%d ratio=%.3f q=%.3f' % (M, R, N, ratio, q))"
   ]
  },
  {
   "cell_type": "code",
   "execution_count": 0,
   "metadata": {
    "colab": {
     "base_uri": "https://localhost:8080/",
     "height": 68
    },
    "colab_type": "code",
    "id": "oN3msiZE-jXh",
    "outputId": "b75f966a-d240-4f47-c8ab-28d1d1e7221b"
   },
   "outputs": [
    {
     "name": "stdout",
     "output_type": "stream",
     "text": [
      "M=0.4859 R=0.01594 (0.00716) N=11160 ratio=5.993 q=0.127 step=1.0 km\n",
      "M=0.4855 R=0.01591 (0.00716) N=1114 ratio=5.980 q=0.127 step=10.0 km\n",
      "M=0.4816 R=0.01557 (0.00718) N=109 ratio=5.787 q=0.127 step=100.0 km\n"
     ]
    }
   ],
   "source": [
    "for step in (1e5, 1e6, 1e7) :\n",
    "  N, M, R, r, den, ratio, q = model(1e6, step)\n",
    "  print('M=%.4f R=%.5f (%.5f) N=%d ratio=%.3f q=%.3f step=%.1f km' % (M, R, m2r(M*M_sol)*R_sol, N, ratio, q, step/1e5))"
   ]
  },
  {
   "cell_type": "code",
   "execution_count": 0,
   "metadata": {
    "colab": {
     "base_uri": "https://localhost:8080/",
     "height": 276
    },
    "colab_type": "code",
    "id": "BcMf2ZMXfbHw",
    "outputId": "eba18581-d294-4217-edd8-604f705aca6e"
   },
   "outputs": [
    {
     "data": {
      "image/png": "[encoded data removed]",
      "text/plain": [
       "<Figure size 432x288 with 1 Axes>"
      ]
     },
     "metadata": {
      "needs_background": "light",
      "tags": []
     },
     "output_type": "display_data"
    }
   ],
   "source": [
    "fig = plt.figure()\n",
    "plt.plot(r/R_sol, den, '-')\n",
    "plt.show()"
   ]
  },
  {
   "cell_type": "code",
   "execution_count": 0,
   "metadata": {
    "colab": {},
    "colab_type": "code",
    "id": "gOtu_GkBbDWw"
   },
   "outputs": [],
   "source": [
    "def m2r(m) :\n",
    "  h = 1.054E-27 # постоянная Планка\n",
    "  c = 3e10 # скорость света\n",
    "  f = 6.67E-8 # постоянная гравитации\n",
    "  m_prot = 1.67E-24 # масса протона\n",
    "  m_elec = 9.11E-28 # масса электрона\n",
    "  pi = math.pi # 3.14...\n",
    "  mu = 2. # молекулярный вес в случае гелия - 2 электрона на 4 нуклона. \n",
    "  K = pow(3*(pi**2), 2/3)*(h**2)/5/m_elec/pow(mu*m_prot, 5/3)\n",
    "  M_sol = 2e33 # масса Солнца\n",
    "  R_sol = 7e10 # радиус Солнца\n",
    "  return pow(3, 7/3)*K/pow(2, 5/3)/pow(pi, 2/3)/f/R_sol/pow(M_sol, 1/3)/pow(m, 1/3)\n"
   ]
  },
  {
   "cell_type": "code",
   "execution_count": 0,
   "metadata": {
    "colab": {
     "base_uri": "https://localhost:8080/",
     "height": 744
    },
    "colab_type": "code",
    "id": "6HPVtpecgqqP",
    "outputId": "248d4439-fb86-458b-da13-d53e85453bd2"
   },
   "outputs": [
    {
     "name": "stdout",
     "output_type": "stream",
     "text": [
      "den0=100000.000000 M=0.1536 R=0.02340 ratio=5.9896 x=0.027\n",
      "den0=125892.541179 M=0.1724 R=0.02252 ratio=5.9892 x=0.032\n",
      "den0=158489.319246 M=0.1934 R=0.02167 ratio=5.9897 x=0.037\n",
      "den0=199526.231497 M=0.2170 R=0.02085 ratio=5.9899 x=0.044\n",
      "den0=251188.643151 M=0.2435 R=0.02007 ratio=5.9894 x=0.051\n",
      "den0=316227.766017 M=0.2732 R=0.01931 ratio=5.9893 x=0.059\n",
      "den0=398107.170553 M=0.3066 R=0.01858 ratio=5.9893 x=0.069\n",
      "den0=501187.233627 M=0.3440 R=0.01788 ratio=5.9890 x=0.080\n",
      "den0=630957.344480 M=0.3859 R=0.01721 ratio=5.9896 x=0.094\n",
      "den0=794328.234724 M=0.4330 R=0.01656 ratio=5.9890 x=0.109\n",
      "den0=1000000.000000 M=0.4859 R=0.01594 ratio=5.9932 x=0.127\n",
      "den0=1258925.411794 M=0.5451 R=0.01534 ratio=5.9935 x=0.149\n",
      "den0=1584893.192461 M=0.6117 R=0.01476 ratio=5.9890 x=0.173\n",
      "den0=1995262.314969 M=0.6863 R=0.01421 ratio=5.9892 x=0.202\n",
      "den0=2511886.431510 M=0.7700 R=0.01367 ratio=5.9918 x=0.235\n",
      "den0=3162277.660168 M=0.8640 R=0.01316 ratio=5.9887 x=0.275\n",
      "den0=3981071.705535 M=0.9694 R=0.01266 ratio=5.9882 x=0.320\n",
      "den0=5011872.336273 M=1.0877 R=0.01219 ratio=5.9939 x=0.373\n",
      "den0=6309573.444802 M=1.2204 R=0.01172 ratio=5.9879 x=0.435\n",
      "den0=7943282.347243 M=1.3693 R=0.01128 ratio=5.9880 x=0.507\n"
     ]
    },
    {
     "data": {
      "image/png": "[encoded data removed]",
      "text/plain": [
       "<Figure size 864x432 with 1 Axes>"
      ]
     },
     "metadata": {
      "needs_background": "light",
      "tags": []
     },
     "output_type": "display_data"
    }
   ],
   "source": [
    "dim = 20\n",
    "mm = np.zeros(dim)\n",
    "rr = np.zeros(dim)\n",
    "x = np.zeros(dim)\n",
    "y = np.zeros(dim)\n",
    "z = np.zeros(dim)\n",
    "for i in range(dim) :\n",
    "  den0 = 1e5*pow(10, 0.1*i)\n",
    "  N, mm[i], rr[i], r, den, ratio, q = model(den0)\n",
    "  print('den0=%f M=%.4f R=%.5f ratio=%.4f x=%.3f' % (den0, mm[i], rr[i], ratio, q))\n",
    "  x[i] = math.log10(mm[i])\n",
    "  y[i] = math.log10(rr[i]) \n",
    "  z[i] = math.log10(m2r(mm[i])) \n",
    "\n",
    "plt.figure(figsize=(12, 6))\n",
    "ax = plt.axes()\n",
    "plt.plot(x, y, marker='.', color='red', label='My model')\n",
    "plt.plot(x, z, marker='.', color='green', label='Theory')\n",
    "# plt.xlim(0,600)\n",
    "# plt.ylim(0, 50)\n",
    "plt.xlabel('lg(R/Rsol)')\n",
    "plt.ylabel('lg(M/Msol)')\n",
    "plt.title('dependence R of M')\n",
    "ax.grid(b=True, which='both')\n",
    "\n",
    "ax.legend(fancybox=True, framealpha=1, shadow=True, borderpad=1);"
   ]
  },
  {
   "cell_type": "markdown",
   "metadata": {
    "colab_type": "text",
    "id": "WrUKOQUE1uJc"
   },
   "source": [
    "**Модель ультрарелятивистского вырожденного электронного газа в гелии** (мю = 2)\n",
    "\n",
    "Параметр - плотность в центре (г/см3)\n",
    "\n",
    "Возвращается список:\n",
    "\n",
    "число точек,\n",
    "\n",
    "масса звезды в солнечных массах,\n",
    "\n",
    "радиус звезды в солнечных радиусах,\n",
    "\n",
    "значения расстояний от центра,\n",
    "\n",
    "значения плотности для этих расстояний,\n",
    "\n",
    "отношение плотности в центре к средней плотности."
   ]
  },
  {
   "cell_type": "code",
   "execution_count": 0,
   "metadata": {
    "colab": {},
    "colab_type": "code",
    "id": "0Cdez_At2JuE"
   },
   "outputs": [],
   "source": [
    "def model_rel(den0, step=1e5) :\n",
    "  h = 1.054E-27 # постоянная Планка\n",
    "  c = 3e10 # скорость света\n",
    "  f = 6.67E-8 # постоянная гравитации\n",
    "  m_prot = 1.67E-24 # масса протона\n",
    "  m_elec = 9.11E-28 # масса электрона\n",
    "  pi = math.pi # 3.14...\n",
    "  mu = 2. # молекулярный вес в случае гелия - 2 электрона на 4 нуклона. \n",
    "  K = pow(3*(pi**2), 2/3)*(h**2)/5/m_elec/pow(mu*m_prot, 5/3)\n",
    "  a = 3/5/K\n",
    "  K1 = pow(3*(pi**2), 1/3)/4*h*c*pow(mu*m_prot, -4/3)\n",
    "  a1 = 3/4/K1\n",
    "  M_sol = 2e33 # масса Солнца\n",
    "  R_sol = 7e10 # радиус Солнца\n",
    "\n",
    "  # длины массивов данных\n",
    "  dim = 30000\n",
    "  # шаг по радиусу\n",
    "  dr = step  \n",
    "  # расстояние до центра\n",
    "  r = np.zeros(dim, dtype='float64')\n",
    "  # плотность\n",
    "  den = np.zeros(dim, dtype='float64')\n",
    "  # ускорение свободного падения\n",
    "  g = np.zeros(dim, dtype='float64')\n",
    "  # масса внутри сферы радиуса r\n",
    "  m = np.zeros(dim, dtype='float64')\n",
    "  # давление\n",
    "  pressure = np.zeros(dim, dtype='float64')\n",
    "\n",
    "  r[0] = 0.\n",
    "  den[0] = den0\n",
    "  g[0] = 0.\n",
    "  # g1 - производная по радиусу\n",
    "  g1 = 4*pi/3*f*den[0]\n",
    "  # den1, den2 - 1-я и 2-я производные плотности по радиусу.\n",
    "  den1 = 0.\n",
    "  den2 = 0. - a1*g1*pow(den[0], 2/3)\n",
    "  pressure[0] = K1*pow(den[0], 4/3)\n",
    "\n",
    "# Проверяем что газ ультрарелятивистский, q должно быть много больше 1\n",
    "  q = mu*m_prot*pressure[0]/m_elec/c/c/den0\n",
    "\n",
    "  for n in range(dim - 1) :\n",
    "    r[n+1] = r[n] + dr\n",
    "    g[n+1] = g[n] + g1*dr # ряд Тейлора\n",
    "    D1 = den1*dr\n",
    "    D2 = 0.5*den2*dr*dr\n",
    "    # Проверяем что газ ультрарелятивистский, q должно быть много больше 1\n",
    "    q = mu*m_prot*pressure[n]/m_elec/c/c/den[n]\n",
    "    # print(n, den[n], D1, D2, q)\n",
    "    den[n+1] = den[n] + den1*dr + 0.5*den2*dr*dr # ряд Тейлора\n",
    "    if den[n+1] < 1e-5*d : \n",
    "      break\n",
    "    if q > 1 :\n",
    "      den1 = 0. - a1*g[n+1]*pow(den[n+1], 2/3)\n",
    "      g1 = 4*pi*f*den[n+1] - 2*g[n+1]/r[n+1]\n",
    "      den2 = 0. - a1*(g1*pow(den[n+1], 2/3) + 2/3*g[n+1]*pow(den[n+1], -1/3)*den1)\n",
    "      pressure[n+1] = K1*pow(den[n+1], 4/3) # уравнение состояния ультрарел. вырожденного газа\n",
    "    else :\n",
    "      den1 = 0. - a*g[n+1]*pow(den[n+1], 1/3)\n",
    "      g1 = 4*pi*f*den[n+1] - 2*g[n+1]/r[n+1]\n",
    "      den2 = 0. - a*(g1*pow(den[n+1], 1/3) + 1/3*g[n+1]*pow(den[n+1], -2/3)*den1)\n",
    "      pressure[n+1] = K*pow(den[n+1], 5/3) # уравнение состояния нерел. вырожденного газа\n",
    "    m[n+1] = m[n] + 4*pi*r[n]*r[n]*den[n]*dr\n",
    "    M = m[n]/M_sol\n",
    "    R = r[n]/R_sol\n",
    "    N = n\n",
    "\n",
    "  if (N == dim - 2) :\n",
    "    print (\"Error, increase dim!\")\n",
    "    return\n",
    "  den_avg = 3*m[n]/4/pi/pow(r[n], 3)\n",
    "  return N, M, R, r[:N], den[:N], den0/den_avg, q\n",
    "  "
   ]
  },
  {
   "cell_type": "code",
   "execution_count": 0,
   "metadata": {
    "colab": {},
    "colab_type": "code",
    "id": "nxxoqzYmentu"
   },
   "outputs": [],
   "source": [
    "N, M, R, r, den, ratio, q = model_rel(1e10)"
   ]
  },
  {
   "cell_type": "code",
   "execution_count": 0,
   "metadata": {
    "colab": {
     "base_uri": "https://localhost:8080/",
     "height": 276
    },
    "colab_type": "code",
    "id": "C_vIXdHtSTL9",
    "outputId": "a6d5f86d-af68-4758-e528-61527347ddfb"
   },
   "outputs": [
    {
     "data": {
      "image/png": "[encoded data removed]",
      "text/plain": [
       "<Figure size 432x288 with 1 Axes>"
      ]
     },
     "metadata": {
      "needs_background": "light",
      "tags": []
     },
     "output_type": "display_data"
    }
   ],
   "source": [
    "fig = plt.figure()\n",
    "plt.plot(r/R_sol, den, '-')\n",
    "plt.show()"
   ]
  },
  {
   "cell_type": "code",
   "execution_count": 49,
   "metadata": {
    "colab": {
     "base_uri": "https://localhost:8080/",
     "height": 812
    },
    "colab_type": "code",
    "id": "ucy9mA6t7m6X",
    "outputId": "a380b43b-b688-4824-e5ab-bf0144587145"
   },
   "outputs": [
    {
     "name": "stdout",
     "output_type": "stream",
     "text": [
      "den0=100000.000000 M=0.1457 R=0.02325 ratio=6.195\n",
      "den0=177827.941004 M=0.1899 R=0.02107 ratio=6.292\n",
      "den0=316227.766017 M=0.2451 R=0.01907 ratio=6.431\n",
      "den0=562341.325190 M=0.3127 R=0.01724 ratio=6.624\n",
      "den0=1000000.000000 M=0.3929 R=0.01556 ratio=6.891\n",
      "den0=1778279.410039 M=0.4849 R=0.01401 ratio=7.252\n",
      "den0=3162277.660168 M=0.5860 R=0.01259 ratio=7.730\n",
      "den0=5623413.251903 M=0.6927 R=0.01127 ratio=8.348\n",
      "den0=10000000.000000 M=0.8001 R=0.01006 ratio=9.133\n",
      "den0=17782794.100389 M=0.9038 R=0.00894 ratio=10.109\n",
      "den0=31622776.601684 M=0.9999 R=0.00792 ratio=11.287\n",
      "den0=56234132.519035 M=1.0856 R=0.00698 ratio=12.685\n",
      "den0=100000000.000000 M=1.1595 R=0.00613 ratio=14.311\n",
      "den0=177827941.003892 M=1.2213 R=0.00536 ratio=16.158\n",
      "den0=316227766.016838 M=1.2716 R=0.00467 ratio=18.195\n",
      "den0=562341325.190349 M=1.3114 R=0.00405 ratio=20.421\n",
      "den0=1000000000.000000 M=1.3422 R=0.00349 ratio=22.752\n",
      "den0=1778279410.038923 M=1.3654 R=0.00299 ratio=25.154\n",
      "den0=3162277660.168379 M=1.3825 R=0.00256 ratio=27.569\n",
      "den0=5623413251.903491 M=1.3947 R=0.00218 ratio=29.950\n",
      "den0=10000000000.000000 M=1.4031 R=0.00184 ratio=32.118\n",
      "den0=17782794100.389229 M=1.4085 R=0.00155 ratio=34.149\n",
      "den0=31622776601.683792 M=1.4117 R=0.00131 ratio=35.941\n",
      "den0=56234132519.034912 M=1.4130 R=0.00109 ratio=37.463\n"
     ]
    },
    {
     "data": {
      "image/png": "[encoded data removed]",
      "text/plain": [
       "<Figure size 864x432 with 1 Axes>"
      ]
     },
     "metadata": {
      "needs_background": "light",
      "tags": []
     },
     "output_type": "display_data"
    }
   ],
   "source": [
    "dim = 24\n",
    "mm = np.zeros(dim)\n",
    "rr = np.zeros(dim)\n",
    "x = np.zeros(dim)\n",
    "y = np.zeros(dim)\n",
    "d = 1e5\n",
    "for i in range(dim) :\n",
    "  den0 = 1e5*pow(10, 0.25*i)\n",
    "  N, mm[i], rr[i], r, den, ratio = model_gen(den0)\n",
    "  print('den0=%f M=%.4f R=%.5f ratio=%.3f' % (den0, mm[i]/M_sol, rr[i]/R_sol, ratio))\n",
    "  x[i] = math.log10(mm[i]/M_sol)\n",
    "  y[i] = math.log10(rr[i]/R_sol)  \n",
    "plt.figure(figsize=(12, 6))\n",
    "ax = plt.axes()\n",
    "plt.plot(x, y, marker='.', color='red', label='My model')\n",
    "# plt.plot(x, z, marker='.', color='green', label='Theory')\n",
    "# plt.xlim(0,600)\n",
    "# plt.ylim(0, 50)\n",
    "plt.xlabel('lg(M/Msol)')\n",
    "plt.ylabel('lg(R/Rsol)')\n",
    "plt.title('dependence R of M')\n",
    "ax.grid(b=True, which='both')\n",
    "\n",
    "ax.legend(fancybox=True, framealpha=1, shadow=True, borderpad=1);"
   ]
  },
  {
   "cell_type": "code",
   "execution_count": 0,
   "metadata": {
    "colab": {
     "base_uri": "https://localhost:8080/",
     "height": 34
    },
    "colab_type": "code",
    "id": "H5rzr2EXSMMw",
    "outputId": "b227916d-abf0-4cd1-bf5f-f0c2c6656f7b"
   },
   "outputs": [
    {
     "data": {
      "text/plain": [
       "1.2109623124771314e-10"
      ]
     },
     "execution_count": 1,
     "metadata": {
      "tags": []
     },
     "output_type": "execute_result"
    }
   ],
   "source": [
    "h = 1.054E-27 # постоянная Планка\n",
    "c = 3e10 # скорость света\n",
    "f = 6.67E-8 # постоянная гравитации\n",
    "m_prot = 1.67E-24 # масса протона\n",
    "m_elec = 9.11E-28 # масса электрона\n",
    "\n",
    "3.14*h/m_elec/c"
   ]
  },
  {
   "cell_type": "code",
   "execution_count": 0,
   "metadata": {
    "colab": {},
    "colab_type": "code",
    "id": "9oHWhUAPSXnk"
   },
   "outputs": [],
   "source": [
    "Mp = pow(h*c/f, 0.5)"
   ]
  },
  {
   "cell_type": "code",
   "execution_count": 0,
   "metadata": {
    "colab": {
     "base_uri": "https://localhost:8080/",
     "height": 34
    },
    "colab_type": "code",
    "id": "QLQ-FzVYLzvo",
    "outputId": "c92e2545-4cdb-4450-b3f1-9a032209cd76"
   },
   "outputs": [
    {
     "data": {
      "text/plain": [
       "2.1772987128911412e-05"
      ]
     },
     "execution_count": 3,
     "metadata": {
      "tags": []
     },
     "output_type": "execute_result"
    }
   ],
   "source": [
    "Mp\n"
   ]
  },
  {
   "cell_type": "code",
   "execution_count": 0,
   "metadata": {
    "colab": {
     "base_uri": "https://localhost:8080/",
     "height": 34
    },
    "colab_type": "code",
    "id": "yhYKTkizL1xq",
    "outputId": "628e59f5-fff7-4b40-f2ea-20a02e9e2782"
   },
   "outputs": [
    {
     "data": {
      "text/plain": [
       "1.3037716843659528e+19"
      ]
     },
     "execution_count": 4,
     "metadata": {
      "tags": []
     },
     "output_type": "execute_result"
    }
   ],
   "source": [
    "Mp/m_prot\n"
   ]
  },
  {
   "cell_type": "markdown",
   "metadata": {
    "colab_type": "text",
    "id": "Z6PLVc_cNBLg"
   },
   "source": [
    "Модель релятивистского вырожденного электронного газа в гелии (мю = 2)\n",
    "\n",
    "Параметр - плотность в центре (г/см3)\n",
    "\n",
    "Возвращается список:\n",
    "\n",
    "число точек,\n",
    "\n",
    "масса звезды в солнечных массах,\n",
    "\n",
    "радиус звезды в солнечных радиусах,\n",
    "\n",
    "значения расстояний от центра,\n",
    "\n",
    "значения плотности для этих расстояний,\n",
    "\n",
    "отношение плотности в центре к средней плотности."
   ]
  },
  {
   "cell_type": "code",
   "execution_count": 3,
   "metadata": {
    "colab": {},
    "colab_type": "code",
    "id": "VTHE4Xvwjod7"
   },
   "outputs": [],
   "source": [
    "def model_gen(den0, step=1e5) :\n",
    "  h = 1.054E-27 # постоянная Планка\n",
    "  c = 3e10 # скорость света\n",
    "  G = 6.67E-8 # постоянная гравитации\n",
    "  m_prot = 1.67E-24 # масса протона\n",
    "  m_elec = 9.11E-28 # масса электрона\n",
    "  pi = math.pi # 3.14...\n",
    "  mu = 2. # молекулярный вес в случае гелия - 2 электрона на 4 нуклона. \n",
    "  K = pow(m_elec, 4)*pow(c, 5)*pow(pi, -2)*pow(h, -3)\n",
    "  a = pow(3, 1/3)*pow(pi, 2/3)*h/m_elec/c\n",
    "\n",
    "  def f(x):\n",
    "    return x*x*(pow(1 + x*x, 0.5) - 1)\n",
    "\n",
    "  def f1(x):\n",
    "    return 2*x*(pow(1 + x*x, 0.5) - 1) + pow(x, 3)*pow(1 + x*x, -0.5)\n",
    "\n",
    "  def F(x) :\n",
    "    if x < 0.05 :\n",
    "      return 0.1 * pow(x, 5)\n",
    "    if x > 20 :\n",
    "      return 0.25*pow(x, 4) - 1/3*pow(x, 3) + 0.25*pow(x, 2)\n",
    "    N = 100\n",
    "    y = np.linspace(0, x, N+1)\n",
    "    s = 0\n",
    "    for i in range(N+1) :\n",
    "      if (i % N == 0) :\n",
    "        s += f(y[i])\n",
    "      elif (i % 2) :\n",
    "        s += 4*f(y[i])\n",
    "      else :\n",
    "        s += 2*f(y[i])\n",
    "    return s*x/N/3\n",
    "\n",
    "  # длины массивов данных\n",
    "  dim = 30000\n",
    "  # шаг по радиусу\n",
    "  dr = step  \n",
    "  # расстояние до центра\n",
    "  r = np.zeros(dim, dtype='float64')\n",
    "  # плотность\n",
    "  den = np.zeros(dim, dtype='float64')\n",
    "  # ускорение свободного падения\n",
    "  g = np.zeros(dim, dtype='float64')\n",
    "  # масса внутри сферы радиуса r\n",
    "  m = np.zeros(dim, dtype='float64')\n",
    "  # давление\n",
    "  pressure = np.zeros(dim, dtype='float64')\n",
    "\n",
    "  r[0] = 0.\n",
    "  den[0] = den0\n",
    "  g[0] = 0.\n",
    "  # g1 - производная по радиусу\n",
    "  g1 = 4*pi/3*G*den[0]\n",
    "  # den1, den2 - 1-я и 2-я производные плотности по радиусу.\n",
    "  den1 = 0.\n",
    "  nn = den[0]/mu/m_prot\n",
    "  x = a*pow(nn, 1/3)\n",
    "  pressure[0] = K*(a/3*pow(nn, 1/3)*f(x) - F(x))\n",
    "\n",
    "  for n in range(dim - 1) :\n",
    "    r[n+1] = r[n] + dr\n",
    "    g[n+1] = g[n] + g1*dr # ряд Тейлора\n",
    "    D1 = den1*dr\n",
    "    # D2 = 0.5*den2*dr*dr\n",
    "    # Проверяем что газ ультрарелятивистский, q должно быть много больше 1\n",
    "    # q = mu*m_prot*pressure[n]/m_elec/c/c/den[n]\n",
    "    # print(n, den[n], D1, D2, q)\n",
    "    den[n+1] = den[n] + den1*dr # + 0.5*den2*dr*dr # ряд Тейлора\n",
    "    if den[n+1] < 1e-5*den0 : \n",
    "      break\n",
    "    nn = den[n+1]/mu/m_prot\n",
    "    x = a*pow(nn, 1/3) \n",
    "    dpdn = K*(a*a/9*pow(nn, -1/3)*f1(x) - 2/9*a*pow(nn, -2/3)*f(x))\n",
    "    den1 = 0. - mu*m_prot*den[n+1]*g[n+1]/dpdn\n",
    "    g1 = 4*pi*G*den[n+1] - 2*g[n+1]/r[n+1]\n",
    "    pressure[n+1] = K*(a/3*pow(nn, 1/3)*f(x) - F(x))\n",
    "    m[n+1] = m[n] + 4*pi*r[n]*r[n]*den[n]*dr\n",
    "    M = m[n]\n",
    "    R = r[n]\n",
    "    N = n\n",
    "\n",
    "  if (N == dim - 2) :\n",
    "    print (\"Error, increase dim!\")\n",
    "    return\n",
    "  den_avg = 3*m[n]/4/pi/pow(r[n], 3)\n",
    "  return N, M, R, r[:N], den[:N], den0/den_avg"
   ]
  },
  {
   "cell_type": "code",
   "execution_count": 0,
   "metadata": {
    "colab": {},
    "colab_type": "code",
    "id": "lSV01xRDUANo"
   },
   "outputs": [],
   "source": []
  },
  {
   "cell_type": "code",
   "execution_count": 0,
   "metadata": {
    "colab": {},
    "colab_type": "code",
    "id": "Bz78kRUZNi-n"
   },
   "outputs": [],
   "source": [
    "def F(x) :\n",
    "  def f(x) :\n",
    "    return (pow(1 + x*x, 0.5) - 1)*x*x\n",
    "  if x < 0.05 :\n",
    "    return 0.1 * pow(x, 5)\n",
    "  if x > 20 :\n",
    "    return 0.25*pow(x, 4) - 1/3*pow(x, 3) + 0.25*pow(x, 2)\n",
    "  N = 100\n",
    "  y = np.linspace(0, x, N+1)\n",
    "  s = 0\n",
    "  for i in range(N+1) :\n",
    "    if (i % N == 0) :\n",
    "      s += f(y[i])\n",
    "    elif (i % 2) :\n",
    "      s += 4*f(y[i])\n",
    "    else :\n",
    "      s += 2*f(y[i])\n",
    "  return s*x/N/3"
   ]
  },
  {
   "cell_type": "code",
   "execution_count": 5,
   "metadata": {
    "colab": {
     "base_uri": "https://localhost:8080/",
     "height": 276
    },
    "colab_type": "code",
    "id": "YMhdHRjLQab8",
    "outputId": "c7b7ce43-ecdc-4552-ef79-975acddcfcb3"
   },
   "outputs": [
    {
     "data": {
      "image/png": "[encoded data removed]",
      "text/plain": [
       "<Figure size 432x288 with 1 Axes>"
      ]
     },
     "metadata": {
      "needs_background": "light"
     },
     "output_type": "display_data"
    }
   ],
   "source": [
    "M_sol = 2e33 # масса Солнца\n",
    "R_sol = 7e10 # радиус Солнца\n",
    "\n",
    "N, M, R, r, den, ratio = model_gen(1e10)\n",
    "fig = plt.figure()\n",
    "plt.plot(r/R_sol, den, '-')\n",
    "plt.show()"
   ]
  },
  {
   "cell_type": "code",
   "execution_count": 6,
   "metadata": {
    "colab": {
     "base_uri": "https://localhost:8080/",
     "height": 1000
    },
    "colab_type": "code",
    "id": "ITlEyUdhTRR0",
    "outputId": "e9a11560-b7db-45eb-f49b-c11f00cd61cb"
   },
   "outputs": [
    {
     "name": "stdout",
     "output_type": "stream",
     "text": [
      "den0=1.000e+05 M=0.1457 R=0.02325 ratio=6.195 N=16273\n",
      "den0=1.778e+05 M=0.1899 R=0.02107 ratio=6.293 N=16802\n",
      "den0=3.162e+05 M=0.2451 R=0.01907 ratio=6.432 N=17330\n",
      "den0=5.623e+05 M=0.3127 R=0.01724 ratio=6.625 N=17850\n",
      "den0=1.000e+06 M=0.3930 R=0.01556 ratio=6.892 N=18354\n",
      "den0=1.778e+06 M=0.4849 R=0.01402 ratio=7.254 N=18831\n",
      "den0=3.162e+06 M=0.5861 R=0.01259 ratio=7.734 N=19270\n",
      "den0=5.623e+06 M=0.6928 R=0.01127 ratio=8.355 N=19659\n",
      "den0=1.000e+07 M=0.8003 R=0.01006 ratio=9.142 N=19989\n",
      "den0=1.778e+07 M=0.9041 R=0.00895 ratio=10.118 N=20250\n",
      "den0=3.162e+07 M=1.0004 R=0.00792 ratio=11.301 N=20435\n",
      "den0=5.623e+07 M=1.0863 R=0.00699 ratio=12.704 N=20537\n",
      "den0=1.000e+08 M=1.1604 R=0.00614 ratio=14.334 N=20553\n",
      "den0=1.778e+08 M=1.2225 R=0.00537 ratio=16.186 N=20479\n",
      "den0=3.162e+08 M=1.2731 R=0.00468 ratio=18.239 N=20313\n",
      "den0=5.623e+08 M=1.3134 R=0.00405 ratio=20.471 N=20058\n",
      "den0=1.000e+09 M=1.3447 R=0.00350 ratio=22.828 N=19714\n",
      "den0=1.778e+09 M=1.3686 R=0.00300 ratio=25.261 N=19288\n",
      "den0=3.162e+09 M=1.3865 R=0.00257 ratio=27.709 N=18787\n",
      "den0=5.623e+09 M=1.3998 R=0.00218 ratio=30.098 N=18218\n",
      "den0=1.000e+10 M=1.4094 R=0.00185 ratio=32.367 N=17592\n",
      "den0=1.778e+10 M=1.4163 R=0.00156 ratio=34.462 N=16920\n",
      "den0=3.162e+10 M=1.4212 R=0.00131 ratio=36.343 N=16214\n",
      "den0=5.623e+10 M=1.4247 R=0.00110 ratio=37.971 N=15484\n",
      "den0=1.000e+11 M=1.4271 R=0.00092 ratio=39.341 N=14742\n",
      "den0=1.778e+11 M=1.4287 R=0.00077 ratio=40.456 N=13998\n",
      "den0=3.162e+11 M=1.4298 R=0.00064 ratio=41.331 N=13261\n",
      "den0=5.623e+11 M=1.4306 R=0.00053 ratio=42.006 N=12540\n",
      "den0=1.000e+12 M=1.4311 R=0.00044 ratio=42.504 N=11840\n"
     ]
    },
    {
     "data": {
      "image/png": "[encoded data removed]",
      "text/plain": [
       "<Figure size 720x720 with 1 Axes>"
      ]
     },
     "metadata": {
      "needs_background": "light"
     },
     "output_type": "display_data"
    }
   ],
   "source": [
    "dim = 29\n",
    "mm = np.zeros(dim)\n",
    "rr = np.zeros(dim)\n",
    "x = np.zeros(dim)\n",
    "y = np.zeros(dim)\n",
    "d = 1e5\n",
    "for i in range(dim) :\n",
    "  den0 = 1e5*pow(10, 0.25*i)\n",
    "  step = 1e5*pow(10, -math.log10(50)/30*i)\n",
    "  N, mm[i], rr[i], r, den, ratio = model_gen(den0, step)\n",
    "  print('den0=%.3e M=%.4f R=%.5f ratio=%.3f N=%d' % (den0, mm[i]/M_sol, rr[i]/R_sol, ratio, N))\n",
    "  x[i] = math.log10(mm[i]/M_sol)\n",
    "  y[i] = math.log10(rr[i]/R_sol)  \n",
    "plt.figure(figsize=(10, 10))\n",
    "ax = plt.axes()\n",
    "plt.plot(x, y, marker='.', color='red', label='My model')\n",
    "# plt.plot(x, z, marker='.', color='green', label='Theory')\n",
    "# plt.xlim(0,600)\n",
    "# plt.ylim(0, 50)\n",
    "plt.xlabel('lg(M/Msol)')\n",
    "plt.ylabel('lg(R/Rsol)')\n",
    "plt.title('dependence R of M')\n",
    "ax.grid(b=True, which='both')\n",
    "\n",
    "ax.legend(fancybox=True, framealpha=1, shadow=True, borderpad=1);"
   ]
  },
  {
   "cell_type": "code",
   "execution_count": 7,
   "metadata": {
    "colab": {
     "base_uri": "https://localhost:8080/",
     "height": 621
    },
    "colab_type": "code",
    "id": "MfmMm5BSNouk",
    "outputId": "f5a26c8e-588a-4c79-8163-8dec467d01fa"
   },
   "outputs": [
    {
     "data": {
      "image/png": "[encoded data removed]",
      "text/plain": [
       "<Figure size 720x720 with 1 Axes>"
      ]
     },
     "metadata": {
      "needs_background": "light"
     },
     "output_type": "display_data"
    }
   ],
   "source": [
    "plt.figure(figsize=(10, 10))\n",
    "ax = plt.axes()\n",
    "plt.plot(x, y, marker='.', color='red', label='My model')\n",
    "# plt.plot(x, z, marker='.', color='green', label='Theory')\n",
    "plt.xlim(-0.8,+0.8)\n",
    "# plt.ylim(0, 50)\n",
    "plt.xlabel('lg(M/Msol)')\n",
    "plt.ylabel('lg(R/Rsol)')\n",
    "plt.title('dependence R of M')\n",
    "ax.grid(b=True, which='both')\n",
    "\n",
    "ax.legend(fancybox=True, framealpha=1, shadow=True, borderpad=1);"
   ]
  },
  {
   "cell_type": "code",
   "execution_count": null,
   "metadata": {},
   "outputs": [],
   "source": []
  }
 ],
 "metadata": {
  "colab": {
   "collapsed_sections": [],
   "name": "White_Dwarf.ipynb",
   "provenance": []
  },
  "kernelspec": {
   "display_name": "Python 3",
   "language": "python",
   "name": "python3"
  },
  "language_info": {
   "codemirror_mode": {
    "name": "ipython",
    "version": 3
   },
   "file_extension": ".py",
   "mimetype": "text/x-python",
   "name": "python",
   "nbconvert_exporter": "python",
   "pygments_lexer": "ipython3",
   "version": "3.7.4"
  }
 },
 "nbformat": 4,
 "nbformat_minor": 1
}
